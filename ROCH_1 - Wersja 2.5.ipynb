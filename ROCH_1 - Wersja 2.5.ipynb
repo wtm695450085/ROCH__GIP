{
 "cells": [
  {
   "cell_type": "markdown",
   "metadata": {},
   "source": [
    "<span style=\"font-size: 150%;color:white;background:#1155cc\"> A task for the recruitment process\n",
    "\n",
    "<span style=\"font-size: 150%;color:white;background:red\">Wojciech Moszczyński\n",
    "\n",
    "\n",
    "\n",
    "<span style=\"font-size: 300%;color:white;background:black\">machine learning   \n",
    "    \n",
    "    from:\n",
    "https://archive.ics.uci.edu/ml/datasets/Sales_Transactions_Dataset_Weekly.\n",
    "\n",
    "Please load the data set from:\n",
    "https://archive.ics.uci.edu/ml/datasets/Sales_Transactions_Dataset_Weekly.\n",
    "For the first 10 products, please conduct the exploratory analysis and compute the forecast for the next 7 weeks.  \n",
    "\n",
    "<span style=\"font-size: 150%;background: white;font-weight:normal;color:#1155cc\"> For the first 10 products, please conduct the exploratory analysis and compute the forecast for the next 7 weeks.  "
   ]
  },
  {
   "cell_type": "code",
   "execution_count": 1,
   "metadata": {},
   "outputs": [],
   "source": [
    "import pandas as pd\n",
    "import numpy as np\n",
    "%matplotlib inline\n",
    "import seaborn as sns\n",
    "import matplotlib.pyplot as plt\n",
    "\n",
    "import warnings \n",
    "warnings.filterwarnings(\"ignore\")\n",
    "\n",
    "from sklearn.metrics import mean_squared_log_error\n",
    "from sklearn.ensemble import RandomForestRegressor\n",
    "from lightgbm import LGBMRegressor"
   ]
  },
  {
   "cell_type": "markdown",
   "metadata": {},
   "source": [
    "<span style=\"font-size: 110%;background: white;font-weight:normal;color:#1155cc\">I download data - I do not need standardized sales because the primary data is enough for me."
   ]
  },
  {
   "cell_type": "code",
   "execution_count": 2,
   "metadata": {},
   "outputs": [
    {
     "data": {
      "text/html": [
       "<div>\n",
       "<style scoped>\n",
       "    .dataframe tbody tr th:only-of-type {\n",
       "        vertical-align: middle;\n",
       "    }\n",
       "\n",
       "    .dataframe tbody tr th {\n",
       "        vertical-align: top;\n",
       "    }\n",
       "\n",
       "    .dataframe thead th {\n",
       "        text-align: right;\n",
       "    }\n",
       "</style>\n",
       "<table border=\"1\" class=\"dataframe\">\n",
       "  <thead>\n",
       "    <tr style=\"text-align: right;\">\n",
       "      <th></th>\n",
       "      <th>Product_Code</th>\n",
       "      <th>W0</th>\n",
       "      <th>W1</th>\n",
       "      <th>W2</th>\n",
       "      <th>W3</th>\n",
       "      <th>W4</th>\n",
       "      <th>W5</th>\n",
       "      <th>W6</th>\n",
       "      <th>W7</th>\n",
       "      <th>W8</th>\n",
       "      <th>...</th>\n",
       "      <th>W42</th>\n",
       "      <th>W43</th>\n",
       "      <th>W44</th>\n",
       "      <th>W45</th>\n",
       "      <th>W46</th>\n",
       "      <th>W47</th>\n",
       "      <th>W48</th>\n",
       "      <th>W49</th>\n",
       "      <th>W50</th>\n",
       "      <th>W51</th>\n",
       "    </tr>\n",
       "  </thead>\n",
       "  <tbody>\n",
       "    <tr>\n",
       "      <td>806</td>\n",
       "      <td>P815</td>\n",
       "      <td>0</td>\n",
       "      <td>0</td>\n",
       "      <td>1</td>\n",
       "      <td>0</td>\n",
       "      <td>0</td>\n",
       "      <td>2</td>\n",
       "      <td>1</td>\n",
       "      <td>0</td>\n",
       "      <td>0</td>\n",
       "      <td>...</td>\n",
       "      <td>0</td>\n",
       "      <td>1</td>\n",
       "      <td>1</td>\n",
       "      <td>0</td>\n",
       "      <td>0</td>\n",
       "      <td>1</td>\n",
       "      <td>0</td>\n",
       "      <td>0</td>\n",
       "      <td>2</td>\n",
       "      <td>0</td>\n",
       "    </tr>\n",
       "    <tr>\n",
       "      <td>807</td>\n",
       "      <td>P816</td>\n",
       "      <td>0</td>\n",
       "      <td>1</td>\n",
       "      <td>0</td>\n",
       "      <td>0</td>\n",
       "      <td>1</td>\n",
       "      <td>2</td>\n",
       "      <td>2</td>\n",
       "      <td>6</td>\n",
       "      <td>0</td>\n",
       "      <td>...</td>\n",
       "      <td>3</td>\n",
       "      <td>3</td>\n",
       "      <td>4</td>\n",
       "      <td>2</td>\n",
       "      <td>4</td>\n",
       "      <td>5</td>\n",
       "      <td>5</td>\n",
       "      <td>5</td>\n",
       "      <td>6</td>\n",
       "      <td>5</td>\n",
       "    </tr>\n",
       "    <tr>\n",
       "      <td>808</td>\n",
       "      <td>P817</td>\n",
       "      <td>1</td>\n",
       "      <td>0</td>\n",
       "      <td>0</td>\n",
       "      <td>0</td>\n",
       "      <td>1</td>\n",
       "      <td>1</td>\n",
       "      <td>2</td>\n",
       "      <td>1</td>\n",
       "      <td>1</td>\n",
       "      <td>...</td>\n",
       "      <td>2</td>\n",
       "      <td>0</td>\n",
       "      <td>0</td>\n",
       "      <td>2</td>\n",
       "      <td>2</td>\n",
       "      <td>0</td>\n",
       "      <td>0</td>\n",
       "      <td>0</td>\n",
       "      <td>4</td>\n",
       "      <td>3</td>\n",
       "    </tr>\n",
       "    <tr>\n",
       "      <td>809</td>\n",
       "      <td>P818</td>\n",
       "      <td>0</td>\n",
       "      <td>0</td>\n",
       "      <td>0</td>\n",
       "      <td>1</td>\n",
       "      <td>0</td>\n",
       "      <td>0</td>\n",
       "      <td>0</td>\n",
       "      <td>0</td>\n",
       "      <td>1</td>\n",
       "      <td>...</td>\n",
       "      <td>0</td>\n",
       "      <td>0</td>\n",
       "      <td>0</td>\n",
       "      <td>1</td>\n",
       "      <td>1</td>\n",
       "      <td>0</td>\n",
       "      <td>0</td>\n",
       "      <td>0</td>\n",
       "      <td>2</td>\n",
       "      <td>0</td>\n",
       "    </tr>\n",
       "    <tr>\n",
       "      <td>810</td>\n",
       "      <td>P819</td>\n",
       "      <td>0</td>\n",
       "      <td>1</td>\n",
       "      <td>0</td>\n",
       "      <td>0</td>\n",
       "      <td>0</td>\n",
       "      <td>0</td>\n",
       "      <td>0</td>\n",
       "      <td>0</td>\n",
       "      <td>0</td>\n",
       "      <td>...</td>\n",
       "      <td>0</td>\n",
       "      <td>0</td>\n",
       "      <td>0</td>\n",
       "      <td>0</td>\n",
       "      <td>0</td>\n",
       "      <td>0</td>\n",
       "      <td>0</td>\n",
       "      <td>0</td>\n",
       "      <td>0</td>\n",
       "      <td>1</td>\n",
       "    </tr>\n",
       "  </tbody>\n",
       "</table>\n",
       "<p>5 rows × 53 columns</p>\n",
       "</div>"
      ],
      "text/plain": [
       "    Product_Code  W0  W1  W2  W3  W4  W5  W6  W7  W8  ...  W42  W43  W44  W45  \\\n",
       "806         P815   0   0   1   0   0   2   1   0   0  ...    0    1    1    0   \n",
       "807         P816   0   1   0   0   1   2   2   6   0  ...    3    3    4    2   \n",
       "808         P817   1   0   0   0   1   1   2   1   1  ...    2    0    0    2   \n",
       "809         P818   0   0   0   1   0   0   0   0   1  ...    0    0    0    1   \n",
       "810         P819   0   1   0   0   0   0   0   0   0  ...    0    0    0    0   \n",
       "\n",
       "     W46  W47  W48  W49  W50  W51  \n",
       "806    0    1    0    0    2    0  \n",
       "807    4    5    5    5    6    5  \n",
       "808    2    0    0    0    4    3  \n",
       "809    1    0    0    0    2    0  \n",
       "810    0    0    0    0    0    1  \n",
       "\n",
       "[5 rows x 53 columns]"
      ]
     },
     "execution_count": 2,
     "metadata": {},
     "output_type": "execute_result"
    }
   ],
   "source": [
    "cols = pd.read_csv(\"/media/wojciech/D6DE33C1DE339927/1A/Sales_Transactions_Dataset_Weekly.csv\", nrows=1).columns\n",
    "df = pd.read_csv(\"/media/wojciech/D6DE33C1DE339927/1A/Sales_Transactions_Dataset_Weekly.csv\", usecols=cols[:53])\n",
    "df.tail()"
   ]
  },
  {
   "cell_type": "markdown",
   "metadata": {},
   "source": [
    "<span style=\"font-size: 110%;background: white;font-weight:normal;color:#1155cc\">I remember having to make a forecast for the first 10 products. The time series is too small to forecast. Only 52 values (52 weeks) is not a time series that allows you to build an effective forecasting model. In turn, there are as many as 811 products, which is a lot. This can be changed by entering the item index as a single independent variable.\n",
    "Then we will get 811 times 52 variables = 42172 rows which gives a considerable number to do a forecasting model. Rule of thumb - even though I only have to forecast for the first 10 items - I am making a model for all 811 items."
   ]
  },
  {
   "cell_type": "code",
   "execution_count": 3,
   "metadata": {},
   "outputs": [
    {
     "data": {
      "text/plain": [
       "(811, 53)"
      ]
     },
     "execution_count": 3,
     "metadata": {},
     "output_type": "execute_result"
    }
   ],
   "source": [
    "df.shape"
   ]
  },
  {
   "cell_type": "code",
   "execution_count": 4,
   "metadata": {},
   "outputs": [
    {
     "data": {
      "text/html": [
       "<div>\n",
       "<style scoped>\n",
       "    .dataframe tbody tr th:only-of-type {\n",
       "        vertical-align: middle;\n",
       "    }\n",
       "\n",
       "    .dataframe tbody tr th {\n",
       "        vertical-align: top;\n",
       "    }\n",
       "\n",
       "    .dataframe thead th {\n",
       "        text-align: right;\n",
       "    }\n",
       "</style>\n",
       "<table border=\"1\" class=\"dataframe\">\n",
       "  <thead>\n",
       "    <tr style=\"text-align: right;\">\n",
       "      <th></th>\n",
       "      <th>Product_Code</th>\n",
       "      <th>Week</th>\n",
       "      <th>Sales</th>\n",
       "    </tr>\n",
       "  </thead>\n",
       "  <tbody>\n",
       "    <tr>\n",
       "      <td>0</td>\n",
       "      <td>P1</td>\n",
       "      <td>W0</td>\n",
       "      <td>11</td>\n",
       "    </tr>\n",
       "    <tr>\n",
       "      <td>1</td>\n",
       "      <td>P2</td>\n",
       "      <td>W0</td>\n",
       "      <td>7</td>\n",
       "    </tr>\n",
       "    <tr>\n",
       "      <td>2</td>\n",
       "      <td>P3</td>\n",
       "      <td>W0</td>\n",
       "      <td>7</td>\n",
       "    </tr>\n",
       "    <tr>\n",
       "      <td>3</td>\n",
       "      <td>P4</td>\n",
       "      <td>W0</td>\n",
       "      <td>12</td>\n",
       "    </tr>\n",
       "    <tr>\n",
       "      <td>4</td>\n",
       "      <td>P5</td>\n",
       "      <td>W0</td>\n",
       "      <td>8</td>\n",
       "    </tr>\n",
       "    <tr>\n",
       "      <td>...</td>\n",
       "      <td>...</td>\n",
       "      <td>...</td>\n",
       "      <td>...</td>\n",
       "    </tr>\n",
       "    <tr>\n",
       "      <td>42167</td>\n",
       "      <td>P815</td>\n",
       "      <td>W51</td>\n",
       "      <td>0</td>\n",
       "    </tr>\n",
       "    <tr>\n",
       "      <td>42168</td>\n",
       "      <td>P816</td>\n",
       "      <td>W51</td>\n",
       "      <td>5</td>\n",
       "    </tr>\n",
       "    <tr>\n",
       "      <td>42169</td>\n",
       "      <td>P817</td>\n",
       "      <td>W51</td>\n",
       "      <td>3</td>\n",
       "    </tr>\n",
       "    <tr>\n",
       "      <td>42170</td>\n",
       "      <td>P818</td>\n",
       "      <td>W51</td>\n",
       "      <td>0</td>\n",
       "    </tr>\n",
       "    <tr>\n",
       "      <td>42171</td>\n",
       "      <td>P819</td>\n",
       "      <td>W51</td>\n",
       "      <td>1</td>\n",
       "    </tr>\n",
       "  </tbody>\n",
       "</table>\n",
       "<p>42172 rows × 3 columns</p>\n",
       "</div>"
      ],
      "text/plain": [
       "      Product_Code Week  Sales\n",
       "0               P1   W0     11\n",
       "1               P2   W0      7\n",
       "2               P3   W0      7\n",
       "3               P4   W0     12\n",
       "4               P5   W0      8\n",
       "...            ...  ...    ...\n",
       "42167         P815  W51      0\n",
       "42168         P816  W51      5\n",
       "42169         P817  W51      3\n",
       "42170         P818  W51      0\n",
       "42171         P819  W51      1\n",
       "\n",
       "[42172 rows x 3 columns]"
      ]
     },
     "execution_count": 4,
     "metadata": {},
     "output_type": "execute_result"
    }
   ],
   "source": [
    "df2 = df.melt(id_vars='Product_Code', var_name='Week', value_name='Sales')\n",
    "df2"
   ]
  },
  {
   "cell_type": "markdown",
   "metadata": {},
   "source": [
    "<span style=\"font-size: 110%;background: white;font-weight:normal;color:#1155cc\">The data is complete"
   ]
  },
  {
   "cell_type": "code",
   "execution_count": 5,
   "metadata": {},
   "outputs": [
    {
     "data": {
      "text/plain": [
       "<matplotlib.axes._subplots.AxesSubplot at 0x7fcba74dcb50>"
      ]
     },
     "execution_count": 5,
     "metadata": {},
     "output_type": "execute_result"
    },
    {
     "data": {
      "image/png": "[encoded data removed]",
      "text/plain": [
       "<Figure size 432x288 with 1 Axes>"
      ]
     },
     "metadata": {
      "needs_background": "light"
     },
     "output_type": "display_data"
    }
   ],
   "source": [
    "sns.heatmap(df2.isnull(),yticklabels=False,cbar=False,cmap='viridis')"
   ]
  },
  {
   "cell_type": "markdown",
   "metadata": {},
   "source": [
    "<span style=\"font-size: 210%;background: white;font-weight:normal;color:#1155cc\"> Removal of the letters W and P\n",
    "    \n",
    "<span style=\"font-size: 110%;background: white;font-weight:normal;color:#1155cc\">I want to have everything in numeric format for text-based databases because I'm going to be using the data to build forecasting models."
   ]
  },
  {
   "cell_type": "code",
   "execution_count": 6,
   "metadata": {},
   "outputs": [
    {
     "data": {
      "text/html": [
       "<div>\n",
       "<style scoped>\n",
       "    .dataframe tbody tr th:only-of-type {\n",
       "        vertical-align: middle;\n",
       "    }\n",
       "\n",
       "    .dataframe tbody tr th {\n",
       "        vertical-align: top;\n",
       "    }\n",
       "\n",
       "    .dataframe thead th {\n",
       "        text-align: right;\n",
       "    }\n",
       "</style>\n",
       "<table border=\"1\" class=\"dataframe\">\n",
       "  <thead>\n",
       "    <tr style=\"text-align: right;\">\n",
       "      <th></th>\n",
       "      <th>Product_Code</th>\n",
       "      <th>Week</th>\n",
       "      <th>Sales</th>\n",
       "    </tr>\n",
       "  </thead>\n",
       "  <tbody>\n",
       "    <tr>\n",
       "      <td>0</td>\n",
       "      <td>1</td>\n",
       "      <td>0</td>\n",
       "      <td>11</td>\n",
       "    </tr>\n",
       "    <tr>\n",
       "      <td>1</td>\n",
       "      <td>2</td>\n",
       "      <td>0</td>\n",
       "      <td>7</td>\n",
       "    </tr>\n",
       "    <tr>\n",
       "      <td>2</td>\n",
       "      <td>3</td>\n",
       "      <td>0</td>\n",
       "      <td>7</td>\n",
       "    </tr>\n",
       "    <tr>\n",
       "      <td>3</td>\n",
       "      <td>4</td>\n",
       "      <td>0</td>\n",
       "      <td>12</td>\n",
       "    </tr>\n",
       "    <tr>\n",
       "      <td>4</td>\n",
       "      <td>5</td>\n",
       "      <td>0</td>\n",
       "      <td>8</td>\n",
       "    </tr>\n",
       "    <tr>\n",
       "      <td>...</td>\n",
       "      <td>...</td>\n",
       "      <td>...</td>\n",
       "      <td>...</td>\n",
       "    </tr>\n",
       "    <tr>\n",
       "      <td>42167</td>\n",
       "      <td>815</td>\n",
       "      <td>51</td>\n",
       "      <td>0</td>\n",
       "    </tr>\n",
       "    <tr>\n",
       "      <td>42168</td>\n",
       "      <td>816</td>\n",
       "      <td>51</td>\n",
       "      <td>5</td>\n",
       "    </tr>\n",
       "    <tr>\n",
       "      <td>42169</td>\n",
       "      <td>817</td>\n",
       "      <td>51</td>\n",
       "      <td>3</td>\n",
       "    </tr>\n",
       "    <tr>\n",
       "      <td>42170</td>\n",
       "      <td>818</td>\n",
       "      <td>51</td>\n",
       "      <td>0</td>\n",
       "    </tr>\n",
       "    <tr>\n",
       "      <td>42171</td>\n",
       "      <td>819</td>\n",
       "      <td>51</td>\n",
       "      <td>1</td>\n",
       "    </tr>\n",
       "  </tbody>\n",
       "</table>\n",
       "<p>42172 rows × 3 columns</p>\n",
       "</div>"
      ],
      "text/plain": [
       "       Product_Code  Week  Sales\n",
       "0                 1     0     11\n",
       "1                 2     0      7\n",
       "2                 3     0      7\n",
       "3                 4     0     12\n",
       "4                 5     0      8\n",
       "...             ...   ...    ...\n",
       "42167           815    51      0\n",
       "42168           816    51      5\n",
       "42169           817    51      3\n",
       "42170           818    51      0\n",
       "42171           819    51      1\n",
       "\n",
       "[42172 rows x 3 columns]"
      ]
     },
     "execution_count": 6,
     "metadata": {},
     "output_type": "execute_result"
    }
   ],
   "source": [
    "df2.Product_Code = df2.Product_Code.str.replace('P', '').astype(int)\n",
    "df2.Week = df2.Week.str.replace('W', '').astype(int)\n",
    "df2"
   ]
  },
  {
   "cell_type": "code",
   "execution_count": 7,
   "metadata": {},
   "outputs": [
    {
     "data": {
      "text/plain": [
       "Product_Code    int64\n",
       "Week            int64\n",
       "Sales           int64\n",
       "dtype: object"
      ]
     },
     "execution_count": 7,
     "metadata": {},
     "output_type": "execute_result"
    }
   ],
   "source": [
    "df2.dtypes"
   ]
  },
  {
   "cell_type": "code",
   "execution_count": 8,
   "metadata": {},
   "outputs": [
    {
     "name": "stdout",
     "output_type": "stream",
     "text": [
      "max: 73\n",
      "min: 0\n"
     ]
    },
    {
     "data": {
      "text/plain": [
       "<matplotlib.axes._subplots.AxesSubplot at 0x7fcba4f24990>"
      ]
     },
     "execution_count": 8,
     "metadata": {},
     "output_type": "execute_result"
    },
    {
     "data": {
      "image/png": "[encoded data removed]",
      "text/plain": [
       "<Figure size 432x288 with 1 Axes>"
      ]
     },
     "metadata": {
      "needs_background": "light"
     },
     "output_type": "display_data"
    }
   ],
   "source": [
    "print('max:',df2['Sales'].max())\n",
    "print('min:',df2['Sales'].min())\n",
    "\n",
    "sns.distplot(np.array(df2['Sales']))"
   ]
  },
  {
   "cell_type": "markdown",
   "metadata": {},
   "source": [
    "<span style=\"font-size: 110%;background: white;font-weight:normal;color:#1155cc\">The population is not normally distributed, but I don't need to have the resultant populations in the normal distribution. It is recommended but not required. Therefore, I am not going to standardize the result variables."
   ]
  },
  {
   "cell_type": "code",
   "execution_count": 9,
   "metadata": {},
   "outputs": [
    {
     "data": {
      "text/plain": [
       "(42172, 3)"
      ]
     },
     "execution_count": 9,
     "metadata": {},
     "output_type": "execute_result"
    }
   ],
   "source": [
    "df2.shape"
   ]
  },
  {
   "cell_type": "markdown",
   "metadata": {},
   "source": [
    "<span style=\"font-size: 110%;background: white;font-weight:normal;color:#1155cc\">Then we will get 811 times 52 variables = 42172 rows which gives a considerable number to do a forecasting model."
   ]
  },
  {
   "cell_type": "markdown",
   "metadata": {},
   "source": [
    "<span style=\"font-size: 210%;background: white;font-weight:normal;color:#1155cc\"> We create additional synthetic variables\n",
    "    \n",
    "<span style=\"font-size: 110%;background: white;font-weight:normal;color:#1155cc\">Now I create synthetic variables, i.e. independent variables that do not exist but are made of existing independent variables. Since we have practically no variable except the week number and the commodity index, we create synthetic variables from the result variable. These variables are a shift of the price one or several weeks back and the difference between the previous and the current price."
   ]
  },
  {
   "cell_type": "code",
   "execution_count": 10,
   "metadata": {},
   "outputs": [
    {
     "data": {
      "text/html": [
       "<div>\n",
       "<style scoped>\n",
       "    .dataframe tbody tr th:only-of-type {\n",
       "        vertical-align: middle;\n",
       "    }\n",
       "\n",
       "    .dataframe tbody tr th {\n",
       "        vertical-align: top;\n",
       "    }\n",
       "\n",
       "    .dataframe thead th {\n",
       "        text-align: right;\n",
       "    }\n",
       "</style>\n",
       "<table border=\"1\" class=\"dataframe\">\n",
       "  <thead>\n",
       "    <tr style=\"text-align: right;\">\n",
       "      <th></th>\n",
       "      <th>Product_Code</th>\n",
       "      <th>Week</th>\n",
       "      <th>Sales</th>\n",
       "      <th>Sales_last_1_week</th>\n",
       "      <th>Sales_last_2_week</th>\n",
       "      <th>Sales_last_3_week</th>\n",
       "      <th>Sales_last_4_week</th>\n",
       "      <th>Sales_last_5_week</th>\n",
       "      <th>Sales_last_6_week</th>\n",
       "      <th>Sales_last_7_week</th>\n",
       "    </tr>\n",
       "  </thead>\n",
       "  <tbody>\n",
       "    <tr>\n",
       "      <td>0</td>\n",
       "      <td>1</td>\n",
       "      <td>0</td>\n",
       "      <td>11</td>\n",
       "      <td>NaN</td>\n",
       "      <td>NaN</td>\n",
       "      <td>NaN</td>\n",
       "      <td>NaN</td>\n",
       "      <td>NaN</td>\n",
       "      <td>NaN</td>\n",
       "      <td>NaN</td>\n",
       "    </tr>\n",
       "    <tr>\n",
       "      <td>1</td>\n",
       "      <td>2</td>\n",
       "      <td>0</td>\n",
       "      <td>7</td>\n",
       "      <td>NaN</td>\n",
       "      <td>NaN</td>\n",
       "      <td>NaN</td>\n",
       "      <td>NaN</td>\n",
       "      <td>NaN</td>\n",
       "      <td>NaN</td>\n",
       "      <td>NaN</td>\n",
       "    </tr>\n",
       "    <tr>\n",
       "      <td>2</td>\n",
       "      <td>3</td>\n",
       "      <td>0</td>\n",
       "      <td>7</td>\n",
       "      <td>NaN</td>\n",
       "      <td>NaN</td>\n",
       "      <td>NaN</td>\n",
       "      <td>NaN</td>\n",
       "      <td>NaN</td>\n",
       "      <td>NaN</td>\n",
       "      <td>NaN</td>\n",
       "    </tr>\n",
       "    <tr>\n",
       "      <td>3</td>\n",
       "      <td>4</td>\n",
       "      <td>0</td>\n",
       "      <td>12</td>\n",
       "      <td>NaN</td>\n",
       "      <td>NaN</td>\n",
       "      <td>NaN</td>\n",
       "      <td>NaN</td>\n",
       "      <td>NaN</td>\n",
       "      <td>NaN</td>\n",
       "      <td>NaN</td>\n",
       "    </tr>\n",
       "    <tr>\n",
       "      <td>4</td>\n",
       "      <td>5</td>\n",
       "      <td>0</td>\n",
       "      <td>8</td>\n",
       "      <td>NaN</td>\n",
       "      <td>NaN</td>\n",
       "      <td>NaN</td>\n",
       "      <td>NaN</td>\n",
       "      <td>NaN</td>\n",
       "      <td>NaN</td>\n",
       "      <td>NaN</td>\n",
       "    </tr>\n",
       "    <tr>\n",
       "      <td>...</td>\n",
       "      <td>...</td>\n",
       "      <td>...</td>\n",
       "      <td>...</td>\n",
       "      <td>...</td>\n",
       "      <td>...</td>\n",
       "      <td>...</td>\n",
       "      <td>...</td>\n",
       "      <td>...</td>\n",
       "      <td>...</td>\n",
       "      <td>...</td>\n",
       "    </tr>\n",
       "    <tr>\n",
       "      <td>42167</td>\n",
       "      <td>815</td>\n",
       "      <td>51</td>\n",
       "      <td>0</td>\n",
       "      <td>2.0</td>\n",
       "      <td>0.0</td>\n",
       "      <td>0.0</td>\n",
       "      <td>1.0</td>\n",
       "      <td>0.0</td>\n",
       "      <td>0.0</td>\n",
       "      <td>1.0</td>\n",
       "    </tr>\n",
       "    <tr>\n",
       "      <td>42168</td>\n",
       "      <td>816</td>\n",
       "      <td>51</td>\n",
       "      <td>5</td>\n",
       "      <td>6.0</td>\n",
       "      <td>5.0</td>\n",
       "      <td>5.0</td>\n",
       "      <td>5.0</td>\n",
       "      <td>4.0</td>\n",
       "      <td>2.0</td>\n",
       "      <td>4.0</td>\n",
       "    </tr>\n",
       "    <tr>\n",
       "      <td>42169</td>\n",
       "      <td>817</td>\n",
       "      <td>51</td>\n",
       "      <td>3</td>\n",
       "      <td>4.0</td>\n",
       "      <td>0.0</td>\n",
       "      <td>0.0</td>\n",
       "      <td>0.0</td>\n",
       "      <td>2.0</td>\n",
       "      <td>2.0</td>\n",
       "      <td>0.0</td>\n",
       "    </tr>\n",
       "    <tr>\n",
       "      <td>42170</td>\n",
       "      <td>818</td>\n",
       "      <td>51</td>\n",
       "      <td>0</td>\n",
       "      <td>2.0</td>\n",
       "      <td>0.0</td>\n",
       "      <td>0.0</td>\n",
       "      <td>0.0</td>\n",
       "      <td>1.0</td>\n",
       "      <td>1.0</td>\n",
       "      <td>0.0</td>\n",
       "    </tr>\n",
       "    <tr>\n",
       "      <td>42171</td>\n",
       "      <td>819</td>\n",
       "      <td>51</td>\n",
       "      <td>1</td>\n",
       "      <td>0.0</td>\n",
       "      <td>0.0</td>\n",
       "      <td>0.0</td>\n",
       "      <td>0.0</td>\n",
       "      <td>0.0</td>\n",
       "      <td>0.0</td>\n",
       "      <td>0.0</td>\n",
       "    </tr>\n",
       "  </tbody>\n",
       "</table>\n",
       "<p>42172 rows × 10 columns</p>\n",
       "</div>"
      ],
      "text/plain": [
       "       Product_Code  Week  Sales  Sales_last_1_week  Sales_last_2_week  \\\n",
       "0                 1     0     11                NaN                NaN   \n",
       "1                 2     0      7                NaN                NaN   \n",
       "2                 3     0      7                NaN                NaN   \n",
       "3                 4     0     12                NaN                NaN   \n",
       "4                 5     0      8                NaN                NaN   \n",
       "...             ...   ...    ...                ...                ...   \n",
       "42167           815    51      0                2.0                0.0   \n",
       "42168           816    51      5                6.0                5.0   \n",
       "42169           817    51      3                4.0                0.0   \n",
       "42170           818    51      0                2.0                0.0   \n",
       "42171           819    51      1                0.0                0.0   \n",
       "\n",
       "       Sales_last_3_week  Sales_last_4_week  Sales_last_5_week  \\\n",
       "0                    NaN                NaN                NaN   \n",
       "1                    NaN                NaN                NaN   \n",
       "2                    NaN                NaN                NaN   \n",
       "3                    NaN                NaN                NaN   \n",
       "4                    NaN                NaN                NaN   \n",
       "...                  ...                ...                ...   \n",
       "42167                0.0                1.0                0.0   \n",
       "42168                5.0                5.0                4.0   \n",
       "42169                0.0                0.0                2.0   \n",
       "42170                0.0                0.0                1.0   \n",
       "42171                0.0                0.0                0.0   \n",
       "\n",
       "       Sales_last_6_week  Sales_last_7_week  \n",
       "0                    NaN                NaN  \n",
       "1                    NaN                NaN  \n",
       "2                    NaN                NaN  \n",
       "3                    NaN                NaN  \n",
       "4                    NaN                NaN  \n",
       "...                  ...                ...  \n",
       "42167                0.0                1.0  \n",
       "42168                2.0                4.0  \n",
       "42169                2.0                0.0  \n",
       "42170                1.0                0.0  \n",
       "42171                0.0                0.0  \n",
       "\n",
       "[42172 rows x 10 columns]"
      ]
     },
     "execution_count": 10,
     "metadata": {},
     "output_type": "execute_result"
    }
   ],
   "source": [
    "df2['Sales_last_1_week'] = df2.groupby(['Product_Code'])['Sales'].shift()\n",
    "df2['Sales_last_2_week'] = df2.groupby(['Product_Code'])['Sales'].shift(2)\n",
    "df2['Sales_last_3_week'] = df2.groupby(['Product_Code'])['Sales'].shift(3)\n",
    "df2['Sales_last_4_week'] = df2.groupby(['Product_Code'])['Sales'].shift(4)\n",
    "df2['Sales_last_5_week'] = df2.groupby(['Product_Code'])['Sales'].shift(5)\n",
    "df2['Sales_last_6_week'] = df2.groupby(['Product_Code'])['Sales'].shift(6)\n",
    "df2['Sales_last_7_week'] = df2.groupby(['Product_Code'])['Sales'].shift(7)\n",
    "df2"
   ]
  },
  {
   "cell_type": "markdown",
   "metadata": {},
   "source": [
    "<span style=\"font-size: 140%;background: white;font-weight:normal;color:#1155cc\"> We check if the synthetic variables 'shift' are correctly created"
   ]
  },
  {
   "cell_type": "code",
   "execution_count": 11,
   "metadata": {},
   "outputs": [
    {
     "data": {
      "text/html": [
       "<div>\n",
       "<style scoped>\n",
       "    .dataframe tbody tr th:only-of-type {\n",
       "        vertical-align: middle;\n",
       "    }\n",
       "\n",
       "    .dataframe tbody tr th {\n",
       "        vertical-align: top;\n",
       "    }\n",
       "\n",
       "    .dataframe thead th {\n",
       "        text-align: right;\n",
       "    }\n",
       "</style>\n",
       "<table border=\"1\" class=\"dataframe\">\n",
       "  <thead>\n",
       "    <tr style=\"text-align: right;\">\n",
       "      <th></th>\n",
       "      <th>Product_Code</th>\n",
       "      <th>Sales</th>\n",
       "      <th>Sales_last_1_week</th>\n",
       "      <th>Sales_last_2_week</th>\n",
       "      <th>Sales_last_3_week</th>\n",
       "      <th>Sales_last_4_week</th>\n",
       "    </tr>\n",
       "  </thead>\n",
       "  <tbody>\n",
       "    <tr>\n",
       "      <td>5678</td>\n",
       "      <td>2</td>\n",
       "      <td>3</td>\n",
       "      <td>6.0</td>\n",
       "      <td>1.0</td>\n",
       "      <td>7.0</td>\n",
       "      <td>2.0</td>\n",
       "    </tr>\n",
       "    <tr>\n",
       "      <td>6489</td>\n",
       "      <td>2</td>\n",
       "      <td>3</td>\n",
       "      <td>3.0</td>\n",
       "      <td>6.0</td>\n",
       "      <td>1.0</td>\n",
       "      <td>7.0</td>\n",
       "    </tr>\n",
       "    <tr>\n",
       "      <td>7300</td>\n",
       "      <td>2</td>\n",
       "      <td>3</td>\n",
       "      <td>3.0</td>\n",
       "      <td>3.0</td>\n",
       "      <td>6.0</td>\n",
       "      <td>1.0</td>\n",
       "    </tr>\n",
       "    <tr>\n",
       "      <td>8111</td>\n",
       "      <td>2</td>\n",
       "      <td>2</td>\n",
       "      <td>3.0</td>\n",
       "      <td>3.0</td>\n",
       "      <td>3.0</td>\n",
       "      <td>6.0</td>\n",
       "    </tr>\n",
       "    <tr>\n",
       "      <td>8922</td>\n",
       "      <td>2</td>\n",
       "      <td>2</td>\n",
       "      <td>2.0</td>\n",
       "      <td>3.0</td>\n",
       "      <td>3.0</td>\n",
       "      <td>3.0</td>\n",
       "    </tr>\n",
       "    <tr>\n",
       "      <td>9733</td>\n",
       "      <td>2</td>\n",
       "      <td>6</td>\n",
       "      <td>2.0</td>\n",
       "      <td>2.0</td>\n",
       "      <td>3.0</td>\n",
       "      <td>3.0</td>\n",
       "    </tr>\n",
       "    <tr>\n",
       "      <td>10544</td>\n",
       "      <td>2</td>\n",
       "      <td>2</td>\n",
       "      <td>6.0</td>\n",
       "      <td>2.0</td>\n",
       "      <td>2.0</td>\n",
       "      <td>3.0</td>\n",
       "    </tr>\n",
       "  </tbody>\n",
       "</table>\n",
       "</div>"
      ],
      "text/plain": [
       "       Product_Code  Sales  Sales_last_1_week  Sales_last_2_week  \\\n",
       "5678              2      3                6.0                1.0   \n",
       "6489              2      3                3.0                6.0   \n",
       "7300              2      3                3.0                3.0   \n",
       "8111              2      2                3.0                3.0   \n",
       "8922              2      2                2.0                3.0   \n",
       "9733              2      6                2.0                2.0   \n",
       "10544             2      2                6.0                2.0   \n",
       "\n",
       "       Sales_last_3_week  Sales_last_4_week  \n",
       "5678                 7.0                2.0  \n",
       "6489                 1.0                7.0  \n",
       "7300                 6.0                1.0  \n",
       "8111                 3.0                6.0  \n",
       "8922                 3.0                3.0  \n",
       "9733                 3.0                3.0  \n",
       "10544                2.0                3.0  "
      ]
     },
     "execution_count": 11,
     "metadata": {},
     "output_type": "execute_result"
    }
   ],
   "source": [
    "df2[df2.Week.isin([7,8,9,10,11,12,13])&(df2.Product_Code ==2)][['Product_Code',\n",
    "                                                                'Sales',\n",
    "                                                                'Sales_last_1_week',\n",
    "                                                                'Sales_last_2_week',\n",
    "                                                                'Sales_last_3_week',\n",
    "                                                                'Sales_last_4_week']] \n"
   ]
  },
  {
   "cell_type": "code",
   "execution_count": 12,
   "metadata": {},
   "outputs": [],
   "source": [
    "df2['Diff_sales_last_1_week'] = df2.groupby(['Product_Code'])['Sales_last_1_week'].diff()\n",
    "df2['Diff_sales_last_2_week'] = df2.groupby(['Product_Code'])['Sales_last_2_week'].diff()\n",
    "df2['Diff_sales_last_3_week'] = df2.groupby(['Product_Code'])['Sales_last_3_week'].diff()\n",
    "df2['Diff_sales_last_4_week'] = df2.groupby(['Product_Code'])['Sales_last_4_week'].diff()\n",
    "df2['Diff_sales_last_5_week'] = df2.groupby(['Product_Code'])['Sales_last_5_week'].diff()\n",
    "df2['Diff_sales_last_6_week'] = df2.groupby(['Product_Code'])['Sales_last_6_week'].diff()\n",
    "df2['Diff_sales_last_7_week'] = df2.groupby(['Product_Code'])['Sales_last_7_week'].diff()"
   ]
  },
  {
   "cell_type": "markdown",
   "metadata": {},
   "source": [
    "<span style=\"font-size: 140%;background: white;font-weight:normal;color:#1155cc\"> We check if the synthetic variables 'diff' are correctly created"
   ]
  },
  {
   "cell_type": "code",
   "execution_count": 13,
   "metadata": {},
   "outputs": [
    {
     "data": {
      "text/html": [
       "<div>\n",
       "<style scoped>\n",
       "    .dataframe tbody tr th:only-of-type {\n",
       "        vertical-align: middle;\n",
       "    }\n",
       "\n",
       "    .dataframe tbody tr th {\n",
       "        vertical-align: top;\n",
       "    }\n",
       "\n",
       "    .dataframe thead th {\n",
       "        text-align: right;\n",
       "    }\n",
       "</style>\n",
       "<table border=\"1\" class=\"dataframe\">\n",
       "  <thead>\n",
       "    <tr style=\"text-align: right;\">\n",
       "      <th></th>\n",
       "      <th>Product_Code</th>\n",
       "      <th>Sales</th>\n",
       "      <th>Sales_last_1_week</th>\n",
       "      <th>Diff_sales_last_1_week</th>\n",
       "      <th>Sales_last_4_week</th>\n",
       "      <th>Diff_sales_last_4_week</th>\n",
       "    </tr>\n",
       "  </thead>\n",
       "  <tbody>\n",
       "    <tr>\n",
       "      <td>5680</td>\n",
       "      <td>4</td>\n",
       "      <td>13</td>\n",
       "      <td>9.0</td>\n",
       "      <td>3.0</td>\n",
       "      <td>5.0</td>\n",
       "      <td>-8.0</td>\n",
       "    </tr>\n",
       "    <tr>\n",
       "      <td>6491</td>\n",
       "      <td>4</td>\n",
       "      <td>13</td>\n",
       "      <td>13.0</td>\n",
       "      <td>4.0</td>\n",
       "      <td>9.0</td>\n",
       "      <td>4.0</td>\n",
       "    </tr>\n",
       "    <tr>\n",
       "      <td>7302</td>\n",
       "      <td>4</td>\n",
       "      <td>11</td>\n",
       "      <td>13.0</td>\n",
       "      <td>0.0</td>\n",
       "      <td>6.0</td>\n",
       "      <td>-3.0</td>\n",
       "    </tr>\n",
       "    <tr>\n",
       "      <td>8113</td>\n",
       "      <td>4</td>\n",
       "      <td>8</td>\n",
       "      <td>11.0</td>\n",
       "      <td>-2.0</td>\n",
       "      <td>9.0</td>\n",
       "      <td>3.0</td>\n",
       "    </tr>\n",
       "    <tr>\n",
       "      <td>8924</td>\n",
       "      <td>4</td>\n",
       "      <td>4</td>\n",
       "      <td>8.0</td>\n",
       "      <td>-3.0</td>\n",
       "      <td>13.0</td>\n",
       "      <td>4.0</td>\n",
       "    </tr>\n",
       "    <tr>\n",
       "      <td>9735</td>\n",
       "      <td>4</td>\n",
       "      <td>5</td>\n",
       "      <td>4.0</td>\n",
       "      <td>-4.0</td>\n",
       "      <td>13.0</td>\n",
       "      <td>0.0</td>\n",
       "    </tr>\n",
       "    <tr>\n",
       "      <td>10546</td>\n",
       "      <td>4</td>\n",
       "      <td>4</td>\n",
       "      <td>5.0</td>\n",
       "      <td>1.0</td>\n",
       "      <td>11.0</td>\n",
       "      <td>-2.0</td>\n",
       "    </tr>\n",
       "  </tbody>\n",
       "</table>\n",
       "</div>"
      ],
      "text/plain": [
       "       Product_Code  Sales  Sales_last_1_week  Diff_sales_last_1_week  \\\n",
       "5680              4     13                9.0                     3.0   \n",
       "6491              4     13               13.0                     4.0   \n",
       "7302              4     11               13.0                     0.0   \n",
       "8113              4      8               11.0                    -2.0   \n",
       "8924              4      4                8.0                    -3.0   \n",
       "9735              4      5                4.0                    -4.0   \n",
       "10546             4      4                5.0                     1.0   \n",
       "\n",
       "       Sales_last_4_week  Diff_sales_last_4_week  \n",
       "5680                 5.0                    -8.0  \n",
       "6491                 9.0                     4.0  \n",
       "7302                 6.0                    -3.0  \n",
       "8113                 9.0                     3.0  \n",
       "8924                13.0                     4.0  \n",
       "9735                13.0                     0.0  \n",
       "10546               11.0                    -2.0  "
      ]
     },
     "execution_count": 13,
     "metadata": {},
     "output_type": "execute_result"
    }
   ],
   "source": [
    "df2[df2.Week.isin([7,8,9,10,11,12,13])&(df2.Product_Code ==4)][['Product_Code',\n",
    "                                                                'Sales',\n",
    "                                                                'Sales_last_1_week',\n",
    "                                                                'Diff_sales_last_1_week',\n",
    "                                                                'Sales_last_4_week',\n",
    "                                                                'Diff_sales_last_4_week']]  "
   ]
  },
  {
   "cell_type": "markdown",
   "metadata": {},
   "source": [
    "<span style=\"font-size: 110%;background: white;font-weight:normal;color:#1155cc\"> One method of improving the quality of the model is to create a large number of synthetic variables using loops. Synthetic variables as a combination of various means, differences, shifts and logarithms. Then such a large number of independent variables can be subjected to one of the variable elimination methods. This is how you get the best synthetic variables. Since this is a verification task, I inform you that it is possible."
   ]
  },
  {
   "cell_type": "markdown",
   "metadata": {},
   "source": [
    "<span style=\"font-size: 140%;background: white;font-weight:normal;color:#1155cc\"> We remove the poems from NaN"
   ]
  },
  {
   "cell_type": "code",
   "execution_count": 14,
   "metadata": {},
   "outputs": [
    {
     "name": "stdout",
     "output_type": "stream",
     "text": [
      "Before dropna: (42172, 17)\n",
      "After dropna:  (35684, 17)\n"
     ]
    }
   ],
   "source": [
    "print('Before dropna:',df2.shape)\n",
    "df2 = df2.dropna(how ='any')\n",
    "print('After dropna: ',df2.shape)"
   ]
  },
  {
   "cell_type": "code",
   "execution_count": 15,
   "metadata": {},
   "outputs": [
    {
     "data": {
      "text/html": [
       "<div>\n",
       "<style scoped>\n",
       "    .dataframe tbody tr th:only-of-type {\n",
       "        vertical-align: middle;\n",
       "    }\n",
       "\n",
       "    .dataframe tbody tr th {\n",
       "        vertical-align: top;\n",
       "    }\n",
       "\n",
       "    .dataframe thead th {\n",
       "        text-align: right;\n",
       "    }\n",
       "</style>\n",
       "<table border=\"1\" class=\"dataframe\">\n",
       "  <thead>\n",
       "    <tr style=\"text-align: right;\">\n",
       "      <th></th>\n",
       "      <th>Product_Code</th>\n",
       "      <th>Week</th>\n",
       "      <th>Sales</th>\n",
       "      <th>Sales_last_1_week</th>\n",
       "      <th>Sales_last_2_week</th>\n",
       "      <th>Sales_last_3_week</th>\n",
       "      <th>Sales_last_4_week</th>\n",
       "      <th>Sales_last_5_week</th>\n",
       "      <th>Sales_last_6_week</th>\n",
       "      <th>Sales_last_7_week</th>\n",
       "      <th>Diff_sales_last_1_week</th>\n",
       "      <th>Diff_sales_last_2_week</th>\n",
       "      <th>Diff_sales_last_3_week</th>\n",
       "      <th>Diff_sales_last_4_week</th>\n",
       "      <th>Diff_sales_last_5_week</th>\n",
       "      <th>Diff_sales_last_6_week</th>\n",
       "      <th>Diff_sales_last_7_week</th>\n",
       "    </tr>\n",
       "  </thead>\n",
       "  <tbody>\n",
       "    <tr>\n",
       "      <td>6488</td>\n",
       "      <td>1</td>\n",
       "      <td>8</td>\n",
       "      <td>6</td>\n",
       "      <td>21.0</td>\n",
       "      <td>14.0</td>\n",
       "      <td>12.0</td>\n",
       "      <td>13.0</td>\n",
       "      <td>8.0</td>\n",
       "      <td>10.0</td>\n",
       "      <td>12.0</td>\n",
       "      <td>7.0</td>\n",
       "      <td>2.0</td>\n",
       "      <td>-1.0</td>\n",
       "      <td>5.0</td>\n",
       "      <td>-2.0</td>\n",
       "      <td>-2.0</td>\n",
       "      <td>1.0</td>\n",
       "    </tr>\n",
       "    <tr>\n",
       "      <td>6489</td>\n",
       "      <td>2</td>\n",
       "      <td>8</td>\n",
       "      <td>3</td>\n",
       "      <td>3.0</td>\n",
       "      <td>6.0</td>\n",
       "      <td>1.0</td>\n",
       "      <td>7.0</td>\n",
       "      <td>2.0</td>\n",
       "      <td>3.0</td>\n",
       "      <td>6.0</td>\n",
       "      <td>-3.0</td>\n",
       "      <td>5.0</td>\n",
       "      <td>-6.0</td>\n",
       "      <td>5.0</td>\n",
       "      <td>-1.0</td>\n",
       "      <td>-3.0</td>\n",
       "      <td>-1.0</td>\n",
       "    </tr>\n",
       "    <tr>\n",
       "      <td>6490</td>\n",
       "      <td>3</td>\n",
       "      <td>8</td>\n",
       "      <td>12</td>\n",
       "      <td>13.0</td>\n",
       "      <td>7.0</td>\n",
       "      <td>8.0</td>\n",
       "      <td>10.0</td>\n",
       "      <td>9.0</td>\n",
       "      <td>8.0</td>\n",
       "      <td>11.0</td>\n",
       "      <td>6.0</td>\n",
       "      <td>-1.0</td>\n",
       "      <td>-2.0</td>\n",
       "      <td>1.0</td>\n",
       "      <td>1.0</td>\n",
       "      <td>-3.0</td>\n",
       "      <td>4.0</td>\n",
       "    </tr>\n",
       "  </tbody>\n",
       "</table>\n",
       "</div>"
      ],
      "text/plain": [
       "      Product_Code  Week  Sales  Sales_last_1_week  Sales_last_2_week  \\\n",
       "6488             1     8      6               21.0               14.0   \n",
       "6489             2     8      3                3.0                6.0   \n",
       "6490             3     8     12               13.0                7.0   \n",
       "\n",
       "      Sales_last_3_week  Sales_last_4_week  Sales_last_5_week  \\\n",
       "6488               12.0               13.0                8.0   \n",
       "6489                1.0                7.0                2.0   \n",
       "6490                8.0               10.0                9.0   \n",
       "\n",
       "      Sales_last_6_week  Sales_last_7_week  Diff_sales_last_1_week  \\\n",
       "6488               10.0               12.0                     7.0   \n",
       "6489                3.0                6.0                    -3.0   \n",
       "6490                8.0               11.0                     6.0   \n",
       "\n",
       "      Diff_sales_last_2_week  Diff_sales_last_3_week  Diff_sales_last_4_week  \\\n",
       "6488                     2.0                    -1.0                     5.0   \n",
       "6489                     5.0                    -6.0                     5.0   \n",
       "6490                    -1.0                    -2.0                     1.0   \n",
       "\n",
       "      Diff_sales_last_5_week  Diff_sales_last_6_week  Diff_sales_last_7_week  \n",
       "6488                    -2.0                    -2.0                     1.0  \n",
       "6489                    -1.0                    -3.0                    -1.0  \n",
       "6490                     1.0                    -3.0                     4.0  "
      ]
     },
     "execution_count": 15,
     "metadata": {},
     "output_type": "execute_result"
    }
   ],
   "source": [
    "df2.head(3)"
   ]
  },
  {
   "cell_type": "code",
   "execution_count": null,
   "metadata": {},
   "outputs": [],
   "source": []
  },
  {
   "cell_type": "markdown",
   "metadata": {},
   "source": [
    "<span style=\"font-size: 140%;background: white;font-weight:normal;color:#1155cc\">Dividing time series data into training and test sets.\n",
    "\n",
    "<span style=\"font-size: 110%;background: white;font-weight:normal;color:#1155cc\">I split the set for training data for the first 42 weeks, then I separate the 44 and 45 test data set. Finally, as instructed, I allow a period of 7 weeks to make a forecast for 10 products. This will be the week: 45, 46, 47, 48, 49, 50, 51, 52. I will use this data at the end of the task when I have my model ready."
   ]
  },
  {
   "cell_type": "code",
   "execution_count": 16,
   "metadata": {},
   "outputs": [],
   "source": [
    "for week in range(42,44):\n",
    "    train = df2[df2['Week'] < week]   ## okres treningowy do 42 tygodnia\n",
    "    val = df2[df2['Week'] == week]    ## okres testowy od 43 tygodnia włącznie do 45 tygodnia \n",
    "                                        ## 45-52 tydzień to okres super testowy 7 tygodni\n",
    "\n",
    "    Xtrain, Xtest = train.drop(['Sales'], axis=1), val.drop(['Sales'], axis=1)  # podział na zmienne treningowe i testowe\n",
    "    ytrain, ytest = train['Sales'].values, val['Sales'].values                  # podział na wyniki testowe i treningowe "
   ]
  },
  {
   "cell_type": "markdown",
   "metadata": {},
   "source": [
    "<span style=\"font-size: 110%;background: white;font-weight:normal;color:#1155cc\">We introduce additional colors to the analysis."
   ]
  },
  {
   "cell_type": "code",
   "execution_count": 17,
   "metadata": {},
   "outputs": [],
   "source": [
    "# kolorowe wydruki\n",
    "class colors:\n",
    "           \n",
    "    def green(self,text):\n",
    "           print('\\033[32m', text, '\\033[0m', sep='') \n",
    "\n",
    "    def blue(self,text):\n",
    "         print('\\033[34m', text, '\\033[0m', sep='')\n",
    "\n",
    "    def magenta(self,text):\n",
    "         print('\\033[35m', text, '\\033[0m', sep='')  \n",
    "\n",
    "    def cyan(self,text):\n",
    "         print('\\033[36m', text, '\\033[0m', sep='')\n",
    "\n",
    "    def red(self,text):\n",
    "         print('\\033[31m', text, '\\033[0m', sep='')  \n",
    "\n",
    "    def yellow(self,text):\n",
    "         print('\\033[33m', text, '\\033[0m', sep='')  \n",
    "pass\n",
    "\n",
    "CO = colors()"
   ]
  },
  {
   "cell_type": "markdown",
   "metadata": {},
   "source": [
    "<span style=\"font-size: 160%;color:#1155cc\">I run a set of regression models.\n",
    "\n",
    "<span style=\"font-size: 110%;color:#1155cc\">The goal is to choose the best model."
   ]
  },
  {
   "cell_type": "code",
   "execution_count": 18,
   "metadata": {},
   "outputs": [],
   "source": [
    "from sklearn.linear_model import LinearRegression, Ridge, HuberRegressor, ElasticNetCV\n",
    "from sklearn.ensemble import BaggingRegressor, ExtraTreesRegressor, GradientBoostingRegressor, RandomForestRegressor,AdaBoostRegressor\n",
    "from sklearn.dummy import DummyRegressor\n",
    "from sklearn.neighbors import KNeighborsRegressor\n",
    "\n",
    "\n",
    "from sklearn import model_selection\n",
    "from sklearn.metrics import mean_squared_log_error, r2_score\n",
    "from sklearn.model_selection import GridSearchCV\n",
    "from sklearn.tree import DecisionTreeRegressor\n",
    "from sklearn.svm import SVR\n",
    "\n",
    "\n",
    "import warnings   \n",
    "warnings.filterwarnings(\"ignore\")\n",
    "\n",
    "modele = [KNeighborsRegressor(),\n",
    "          DecisionTreeRegressor(),\n",
    "          BaggingRegressor(),\n",
    "          GradientBoostingRegressor(),\n",
    "          LinearRegression(),\n",
    "          AdaBoostRegressor(),\n",
    "          Ridge(),\n",
    "          HuberRegressor(),\n",
    "          ElasticNetCV(),\n",
    "          ExtraTreesRegressor(),\n",
    "          RandomForestRegressor(),\n",
    "          #SVR()\n",
    "          ] \n",
    "\n",
    "nazwy = ['K-Neighbors Regressor',\n",
    "          'Decision Tree Regressor',\n",
    "          'Bagging Regressor',\n",
    "          'Gradient Boosting Regressor',\n",
    "          'Linear Regression',\n",
    "          'AdaBoost Regressor',\n",
    "          'Ridge',\n",
    "          'Huber Regressor',\n",
    "          'Elastic Net CV',\n",
    "          'ExtraTreesRegressor',\n",
    "          'Random Forest Regressor',\n",
    "          #'Support Vector Regression'\n",
    "          ]"
   ]
  },
  {
   "cell_type": "code",
   "execution_count": 19,
   "metadata": {},
   "outputs": [],
   "source": [
    "def model_val(t):\n",
    "    \n",
    "    global mean_dev,r2\n",
    "    \n",
    "    kfold = model_selection.KFold(n_splits=12, random_state=148)\n",
    "    mean_dev = model_selection.cross_val_score(t, Xtrain, ytrain, cv=kfold, scoring='neg_mean_absolute_error')\n",
    "    mean_dev = np.round(mean_dev, decimals=1)\n",
    "    r2 = model_selection.cross_val_score(t, Xtrain, ytrain, cv=kfold, scoring='r2')\n",
    "    r2 = np.round(r2, decimals=2)\n",
    "    \n",
    "    return mean_dev,r2"
   ]
  },
  {
   "cell_type": "code",
   "execution_count": 20,
   "metadata": {},
   "outputs": [
    {
     "name": "stdout",
     "output_type": "stream",
     "text": [
      "\n",
      "\u001b[31mK-Neighbors Regressor\u001b[0m\n",
      "-------------------------------cross_val, KFold = 12 ------\n",
      "R2:  [0.92 0.91 0.91 0.91 0.91 0.84 0.79 0.86 0.89 0.89 0.9  0.9 ]\n",
      "Mean_dev:  [-2.3 -2.3 -2.5 -2.4 -2.3 -2.9 -2.8 -2.4 -2.2 -2.1 -2.1 -2.1]\n"
     ]
    },
    {
     "data": {
      "image/png": "[encoded data removed]",
      "text/plain": [
       "<Figure size 432x288 with 1 Axes>"
      ]
     },
     "metadata": {
      "needs_background": "light"
     },
     "output_type": "display_data"
    },
    {
     "name": "stdout",
     "output_type": "stream",
     "text": [
      "\u001b[36mtime: 4.0 seconds\u001b[0m\n",
      "\n",
      "\n",
      "\u001b[31mDecision Tree Regressor\u001b[0m\n",
      "-------------------------------cross_val, KFold = 12 ------\n",
      "R2:  [0.85 0.86 0.85 0.83 0.86 0.78 0.68 0.74 0.79 0.82 0.82 0.81]\n",
      "Mean_dev:  [-3.2 -3.1 -3.2 -3.2 -3.1 -3.3 -3.4 -3.3 -3.  -2.7 -2.7 -2.8]\n"
     ]
    },
    {
     "data": {
      "image/png": "[encoded data removed]",
      "text/plain": [
       "<Figure size 432x288 with 1 Axes>"
      ]
     },
     "metadata": {
      "needs_background": "light"
     },
     "output_type": "display_data"
    },
    {
     "name": "stdout",
     "output_type": "stream",
     "text": [
      "\u001b[36mtime: 5.0 seconds\u001b[0m\n",
      "\n",
      "\n",
      "\u001b[31mBagging Regressor\u001b[0m\n",
      "-------------------------------cross_val, KFold = 12 ------\n",
      "R2:  [0.92 0.92 0.92 0.91 0.93 0.86 0.82 0.88 0.9  0.9  0.9  0.91]\n",
      "Mean_dev:  [-2.3 -2.3 -2.3 -2.4 -2.3 -2.6 -2.7 -2.3 -2.1 -2.  -2.1 -2.1]\n"
     ]
    },
    {
     "data": {
      "image/png": "[encoded data removed]",
      "text/plain": [
       "<Figure size 432x288 with 1 Axes>"
      ]
     },
     "metadata": {
      "needs_background": "light"
     },
     "output_type": "display_data"
    },
    {
     "name": "stdout",
     "output_type": "stream",
     "text": [
      "\u001b[36mtime: 30.0 seconds\u001b[0m\n",
      "\n",
      "\n",
      "\u001b[31mGradient Boosting Regressor\u001b[0m\n",
      "-------------------------------cross_val, KFold = 12 ------\n",
      "R2:  [0.93 0.93 0.93 0.92 0.93 0.88 0.84 0.89 0.91 0.91 0.91 0.91]\n",
      "Mean_dev:  [-2.2 -2.2 -2.3 -2.4 -2.2 -2.5 -2.4 -2.2 -2.1 -2.  -2.  -2. ]\n"
     ]
    },
    {
     "data": {
      "image/png": "[encoded data removed]",
      "text/plain": [
       "<Figure size 432x288 with 1 Axes>"
      ]
     },
     "metadata": {
      "needs_background": "light"
     },
     "output_type": "display_data"
    },
    {
     "name": "stdout",
     "output_type": "stream",
     "text": [
      "\u001b[36mtime: 76.0 seconds\u001b[0m\n",
      "\n",
      "\n",
      "\u001b[31mLinear Regression\u001b[0m\n",
      "-------------------------------cross_val, KFold = 12 ------\n",
      "R2:  [0.93 0.93 0.92 0.92 0.93 0.86 0.8  0.88 0.9  0.9  0.91 0.91]\n",
      "Mean_dev:  [-2.2 -2.2 -2.3 -2.3 -2.2 -2.7 -2.8 -2.3 -2.1 -2.  -2.  -2. ]\n"
     ]
    },
    {
     "data": {
      "image/png": "[encoded data removed]",
      "text/plain": [
       "<Figure size 432x288 with 1 Axes>"
      ]
     },
     "metadata": {
      "needs_background": "light"
     },
     "output_type": "display_data"
    },
    {
     "name": "stdout",
     "output_type": "stream",
     "text": [
      "\u001b[36mtime: 1.0 seconds\u001b[0m\n",
      "\n",
      "\n",
      "\u001b[31mAdaBoost Regressor\u001b[0m\n",
      "-------------------------------cross_val, KFold = 12 ------\n",
      "R2:  [0.9  0.89 0.89 0.88 0.91 0.85 0.72 0.77 0.85 0.87 0.85 0.86]\n",
      "Mean_dev:  [-3.4 -3.4 -3.4 -3.9 -3.3 -3.7 -4.5 -3.6 -3.6 -3.3 -3.3 -3.6]\n"
     ]
    },
    {
     "data": {
      "image/png": "[encoded data removed]",
      "text/plain": [
       "<Figure size 432x288 with 1 Axes>"
      ]
     },
     "metadata": {
      "needs_background": "light"
     },
     "output_type": "display_data"
    },
    {
     "name": "stdout",
     "output_type": "stream",
     "text": [
      "\u001b[36mtime: 43.0 seconds\u001b[0m\n",
      "\n",
      "\n",
      "\u001b[31mRidge\u001b[0m\n",
      "-------------------------------cross_val, KFold = 12 ------\n",
      "R2:  [0.93 0.93 0.92 0.92 0.93 0.86 0.8  0.88 0.9  0.9  0.91 0.91]\n",
      "Mean_dev:  [-2.2 -2.2 -2.3 -2.3 -2.2 -2.7 -2.8 -2.3 -2.1 -2.  -2.  -2. ]\n"
     ]
    },
    {
     "data": {
      "image/png": "[encoded data removed]",
      "text/plain": [
       "<Figure size 432x288 with 1 Axes>"
      ]
     },
     "metadata": {
      "needs_background": "light"
     },
     "output_type": "display_data"
    },
    {
     "name": "stdout",
     "output_type": "stream",
     "text": [
      "\u001b[36mtime: 0.0 seconds\u001b[0m\n",
      "\n",
      "\n",
      "\u001b[31mHuber Regressor\u001b[0m\n",
      "-------------------------------cross_val, KFold = 12 ------\n",
      "R2:  [0.92 0.93 0.92 0.92 0.93 0.86 0.81 0.88 0.9  0.9  0.91 0.91]\n",
      "Mean_dev:  [-2.2 -2.2 -2.3 -2.3 -2.1 -2.6 -2.7 -2.2 -2.1 -2.  -2.  -2. ]\n"
     ]
    },
    {
     "data": {
      "image/png": "[encoded data removed]",
      "text/plain": [
       "<Figure size 432x288 with 1 Axes>"
      ]
     },
     "metadata": {
      "needs_background": "light"
     },
     "output_type": "display_data"
    },
    {
     "name": "stdout",
     "output_type": "stream",
     "text": [
      "\u001b[36mtime: 9.0 seconds\u001b[0m\n",
      "\n",
      "\n",
      "\u001b[31mElastic Net CV\u001b[0m\n",
      "-------------------------------cross_val, KFold = 12 ------\n",
      "R2:  [0.93 0.93 0.92 0.92 0.93 0.86 0.81 0.88 0.9  0.9  0.91 0.91]\n",
      "Mean_dev:  [-2.2 -2.2 -2.3 -2.3 -2.2 -2.7 -2.8 -2.3 -2.2 -2.  -2.  -2. ]\n"
     ]
    },
    {
     "data": {
      "image/png": "[encoded data removed]",
      "text/plain": [
       "<Figure size 432x288 with 1 Axes>"
      ]
     },
     "metadata": {
      "needs_background": "light"
     },
     "output_type": "display_data"
    },
    {
     "name": "stdout",
     "output_type": "stream",
     "text": [
      "\u001b[36mtime: 7.0 seconds\u001b[0m\n",
      "\n",
      "\n",
      "\u001b[31mExtraTreesRegressor\u001b[0m\n",
      "-------------------------------cross_val, KFold = 12 ------\n",
      "R2:  [0.93 0.93 0.93 0.92 0.93 0.88 0.83 0.88 0.91 0.91 0.91 0.91]\n",
      "Mean_dev:  [-2.2 -2.2 -2.3 -2.3 -2.1 -2.5 -2.6 -2.3 -2.1 -2.  -2.  -2. ]\n"
     ]
    },
    {
     "data": {
      "image/png": "[encoded data removed]",
      "text/plain": [
       "<Figure size 432x288 with 1 Axes>"
      ]
     },
     "metadata": {
      "needs_background": "light"
     },
     "output_type": "display_data"
    },
    {
     "name": "stdout",
     "output_type": "stream",
     "text": [
      "\u001b[36mtime: 159.0 seconds\u001b[0m\n",
      "\n",
      "\n",
      "\u001b[31mRandom Forest Regressor\u001b[0m\n",
      "-------------------------------cross_val, KFold = 12 ------\n",
      "R2:  [0.93 0.93 0.93 0.92 0.93 0.87 0.83 0.89 0.91 0.91 0.91 0.91]\n",
      "Mean_dev:  [-2.2 -2.2 -2.3 -2.3 -2.1 -2.5 -2.5 -2.2 -2.  -2.  -2.  -2. ]\n"
     ]
    },
    {
     "data": {
      "image/png": "[encoded data removed]",
      "text/plain": [
       "<Figure size 432x288 with 1 Axes>"
      ]
     },
     "metadata": {
      "needs_background": "light"
     },
     "output_type": "display_data"
    },
    {
     "name": "stdout",
     "output_type": "stream",
     "text": [
      "\u001b[36mtime: 289.0 seconds\u001b[0m\n",
      "\n"
     ]
    }
   ],
   "source": [
    "for n,p in zip(nazwy,modele):      \n",
    "    \n",
    "    import matplotlib.pyplot as plt\n",
    "    import time   \n",
    "    \n",
    "    start_time = time.time()\n",
    "    \n",
    "    results = model_val(p)\n",
    "    print()\n",
    "    CO.red(n)\n",
    "    print(\"-------------------------------cross_val, KFold = 12 ------\")\n",
    "    print('R2: ', r2)\n",
    "    print('Mean_dev: ', mean_dev)\n",
    "    \n",
    "    # wykres \n",
    "    plt.rc(\"font\",size=14)\n",
    "    clf = p\n",
    "    clf.fit(Xtrain,ytrain)\n",
    "    ypred = clf.predict(Xtest)\n",
    "\n",
    "    ax = sns.regplot(ytest,ypred,color='grey')\n",
    "    plt.title(n,color='r') \n",
    "    plt.ylabel('count', fontsize=12) \n",
    "    plt.xlabel('count', fontsize=12) \n",
    "    plt.show()\n",
    "    \n",
    "    # pomiar czasu\n",
    "    n = (time.time() - start_time)\n",
    "    n = np.round(n)\n",
    "    CO.cyan('time: %s seconds' % n)    \n",
    "    print()"
   ]
  },
  {
   "cell_type": "markdown",
   "metadata": {},
   "source": [
    "<span style=\"font-size: 160%;color:#1155cc\">Finding optimal hyperparameters - optimization of forecasting models.\n",
    "\n",
    "<span style=\"font-size: 110%;color:#1155cc\">We have many models in default settings. Cross-validation showed the predictive quality of the models. Now we can choose the model that best forecasts according to r2 and optimize this model by selecting the best hyperparameters.\n",
    "I chose the Linear Regression model because it is good and its optimization takes only 4 seconds. The Random Forest Regressor model seems to be better, but its optimization takes over 10 minutes."
   ]
  },
  {
   "cell_type": "markdown",
   "metadata": {},
   "source": [
    " <span style=\"font-size: 150%;color:white;background:#1155cc\"> Optimization of the selected model: Linear Regression</span> <span style=\"font-size: 150%;color:white;background:RED\"> 4 sekundy"
   ]
  },
  {
   "cell_type": "code",
   "execution_count": 21,
   "metadata": {},
   "outputs": [
    {
     "name": "stdout",
     "output_type": "stream",
     "text": [
      "Linear Regression: 0.8976616070664007\n",
      "{'copy_X': True, 'fit_intercept': False, 'normalize': True}\n",
      "LinearRegression(fit_intercept=False, normalize=True)\n"
     ]
    },
    {
     "data": {
      "image/png": "[encoded data removed]",
      "text/plain": [
       "<Figure size 432x288 with 1 Axes>"
      ]
     },
     "metadata": {
      "needs_background": "light"
     },
     "output_type": "display_data"
    },
    {
     "name": "stdout",
     "output_type": "stream",
     "text": [
      "time: 1.0 seconds\n"
     ]
    }
   ],
   "source": [
    "#from sklearn.dummy import DummyRegressor\n",
    "from sklearn.linear_model import LinearRegression\n",
    "import time   \n",
    "    \n",
    "start_time = time.time()\n",
    "\n",
    "\n",
    "parameters = [{'fit_intercept': [True, False], 'normalize': [True, False],'copy_X': [True, False]}]\n",
    "\n",
    "\n",
    "\n",
    "Linear_Regression = GridSearchCV(LinearRegression(), parameters)\n",
    "Linear_Regression.fit(Xtrain,ytrain)\n",
    "\n",
    "\n",
    "print('Linear Regression:',Linear_Regression.best_score_)\n",
    "print(Linear_Regression.best_params_)\n",
    "print(Linear_Regression.best_estimator_)\n",
    "\n",
    "    # wykres\n",
    "    \n",
    "plt.rc(\"font\",size=14)\n",
    "Linear_Regression.fit(Xtrain,ytrain)\n",
    "ypred = Linear_Regression.predict(Xtest)\n",
    "\n",
    "ax = sns.regplot(ytest,ypred,color='#45818e')\n",
    "plt.title('Linear Regression:',color='#134f5c') \n",
    "plt.ylabel('count', fontsize=12) \n",
    "plt.xlabel('count', fontsize=12) \n",
    "plt.show()\n",
    "\n",
    "\n",
    "# pomiar czasu\n",
    "n = (time.time() - start_time)\n",
    "n = np.round(n)\n",
    "print('time: %s seconds' % n)  "
   ]
  },
  {
   "cell_type": "markdown",
   "metadata": {},
   "source": [
    "<span style=\"font-size: 150%;color:white;background:#1155cc\"> Optimization of the selected model: 'Random Forest Regressor'</span> <span style=\"font-size: 150%;color:white;background:RED\"> 613 sekund "
   ]
  },
  {
   "cell_type": "raw",
   "metadata": {},
   "source": [
    "import time   \n",
    "    \n",
    "start_time = time.time()\n",
    "\n",
    "parameters={\"n_estimators\"      : [10,20,30],\n",
    "            \"max_features\"      : [\"auto\", \"sqrt\", \"log2\"],\n",
    "            \"min_samples_split\" : [2,4,8],\n",
    "            \"bootstrap\": [True, False],}\n",
    "\n",
    "clf = GridSearchCV(RandomForestRegressor(), parameters,scoring = 'r2')\n",
    "clf.fit(Xtrain,ytrain)\n",
    "\n",
    "print('Random Forest Regressor:',clf.best_score_)\n",
    "print(clf.best_params_)\n",
    "print(clf.best_estimator_)\n",
    "\n",
    "    # wykres\n",
    "    \n",
    "plt.rc(\"font\",size=14)\n",
    "clf.fit(Xtrain,ytrain)\n",
    "ypred = clf.predict(Xtest)\n",
    "\n",
    "ax = sns.regplot(ytest,ypred,color='#45818e')\n",
    "plt.title('Random Forest Regressor',color='#134f5c') \n",
    "plt.ylabel('count', fontsize=12) \n",
    "plt.xlabel('count', fontsize=12) \n",
    "plt.show()\n",
    "\n",
    "# pomiar czasu\n",
    "n = (time.time() - start_time)\n",
    "n = np.round(n)\n",
    "print('time: %s seconds' % n)  "
   ]
  },
  {
   "cell_type": "markdown",
   "metadata": {},
   "source": [
    "<span style=\"font-size: 150%;color:white;background:#1155cc\"> Optymalizacja 'Ridge'</span> <span style=\"font-size: 150%;color:white;background:RED\"> 4 sekundy"
   ]
  },
  {
   "cell_type": "code",
   "execution_count": 22,
   "metadata": {},
   "outputs": [
    {
     "name": "stdout",
     "output_type": "stream",
     "text": [
      "Ridge: 0.8976616117850907\n",
      "{'fit_intercept': False, 'normalize': True}\n",
      "Ridge(fit_intercept=False, normalize=True)\n"
     ]
    },
    {
     "data": {
      "image/png": "[encoded data removed]",
      "text/plain": [
       "<Figure size 432x288 with 1 Axes>"
      ]
     },
     "metadata": {
      "needs_background": "light"
     },
     "output_type": "display_data"
    },
    {
     "name": "stdout",
     "output_type": "stream",
     "text": [
      "time: 1.0 seconds\n"
     ]
    }
   ],
   "source": [
    "#from sklearn.dummy import DummyRegressor\n",
    "from sklearn.linear_model import Ridge\n",
    "import time   \n",
    "    \n",
    "start_time = time.time()\n",
    "\n",
    "\n",
    "parameters = [{\n",
    "  'fit_intercept' : [True, False],\n",
    " 'normalize': [True, False]\n",
    " }]\n",
    "\n",
    "\n",
    "\n",
    "Ridge = GridSearchCV(Ridge(), parameters)\n",
    "Ridge.fit(Xtrain,ytrain)\n",
    "\n",
    "\n",
    "print('Ridge:',Ridge.best_score_)\n",
    "print(Ridge.best_params_)\n",
    "print(Ridge.best_estimator_)\n",
    "\n",
    "    # wykres\n",
    "    \n",
    "plt.rc(\"font\",size=14)\n",
    "Ridge.fit(Xtrain,ytrain)\n",
    "ypred = Ridge.predict(Xtest)\n",
    "\n",
    "ax = sns.regplot(ytest,ypred,color='#45818e')\n",
    "plt.title('Ridge:',color='#134f5c') \n",
    "plt.ylabel('count', fontsize=12) \n",
    "plt.xlabel('count', fontsize=12) \n",
    "plt.show()\n",
    "\n",
    "\n",
    "# pomiar czasu\n",
    "n = (time.time() - start_time)\n",
    "n = np.round(n)\n",
    "print('time: %s seconds' % n)  "
   ]
  },
  {
   "cell_type": "markdown",
   "metadata": {},
   "source": [
    " <span style=\"font-size: 150%;color:white;background:#1155cc\"> Optimization of the selected model: GradientBoostingRegressor</span> <span style=\"font-size: 150%;color:white;background:RED\"> 239 sekund"
   ]
  },
  {
   "cell_type": "raw",
   "metadata": {},
   "source": [
    "from sklearn.dummy import DummyRegressor\n",
    "from sklearn.ensemble import GradientBoostingRegressor\n",
    "import time   \n",
    "    \n",
    "start_time = time.time()\n",
    "\n",
    "\n",
    "parameters = [\n",
    "    {\"learning_rate\": [0.01, 0.025, 0.05, 0.075, 0.1, 0.15, 0.2],\n",
    "    \"max_depth\":[3,5,8],\n",
    "    \"n_estimators\":[10,20],\n",
    "    'random_state': [1,2],\n",
    "    'subsample': [0.5]}\n",
    "]\n",
    "Gradient_Boosting_Regressor = GridSearchCV(GradientBoostingRegressor(), parameters)\n",
    "Gradient_Boosting_Regressor.fit(Xtrain,ytrain)\n",
    "\n",
    "\n",
    "print('Gradient Boosting Regressor:',Gradient_Boosting_Regressor.best_score_)\n",
    "print(Gradient_Boosting_Regressor.best_params_)\n",
    "print(Gradient_Boosting_Regressor.best_estimator_)\n",
    "\n",
    "    # wykres\n",
    "    \n",
    "plt.rc(\"font\",size=14)\n",
    "Gradient_Boosting_Regressor.fit(Xtrain,ytrain)\n",
    "ypred = Gradient_Boosting_Regressor.predict(Xtest)\n",
    "\n",
    "ax = sns.regplot(ytest,ypred,color='#45818e')\n",
    "plt.title('Gradient Boosting Regressor:',color='#134f5c') \n",
    "plt.ylabel('count', fontsize=12) \n",
    "plt.xlabel('count', fontsize=12) \n",
    "plt.show()\n",
    "\n",
    "\n",
    "# pomiar czasu\n",
    "n = (time.time() - start_time)\n",
    "n = np.round(n)\n",
    "print('time: %s seconds' % n)  "
   ]
  },
  {
   "cell_type": "markdown",
   "metadata": {},
   "source": [
    "<span style=\"font-size: 150%;color:white;background:#1155cc\"> Optimization of the selected model: 'Extra Trees Regressor'</span> <span style=\"font-size: 150%;color:white;background:RED\"> 544 sekundy "
   ]
  },
  {
   "cell_type": "raw",
   "metadata": {},
   "source": [
    "parameters={'n_estimators': [50,100,500],\n",
    "               'min_samples_leaf': [1,5,10],\n",
    "                'min_samples_split': [5,10,20]}\n",
    "\n",
    "ExtraTreesRegressor = GridSearchCV(ExtraTreesRegressor(), parameters,scoring = 'r2')\n",
    "ExtraTreesRegressor.fit(Xtrain,ytrain)\n",
    "\n",
    "print('Extra Trees Regressor:',ExtraTreesRegressor.best_score_)\n",
    "print(ExtraTreesRegressor.best_params_)\n",
    "print(ExtraTreesRegressor.best_estimator_)\n",
    "\n",
    "    # wykres\n",
    "    \n",
    "plt.rc(\"font\",size=14)\n",
    "ExtraTreesRegressor.fit(Xtrain,ytrain)\n",
    "ypred = ExtraTreesRegressor.predict(Xtest)\n",
    "\n",
    "ax = sns.regplot(ytest,ypred,color='#45818e')\n",
    "plt.title('Extra Trees Regressor',color='#134f5c') \n",
    "plt.ylabel('count', fontsize=12) \n",
    "plt.xlabel('count', fontsize=12) \n",
    "plt.show()\n",
    "\n",
    "# pomiar czasu\n",
    "n = (time.time() - start_time)\n",
    "n = np.round(n)\n",
    "print('time: %s seconds' % n) "
   ]
  },
  {
   "cell_type": "markdown",
   "metadata": {},
   "source": [
    "<span style=\"font-size: 150%;color:white;background:#1155cc\"> Optimization of the selected model: 'ElasticNetCV()'</span> <span style=\"font-size: 150%;color:white;background:RED\"> 717 sekund "
   ]
  },
  {
   "cell_type": "raw",
   "metadata": {},
   "source": [
    "#from sklearn.dummy import DummyRegressor\n",
    "from sklearn.linear_model import ElasticNetCV\n",
    "import time   \n",
    "    \n",
    "start_time = time.time()\n",
    "\n",
    "\n",
    "parameters = [{\n",
    " 'l1_ratio': [.1, .5, .7, .9, .95, .99, 1],\n",
    " 'n_alphas' : [50, 100, 150],\n",
    " 'fit_intercept': [True, False],\n",
    " 'normalize': [True, False],\n",
    " 'max_iter' : [500, 1000, 1500]   \n",
    " }]\n",
    "\n",
    "\n",
    "\n",
    "Elastic_NetCV = GridSearchCV(ElasticNetCV(), parameters)\n",
    "Elastic_NetCV.fit(Xtrain,ytrain)\n",
    "\n",
    "\n",
    "print('Elastic NetCV:',Elastic_NetCV.best_score_)\n",
    "print(Elastic_NetCV.best_params_)\n",
    "print(Elastic_NetCV.best_estimator_)\n",
    "\n",
    "    # wykres\n",
    "    \n",
    "plt.rc(\"font\",size=14)\n",
    "Elastic_NetCV.fit(Xtrain,ytrain)\n",
    "ypred = Elastic_NetCV.predict(Xtest)\n",
    "\n",
    "ax = sns.regplot(ytest,ypred,color='#45818e')\n",
    "plt.title('Elastic NetCV:',color='#134f5c') \n",
    "plt.ylabel('count', fontsize=12) \n",
    "plt.xlabel('count', fontsize=12) \n",
    "plt.show()\n",
    "\n",
    "\n",
    "# pomiar czasu\n",
    "n = (time.time() - start_time)\n",
    "n = np.round(n)\n",
    "print('time: %s seconds' % n)  "
   ]
  },
  {
   "cell_type": "markdown",
   "metadata": {},
   "source": [
    " <span style=\"font-size: 200%;color:white;background:#674ea7\"> CHECKING HOW THE SELECTED MODEL IS FORECASTING ON STANDARD DATA \n",
    "    \n",
    "<span style=\"font-size: 160%;color:white;background:RED\"> IF IT IS NOT OVERFITTING?\n",
    "    \n",
    "<span style=\"font-size: 110%;color:#1155cc\">As instructed, I make a 7-week forecast for the first 10 products."
   ]
  },
  {
   "cell_type": "code",
   "execution_count": 23,
   "metadata": {},
   "outputs": [],
   "source": [
    "# K_Neighbors_Regressor,\n",
    "# DecisionTreeRegressor,\n",
    "# Bagging_Regressor,\n",
    "# Gradient_Boosting_Regressor,\n",
    "# Linear_Regression.predict(Xtest)\n",
    "# Ada_Boost_Regressor, \n",
    "#clf\n",
    "# Ridge\n",
    "# Linear_Regression\n",
    "\n",
    "model = Ridge      # TU WPISUJEMY MODEL PO OPTYMALIZACJI"
   ]
  },
  {
   "cell_type": "code",
   "execution_count": 24,
   "metadata": {},
   "outputs": [],
   "source": [
    "def ModVal(model):\n",
    "\n",
    "    from sklearn.model_selection import cross_val_score \n",
    "\n",
    "    ypred_tr = model.predict(Xtrain)\n",
    "\n",
    "    r2_train = cross_val_score(model,Xtrain,ytrain, cv=12)\n",
    "    r2_train = np.round(r2_train, decimals=2)\n",
    "    print('r2 train:', r2_train)\n",
    "\n",
    "    ax = sns.regplot(ytrain,ypred_tr,color='#741b47')\n",
    "    plt.title('Model_train',color='#741b47') \n",
    "    plt.ylabel('count', fontsize=12) \n",
    "    plt.xlabel('count', fontsize=12) \n",
    "    plt.show()\n",
    "\n",
    "\n",
    "    r2_test = cross_val_score(model,Xtest,ytest, cv=12)\n",
    "    r2_test = np.round(r2_test, decimals=2)\n",
    "    print('r2 testowy:', r2_test)\n",
    "\n",
    "    ypred_te = model.predict(Xtest)\n",
    "\n",
    "    ax = sns.regplot(ytest,ypred_te,color='#1155cc')\n",
    "    plt.title('Model_test',color='#1155cc') \n",
    "    plt.ylabel('count', fontsize=12) \n",
    "    plt.xlabel('count', fontsize=12) \n",
    "    plt.show()\n"
   ]
  },
  {
   "cell_type": "code",
   "execution_count": 25,
   "metadata": {},
   "outputs": [
    {
     "name": "stdout",
     "output_type": "stream",
     "text": [
      "r2 train: [0.93 0.93 0.92 0.92 0.93 0.86 0.8  0.88 0.9  0.9  0.91 0.91]\n"
     ]
    },
    {
     "data": {
      "image/png": "[encoded data removed]",
      "text/plain": [
       "<Figure size 432x288 with 1 Axes>"
      ]
     },
     "metadata": {
      "needs_background": "light"
     },
     "output_type": "display_data"
    },
    {
     "name": "stdout",
     "output_type": "stream",
     "text": [
      "r2 testowy: [0.83 0.85 0.82 0.9  0.67 0.91 0.82 0.67 0.77 0.85 0.63 0.73]\n"
     ]
    },
    {
     "data": {
      "image/png": "[encoded data removed]",
      "text/plain": [
       "<Figure size 432x288 with 1 Axes>"
      ]
     },
     "metadata": {
      "needs_background": "light"
     },
     "output_type": "display_data"
    }
   ],
   "source": [
    "ModVal(model)"
   ]
  },
  {
   "cell_type": "markdown",
   "metadata": {},
   "source": [
    "<span style=\"font-size: 160%;background: white;color:#1155cc\">We save the selected model to disk\n",
    "    \n",
    "<span style=\"font-size: 110%;background: white;color:#1155cc\">It is not necessary, but it wants to show that we can transfer the extracted model to another device and use this model effectively."
   ]
  },
  {
   "cell_type": "code",
   "execution_count": 26,
   "metadata": {},
   "outputs": [],
   "source": [
    "import joblib\n",
    "\n",
    "#RFC = RandomForestClassifier()\n",
    "#RFC.fit(X_train, y_train) \n",
    "\n",
    "filename ='/home/wojciech/Pulpit/6/model_AA.pkl' \n",
    "\n",
    "# zapisanie\n",
    "_ = joblib.dump(model, filename, compress=9)"
   ]
  },
  {
   "cell_type": "markdown",
   "metadata": {},
   "source": [
    "<span style=\"font-size: 110%;background: white;color:#1155cc\">We open the selected model from the disk"
   ]
  },
  {
   "cell_type": "code",
   "execution_count": 27,
   "metadata": {},
   "outputs": [
    {
     "data": {
      "text/plain": [
       "GridSearchCV(estimator=Ridge(),\n",
       "             param_grid=[{'fit_intercept': [True, False],\n",
       "                          'normalize': [True, False]}])"
      ]
     },
     "execution_count": 27,
     "metadata": {},
     "output_type": "execute_result"
    }
   ],
   "source": [
    "# otwarcie z dysku\n",
    "model_AA = joblib.load(filename) \n",
    "model_AA"
   ]
  },
  {
   "cell_type": "markdown",
   "metadata": {},
   "source": [
    "<span style=\"font-size: 140%;background: white;font-weight:normal;color:#1155cc\"> I choose quotes from the period 46-52 weeks is a super test period (7 weeks)"
   ]
  },
  {
   "cell_type": "code",
   "execution_count": 28,
   "metadata": {},
   "outputs": [
    {
     "data": {
      "text/html": [
       "<div>\n",
       "<style scoped>\n",
       "    .dataframe tbody tr th:only-of-type {\n",
       "        vertical-align: middle;\n",
       "    }\n",
       "\n",
       "    .dataframe tbody tr th {\n",
       "        vertical-align: top;\n",
       "    }\n",
       "\n",
       "    .dataframe thead th {\n",
       "        text-align: right;\n",
       "    }\n",
       "</style>\n",
       "<table border=\"1\" class=\"dataframe\">\n",
       "  <thead>\n",
       "    <tr style=\"text-align: right;\">\n",
       "      <th></th>\n",
       "      <th>Product_Code</th>\n",
       "      <th>Week</th>\n",
       "      <th>Sales</th>\n",
       "      <th>Sales_last_1_week</th>\n",
       "      <th>Sales_last_2_week</th>\n",
       "      <th>Sales_last_3_week</th>\n",
       "      <th>Sales_last_4_week</th>\n",
       "      <th>Sales_last_5_week</th>\n",
       "      <th>Sales_last_6_week</th>\n",
       "      <th>Sales_last_7_week</th>\n",
       "      <th>Diff_sales_last_1_week</th>\n",
       "      <th>Diff_sales_last_2_week</th>\n",
       "      <th>Diff_sales_last_3_week</th>\n",
       "      <th>Diff_sales_last_4_week</th>\n",
       "      <th>Diff_sales_last_5_week</th>\n",
       "      <th>Diff_sales_last_6_week</th>\n",
       "      <th>Diff_sales_last_7_week</th>\n",
       "    </tr>\n",
       "  </thead>\n",
       "  <tbody>\n",
       "    <tr>\n",
       "      <td>36495</td>\n",
       "      <td>1</td>\n",
       "      <td>45</td>\n",
       "      <td>10</td>\n",
       "      <td>8.0</td>\n",
       "      <td>7.0</td>\n",
       "      <td>4.0</td>\n",
       "      <td>11.0</td>\n",
       "      <td>7.0</td>\n",
       "      <td>17.0</td>\n",
       "      <td>12.0</td>\n",
       "      <td>1.0</td>\n",
       "      <td>3.0</td>\n",
       "      <td>-7.0</td>\n",
       "      <td>4.0</td>\n",
       "      <td>-10.0</td>\n",
       "      <td>5.0</td>\n",
       "      <td>3.0</td>\n",
       "    </tr>\n",
       "    <tr>\n",
       "      <td>36496</td>\n",
       "      <td>2</td>\n",
       "      <td>45</td>\n",
       "      <td>1</td>\n",
       "      <td>5.0</td>\n",
       "      <td>4.0</td>\n",
       "      <td>2.0</td>\n",
       "      <td>5.0</td>\n",
       "      <td>2.0</td>\n",
       "      <td>3.0</td>\n",
       "      <td>7.0</td>\n",
       "      <td>1.0</td>\n",
       "      <td>2.0</td>\n",
       "      <td>-3.0</td>\n",
       "      <td>3.0</td>\n",
       "      <td>-1.0</td>\n",
       "      <td>-4.0</td>\n",
       "      <td>5.0</td>\n",
       "    </tr>\n",
       "    <tr>\n",
       "      <td>36497</td>\n",
       "      <td>3</td>\n",
       "      <td>45</td>\n",
       "      <td>5</td>\n",
       "      <td>5.0</td>\n",
       "      <td>14.0</td>\n",
       "      <td>6.0</td>\n",
       "      <td>5.0</td>\n",
       "      <td>3.0</td>\n",
       "      <td>9.0</td>\n",
       "      <td>12.0</td>\n",
       "      <td>-9.0</td>\n",
       "      <td>8.0</td>\n",
       "      <td>1.0</td>\n",
       "      <td>2.0</td>\n",
       "      <td>-6.0</td>\n",
       "      <td>-3.0</td>\n",
       "      <td>0.0</td>\n",
       "    </tr>\n",
       "    <tr>\n",
       "      <td>36498</td>\n",
       "      <td>4</td>\n",
       "      <td>45</td>\n",
       "      <td>4</td>\n",
       "      <td>3.0</td>\n",
       "      <td>10.0</td>\n",
       "      <td>9.0</td>\n",
       "      <td>6.0</td>\n",
       "      <td>12.0</td>\n",
       "      <td>8.0</td>\n",
       "      <td>8.0</td>\n",
       "      <td>-7.0</td>\n",
       "      <td>1.0</td>\n",
       "      <td>3.0</td>\n",
       "      <td>-6.0</td>\n",
       "      <td>4.0</td>\n",
       "      <td>0.0</td>\n",
       "      <td>2.0</td>\n",
       "    </tr>\n",
       "  </tbody>\n",
       "</table>\n",
       "</div>"
      ],
      "text/plain": [
       "       Product_Code  Week  Sales  Sales_last_1_week  Sales_last_2_week  \\\n",
       "36495             1    45     10                8.0                7.0   \n",
       "36496             2    45      1                5.0                4.0   \n",
       "36497             3    45      5                5.0               14.0   \n",
       "36498             4    45      4                3.0               10.0   \n",
       "\n",
       "       Sales_last_3_week  Sales_last_4_week  Sales_last_5_week  \\\n",
       "36495                4.0               11.0                7.0   \n",
       "36496                2.0                5.0                2.0   \n",
       "36497                6.0                5.0                3.0   \n",
       "36498                9.0                6.0               12.0   \n",
       "\n",
       "       Sales_last_6_week  Sales_last_7_week  Diff_sales_last_1_week  \\\n",
       "36495               17.0               12.0                     1.0   \n",
       "36496                3.0                7.0                     1.0   \n",
       "36497                9.0               12.0                    -9.0   \n",
       "36498                8.0                8.0                    -7.0   \n",
       "\n",
       "       Diff_sales_last_2_week  Diff_sales_last_3_week  Diff_sales_last_4_week  \\\n",
       "36495                     3.0                    -7.0                     4.0   \n",
       "36496                     2.0                    -3.0                     3.0   \n",
       "36497                     8.0                     1.0                     2.0   \n",
       "36498                     1.0                     3.0                    -6.0   \n",
       "\n",
       "       Diff_sales_last_5_week  Diff_sales_last_6_week  Diff_sales_last_7_week  \n",
       "36495                   -10.0                     5.0                     3.0  \n",
       "36496                    -1.0                    -4.0                     5.0  \n",
       "36497                    -6.0                    -3.0                     0.0  \n",
       "36498                     4.0                     0.0                     2.0  "
      ]
     },
     "execution_count": 28,
     "metadata": {},
     "output_type": "execute_result"
    }
   ],
   "source": [
    "SuperTest = df2[df2.Week.isin([45,46,47,48,49,50,51,52])] \n",
    "SuperTest.head(4)"
   ]
  },
  {
   "cell_type": "markdown",
   "metadata": {},
   "source": [
    "<span style=\"font-size: 140%;background: white;font-weight:normal;color:#1155cc\">Only the first 10 products"
   ]
  },
  {
   "cell_type": "code",
   "execution_count": 29,
   "metadata": {},
   "outputs": [
    {
     "data": {
      "text/html": [
       "<div>\n",
       "<style scoped>\n",
       "    .dataframe tbody tr th:only-of-type {\n",
       "        vertical-align: middle;\n",
       "    }\n",
       "\n",
       "    .dataframe tbody tr th {\n",
       "        vertical-align: top;\n",
       "    }\n",
       "\n",
       "    .dataframe thead th {\n",
       "        text-align: right;\n",
       "    }\n",
       "</style>\n",
       "<table border=\"1\" class=\"dataframe\">\n",
       "  <thead>\n",
       "    <tr style=\"text-align: right;\">\n",
       "      <th></th>\n",
       "      <th>Product_Code</th>\n",
       "      <th>Week</th>\n",
       "      <th>Sales</th>\n",
       "      <th>Sales_last_1_week</th>\n",
       "      <th>Sales_last_2_week</th>\n",
       "      <th>Sales_last_3_week</th>\n",
       "      <th>Sales_last_4_week</th>\n",
       "      <th>Sales_last_5_week</th>\n",
       "      <th>Sales_last_6_week</th>\n",
       "      <th>Sales_last_7_week</th>\n",
       "      <th>Diff_sales_last_1_week</th>\n",
       "      <th>Diff_sales_last_2_week</th>\n",
       "      <th>Diff_sales_last_3_week</th>\n",
       "      <th>Diff_sales_last_4_week</th>\n",
       "      <th>Diff_sales_last_5_week</th>\n",
       "      <th>Diff_sales_last_6_week</th>\n",
       "      <th>Diff_sales_last_7_week</th>\n",
       "    </tr>\n",
       "  </thead>\n",
       "  <tbody>\n",
       "    <tr>\n",
       "      <td>36495</td>\n",
       "      <td>1</td>\n",
       "      <td>45</td>\n",
       "      <td>10</td>\n",
       "      <td>8.0</td>\n",
       "      <td>7.0</td>\n",
       "      <td>4.0</td>\n",
       "      <td>11.0</td>\n",
       "      <td>7.0</td>\n",
       "      <td>17.0</td>\n",
       "      <td>12.0</td>\n",
       "      <td>1.0</td>\n",
       "      <td>3.0</td>\n",
       "      <td>-7.0</td>\n",
       "      <td>4.0</td>\n",
       "      <td>-10.0</td>\n",
       "      <td>5.0</td>\n",
       "      <td>3.0</td>\n",
       "    </tr>\n",
       "    <tr>\n",
       "      <td>36496</td>\n",
       "      <td>2</td>\n",
       "      <td>45</td>\n",
       "      <td>1</td>\n",
       "      <td>5.0</td>\n",
       "      <td>4.0</td>\n",
       "      <td>2.0</td>\n",
       "      <td>5.0</td>\n",
       "      <td>2.0</td>\n",
       "      <td>3.0</td>\n",
       "      <td>7.0</td>\n",
       "      <td>1.0</td>\n",
       "      <td>2.0</td>\n",
       "      <td>-3.0</td>\n",
       "      <td>3.0</td>\n",
       "      <td>-1.0</td>\n",
       "      <td>-4.0</td>\n",
       "      <td>5.0</td>\n",
       "    </tr>\n",
       "    <tr>\n",
       "      <td>36497</td>\n",
       "      <td>3</td>\n",
       "      <td>45</td>\n",
       "      <td>5</td>\n",
       "      <td>5.0</td>\n",
       "      <td>14.0</td>\n",
       "      <td>6.0</td>\n",
       "      <td>5.0</td>\n",
       "      <td>3.0</td>\n",
       "      <td>9.0</td>\n",
       "      <td>12.0</td>\n",
       "      <td>-9.0</td>\n",
       "      <td>8.0</td>\n",
       "      <td>1.0</td>\n",
       "      <td>2.0</td>\n",
       "      <td>-6.0</td>\n",
       "      <td>-3.0</td>\n",
       "      <td>0.0</td>\n",
       "    </tr>\n",
       "    <tr>\n",
       "      <td>36498</td>\n",
       "      <td>4</td>\n",
       "      <td>45</td>\n",
       "      <td>4</td>\n",
       "      <td>3.0</td>\n",
       "      <td>10.0</td>\n",
       "      <td>9.0</td>\n",
       "      <td>6.0</td>\n",
       "      <td>12.0</td>\n",
       "      <td>8.0</td>\n",
       "      <td>8.0</td>\n",
       "      <td>-7.0</td>\n",
       "      <td>1.0</td>\n",
       "      <td>3.0</td>\n",
       "      <td>-6.0</td>\n",
       "      <td>4.0</td>\n",
       "      <td>0.0</td>\n",
       "      <td>2.0</td>\n",
       "    </tr>\n",
       "  </tbody>\n",
       "</table>\n",
       "</div>"
      ],
      "text/plain": [
       "       Product_Code  Week  Sales  Sales_last_1_week  Sales_last_2_week  \\\n",
       "36495             1    45     10                8.0                7.0   \n",
       "36496             2    45      1                5.0                4.0   \n",
       "36497             3    45      5                5.0               14.0   \n",
       "36498             4    45      4                3.0               10.0   \n",
       "\n",
       "       Sales_last_3_week  Sales_last_4_week  Sales_last_5_week  \\\n",
       "36495                4.0               11.0                7.0   \n",
       "36496                2.0                5.0                2.0   \n",
       "36497                6.0                5.0                3.0   \n",
       "36498                9.0                6.0               12.0   \n",
       "\n",
       "       Sales_last_6_week  Sales_last_7_week  Diff_sales_last_1_week  \\\n",
       "36495               17.0               12.0                     1.0   \n",
       "36496                3.0                7.0                     1.0   \n",
       "36497                9.0               12.0                    -9.0   \n",
       "36498                8.0                8.0                    -7.0   \n",
       "\n",
       "       Diff_sales_last_2_week  Diff_sales_last_3_week  Diff_sales_last_4_week  \\\n",
       "36495                     3.0                    -7.0                     4.0   \n",
       "36496                     2.0                    -3.0                     3.0   \n",
       "36497                     8.0                     1.0                     2.0   \n",
       "36498                     1.0                     3.0                    -6.0   \n",
       "\n",
       "       Diff_sales_last_5_week  Diff_sales_last_6_week  Diff_sales_last_7_week  \n",
       "36495                   -10.0                     5.0                     3.0  \n",
       "36496                    -1.0                    -4.0                     5.0  \n",
       "36497                    -6.0                    -3.0                     0.0  \n",
       "36498                     4.0                     0.0                     2.0  "
      ]
     },
     "execution_count": 29,
     "metadata": {},
     "output_type": "execute_result"
    }
   ],
   "source": [
    "SuperTest = SuperTest[SuperTest['Product_Code']<=10]\n",
    "SuperTest.head(4)"
   ]
  },
  {
   "cell_type": "code",
   "execution_count": 30,
   "metadata": {},
   "outputs": [
    {
     "data": {
      "text/plain": [
       "10    7\n",
       "9     7\n",
       "8     7\n",
       "7     7\n",
       "6     7\n",
       "5     7\n",
       "4     7\n",
       "3     7\n",
       "2     7\n",
       "1     7\n",
       "Name: Product_Code, dtype: int64"
      ]
     },
     "execution_count": 30,
     "metadata": {},
     "output_type": "execute_result"
    }
   ],
   "source": [
    "SuperTest['Product_Code'].value_counts()"
   ]
  },
  {
   "cell_type": "code",
   "execution_count": 31,
   "metadata": {},
   "outputs": [
    {
     "name": "stdout",
     "output_type": "stream",
     "text": [
      "max: 24\n",
      "min: 0\n"
     ]
    },
    {
     "data": {
      "text/plain": [
       "<matplotlib.axes._subplots.AxesSubplot at 0x7fcba4581850>"
      ]
     },
     "execution_count": 31,
     "metadata": {},
     "output_type": "execute_result"
    },
    {
     "data": {
      "image/png": "[encoded data removed]",
      "text/plain": [
       "<Figure size 432x288 with 1 Axes>"
      ]
     },
     "metadata": {
      "needs_background": "light"
     },
     "output_type": "display_data"
    }
   ],
   "source": [
    "print('max:',SuperTest['Sales'].max())\n",
    "print('min:',SuperTest['Sales'].min())\n",
    "\n",
    "sns.distplot(np.array(SuperTest['Sales']))"
   ]
  },
  {
   "cell_type": "code",
   "execution_count": 32,
   "metadata": {},
   "outputs": [],
   "source": [
    "from sklearn.model_selection import train_test_split \n",
    "\n",
    "y = SuperTest['Sales']\n",
    "X = SuperTest.drop('Sales', axis=1)\n",
    "\n",
    "#Xtrain, Xtest, ytrain, ytest = train_test_split(X,y, test_size=0.25, random_state = 148)"
   ]
  },
  {
   "cell_type": "code",
   "execution_count": 33,
   "metadata": {},
   "outputs": [
    {
     "data": {
      "text/plain": [
       "GridSearchCV(estimator=Ridge(),\n",
       "             param_grid=[{'fit_intercept': [True, False],\n",
       "                          'normalize': [True, False]}])"
      ]
     },
     "execution_count": 33,
     "metadata": {},
     "output_type": "execute_result"
    }
   ],
   "source": [
    "model = model_AA\n",
    "model"
   ]
  },
  {
   "cell_type": "markdown",
   "metadata": {},
   "source": [
    "<span style=\"font-size: 140%;background: white;font-weight:normal;color:#1155cc\">Operation of the selected model for the first 10 products for 7 weeks"
   ]
  },
  {
   "cell_type": "code",
   "execution_count": 34,
   "metadata": {},
   "outputs": [
    {
     "name": "stdout",
     "output_type": "stream",
     "text": [
      "r2 train: [ 0.3  0.5  0.2  0.2  0.7 -0.1  0.8  0.3  0.6  0.7  0.7  0.8]\n"
     ]
    },
    {
     "data": {
      "image/png": "[encoded data removed]",
      "text/plain": [
       "<Figure size 432x288 with 1 Axes>"
      ]
     },
     "metadata": {
      "needs_background": "light"
     },
     "output_type": "display_data"
    }
   ],
   "source": [
    "from sklearn.model_selection import cross_val_score \n",
    "\n",
    "ypred_tr = model_AA.predict(X)\n",
    "\n",
    "r2_train = cross_val_score(model_AA,X,y, cv=12)\n",
    "r2_train = np.round(r2_train, decimals=1)\n",
    "print('r2 train:', r2_train)\n",
    "\n",
    "ax = sns.regplot(y,ypred_tr,color='#a2c4c9')\n",
    "plt.title('Model',color='#a2c4c9') \n",
    "plt.ylabel('y', fontsize=12) \n",
    "plt.xlabel('ypred_tr', fontsize=12) \n",
    "plt.show()"
   ]
  },
  {
   "cell_type": "code",
   "execution_count": 35,
   "metadata": {},
   "outputs": [
    {
     "data": {
      "text/plain": [
       "array([ 8.6714086 ,  3.97498004,  7.96710694,  7.25497064,  7.54306625,\n",
       "        3.55282113,  3.59953708,  7.64689169,  9.78100956, 14.78561486,\n",
       "        9.18979829,  3.38098853,  6.94814139,  6.65314841,  8.49897115,\n",
       "        3.41448912,  4.21499943,  7.79560468,  8.11374863, 16.65421118,\n",
       "        9.62289845,  2.61938589,  6.58672315,  6.61854382,  7.73712328,\n",
       "        4.12519118,  3.88249132,  7.86430931,  7.58051152, 15.62078867,\n",
       "        7.42906464,  3.04127474,  6.88946866,  7.04359618,  7.52135766,\n",
       "        4.40936613,  4.51515951,  7.55869015,  7.44650733, 15.53762394,\n",
       "        7.35646965,  3.65014955,  8.83873557,  8.40983572,  7.11381091,\n",
       "        3.98664304,  3.81502228,  7.77859929,  8.13804381, 16.10949479,\n",
       "        6.87256523,  2.90388737,  8.70965295,  8.22331289,  8.20705067,\n",
       "        3.71835458,  3.66891005,  6.89855882,  8.97372209, 17.72258798,\n",
       "        6.79294512,  3.71732611,  8.55240662,  7.66267439,  8.21097147,\n",
       "        5.27051758,  3.36844904,  7.3154282 ,  8.23914503, 17.72458149])"
      ]
     },
     "execution_count": 35,
     "metadata": {},
     "output_type": "execute_result"
    }
   ],
   "source": [
    "ypred_tr"
   ]
  },
  {
   "cell_type": "code",
   "execution_count": 36,
   "metadata": {},
   "outputs": [
    {
     "data": {
      "text/html": [
       "<div>\n",
       "<style scoped>\n",
       "    .dataframe tbody tr th:only-of-type {\n",
       "        vertical-align: middle;\n",
       "    }\n",
       "\n",
       "    .dataframe tbody tr th {\n",
       "        vertical-align: top;\n",
       "    }\n",
       "\n",
       "    .dataframe thead th {\n",
       "        text-align: right;\n",
       "    }\n",
       "</style>\n",
       "<table border=\"1\" class=\"dataframe\">\n",
       "  <thead>\n",
       "    <tr style=\"text-align: right;\">\n",
       "      <th></th>\n",
       "      <th>y_model</th>\n",
       "    </tr>\n",
       "  </thead>\n",
       "  <tbody>\n",
       "    <tr>\n",
       "      <td>0</td>\n",
       "      <td>9.0</td>\n",
       "    </tr>\n",
       "    <tr>\n",
       "      <td>1</td>\n",
       "      <td>4.0</td>\n",
       "    </tr>\n",
       "    <tr>\n",
       "      <td>2</td>\n",
       "      <td>8.0</td>\n",
       "    </tr>\n",
       "    <tr>\n",
       "      <td>3</td>\n",
       "      <td>7.0</td>\n",
       "    </tr>\n",
       "    <tr>\n",
       "      <td>4</td>\n",
       "      <td>8.0</td>\n",
       "    </tr>\n",
       "  </tbody>\n",
       "</table>\n",
       "</div>"
      ],
      "text/plain": [
       "   y_model\n",
       "0      9.0\n",
       "1      4.0\n",
       "2      8.0\n",
       "3      7.0\n",
       "4      8.0"
      ]
     },
     "execution_count": 36,
     "metadata": {},
     "output_type": "execute_result"
    }
   ],
   "source": [
    "df11 = pd.DataFrame(ypred_tr).round(0)\n",
    "df11.columns = ['y_model']\n",
    "df11.head(5)"
   ]
  },
  {
   "cell_type": "code",
   "execution_count": 37,
   "metadata": {},
   "outputs": [
    {
     "name": "stdout",
     "output_type": "stream",
     "text": [
      "df11      (70, 1)\n",
      "y         (70,)\n",
      "SuperTest (70, 17)\n"
     ]
    }
   ],
   "source": [
    "print('df11     ',df11.shape)\n",
    "print('y        ',y.shape)\n",
    "print('SuperTest',SuperTest.shape)"
   ]
  },
  {
   "cell_type": "code",
   "execution_count": 38,
   "metadata": {},
   "outputs": [],
   "source": [
    "SuperTest=SuperTest.reset_index()\n",
    "SuperTest=SuperTest.drop(['index'],axis=1)"
   ]
  },
  {
   "cell_type": "code",
   "execution_count": 39,
   "metadata": {},
   "outputs": [
    {
     "data": {
      "text/plain": [
       "Index(['Product_Code', 'Week', 'Sales', 'Sales_last_1_week',\n",
       "       'Sales_last_2_week', 'Sales_last_3_week', 'Sales_last_4_week',\n",
       "       'Sales_last_5_week', 'Sales_last_6_week', 'Sales_last_7_week',\n",
       "       'Diff_sales_last_1_week', 'Diff_sales_last_2_week',\n",
       "       'Diff_sales_last_3_week', 'Diff_sales_last_4_week',\n",
       "       'Diff_sales_last_5_week', 'Diff_sales_last_6_week',\n",
       "       'Diff_sales_last_7_week'],\n",
       "      dtype='object')"
      ]
     },
     "execution_count": 39,
     "metadata": {},
     "output_type": "execute_result"
    }
   ],
   "source": [
    "SuperTest.columns"
   ]
  },
  {
   "cell_type": "markdown",
   "metadata": {},
   "source": [
    "<span style=\"font-size: 140%;background: white;font-weight:normal;color:#1155cc\">I compare the forecast with the execution"
   ]
  },
  {
   "cell_type": "code",
   "execution_count": 40,
   "metadata": {},
   "outputs": [
    {
     "data": {
      "text/html": [
       "<div>\n",
       "<style scoped>\n",
       "    .dataframe tbody tr th:only-of-type {\n",
       "        vertical-align: middle;\n",
       "    }\n",
       "\n",
       "    .dataframe tbody tr th {\n",
       "        vertical-align: top;\n",
       "    }\n",
       "\n",
       "    .dataframe thead th {\n",
       "        text-align: right;\n",
       "    }\n",
       "</style>\n",
       "<table border=\"1\" class=\"dataframe\">\n",
       "  <thead>\n",
       "    <tr style=\"text-align: right;\">\n",
       "      <th></th>\n",
       "      <th>Product_Code</th>\n",
       "      <th>Week</th>\n",
       "      <th>Sales</th>\n",
       "      <th>y_model</th>\n",
       "    </tr>\n",
       "  </thead>\n",
       "  <tbody>\n",
       "    <tr>\n",
       "      <td>0</td>\n",
       "      <td>1</td>\n",
       "      <td>45</td>\n",
       "      <td>10</td>\n",
       "      <td>9.0</td>\n",
       "    </tr>\n",
       "    <tr>\n",
       "      <td>1</td>\n",
       "      <td>2</td>\n",
       "      <td>45</td>\n",
       "      <td>1</td>\n",
       "      <td>4.0</td>\n",
       "    </tr>\n",
       "    <tr>\n",
       "      <td>2</td>\n",
       "      <td>3</td>\n",
       "      <td>45</td>\n",
       "      <td>5</td>\n",
       "      <td>8.0</td>\n",
       "    </tr>\n",
       "    <tr>\n",
       "      <td>3</td>\n",
       "      <td>4</td>\n",
       "      <td>45</td>\n",
       "      <td>4</td>\n",
       "      <td>7.0</td>\n",
       "    </tr>\n",
       "    <tr>\n",
       "      <td>4</td>\n",
       "      <td>5</td>\n",
       "      <td>45</td>\n",
       "      <td>12</td>\n",
       "      <td>8.0</td>\n",
       "    </tr>\n",
       "    <tr>\n",
       "      <td>...</td>\n",
       "      <td>...</td>\n",
       "      <td>...</td>\n",
       "      <td>...</td>\n",
       "      <td>...</td>\n",
       "    </tr>\n",
       "    <tr>\n",
       "      <td>65</td>\n",
       "      <td>6</td>\n",
       "      <td>51</td>\n",
       "      <td>6</td>\n",
       "      <td>5.0</td>\n",
       "    </tr>\n",
       "    <tr>\n",
       "      <td>66</td>\n",
       "      <td>7</td>\n",
       "      <td>51</td>\n",
       "      <td>1</td>\n",
       "      <td>3.0</td>\n",
       "    </tr>\n",
       "    <tr>\n",
       "      <td>67</td>\n",
       "      <td>8</td>\n",
       "      <td>51</td>\n",
       "      <td>9</td>\n",
       "      <td>7.0</td>\n",
       "    </tr>\n",
       "    <tr>\n",
       "      <td>68</td>\n",
       "      <td>9</td>\n",
       "      <td>51</td>\n",
       "      <td>13</td>\n",
       "      <td>8.0</td>\n",
       "    </tr>\n",
       "    <tr>\n",
       "      <td>69</td>\n",
       "      <td>10</td>\n",
       "      <td>51</td>\n",
       "      <td>20</td>\n",
       "      <td>18.0</td>\n",
       "    </tr>\n",
       "  </tbody>\n",
       "</table>\n",
       "<p>70 rows × 4 columns</p>\n",
       "</div>"
      ],
      "text/plain": [
       "    Product_Code  Week  Sales  y_model\n",
       "0              1    45     10      9.0\n",
       "1              2    45      1      4.0\n",
       "2              3    45      5      8.0\n",
       "3              4    45      4      7.0\n",
       "4              5    45     12      8.0\n",
       "..           ...   ...    ...      ...\n",
       "65             6    51      6      5.0\n",
       "66             7    51      1      3.0\n",
       "67             8    51      9      7.0\n",
       "68             9    51     13      8.0\n",
       "69            10    51     20     18.0\n",
       "\n",
       "[70 rows x 4 columns]"
      ]
     },
     "execution_count": 40,
     "metadata": {},
     "output_type": "execute_result"
    }
   ],
   "source": [
    "Super_NOWA = pd.merge(SuperTest,df11, how='inner', left_index=True, right_index=True)\n",
    "Super_NOWA[['Product_Code','Week','Sales','y_model']]"
   ]
  },
  {
   "cell_type": "code",
   "execution_count": 41,
   "metadata": {},
   "outputs": [
    {
     "data": {
      "text/plain": [
       "Text(0.5, 1.0, 'COURSE OF THE PROJECTING PROCESS ON THE TEST SET')"
      ]
     },
     "execution_count": 41,
     "metadata": {},
     "output_type": "execute_result"
    },
    {
     "data": {
      "image/png": "[encoded data removed]",
      "text/plain": [
       "<Figure size 1152x144 with 1 Axes>"
      ]
     },
     "metadata": {
      "needs_background": "light"
     },
     "output_type": "display_data"
    }
   ],
   "source": [
    "import matplotlib.pyplot as plt\n",
    "\n",
    "fig, ax = plt.subplots( figsize=(16, 2))\n",
    "for ewa in ['Sales', 'y_model']:\n",
    "    ax.plot(Super_NOWA[['Sales', 'y_model']], label=ewa)\n",
    "    \n",
    "ax.set_xlim(1, 70)\n",
    "#ax.legend()\n",
    "ax.set_ylabel('Parameter')\n",
    "ax.set_title('COURSE OF THE PROJECTING PROCESS ON THE TEST SET')"
   ]
  },
  {
   "cell_type": "markdown",
   "metadata": {},
   "source": [
    "<span style=\"font-size: 110%;background: white;font-weight:normal;color:#1155cc\"> To improve the prediction, you can use a model that requires more computational effort (longer model optimization time) or run many models and make a model committee from many different predictions. All of this could improve the accuracy of the model, but it costs more computational time."
   ]
  }
 ],
 "metadata": {
  "kernelspec": {
   "display_name": "Python 3",
   "language": "python",
   "name": "python3"
  },
  "language_info": {
   "codemirror_mode": {
    "name": "ipython",
    "version": 3
   },
   "file_extension": ".py",
   "mimetype": "text/x-python",
   "name": "python",
   "nbconvert_exporter": "python",
   "pygments_lexer": "ipython3",
   "version": "3.7.4"
  }
 },
 "nbformat": 4,
 "nbformat_minor": 2
}

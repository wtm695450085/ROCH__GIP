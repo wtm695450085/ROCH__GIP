{
 "cells": [
  {
   "cell_type": "markdown",
   "metadata": {},
   "source": [
    "<span style=\"font-size: 150%;color:white;background:#38761d\"> A task for the recruitment process\n",
    "\n",
    "<span style=\"font-size: 150%;color:white;background:red\">Wojciech Moszczyński\n",
    "\n",
    "\n",
    "\n",
    "<span style=\"font-size: 300%;color:white;background:#38761d\">neural network   \n",
    "    \n",
    "    from:\n",
    "https://archive.ics.uci.edu/ml/datasets/Sales_Transactions_Dataset_Weekly.\n",
    "\n",
    "\n",
    "<span style=\"font-size: 150%;color:#0c343d;background:#fff2cc\"> For the first 10 products, please conduct the exploratory analysis and compute the forecast for the next 7 weeks.  "
   ]
  },
  {
   "cell_type": "code",
   "execution_count": 1,
   "metadata": {},
   "outputs": [],
   "source": [
    "import pandas as pd\n",
    "import numpy as np\n",
    "%matplotlib inline\n",
    "import seaborn as sns\n",
    "import matplotlib.pyplot as plt\n",
    "import torch\n",
    "\n",
    "import warnings \n",
    "warnings.filterwarnings(\"ignore\")\n",
    "\n",
    "device = torch.device('cuda') \n",
    "\n",
    "from sklearn.metrics import mean_squared_log_error"
   ]
  },
  {
   "cell_type": "markdown",
   "metadata": {},
   "source": [
    "<span style=\"font-size: 110%;color:#0c343d;background:#fff2cc\">I download data - I do not need standardized sales because the primary data is enough for me."
   ]
  },
  {
   "cell_type": "code",
   "execution_count": 2,
   "metadata": {},
   "outputs": [
    {
     "data": {
      "text/html": [
       "<div>\n",
       "<style scoped>\n",
       "    .dataframe tbody tr th:only-of-type {\n",
       "        vertical-align: middle;\n",
       "    }\n",
       "\n",
       "    .dataframe tbody tr th {\n",
       "        vertical-align: top;\n",
       "    }\n",
       "\n",
       "    .dataframe thead th {\n",
       "        text-align: right;\n",
       "    }\n",
       "</style>\n",
       "<table border=\"1\" class=\"dataframe\">\n",
       "  <thead>\n",
       "    <tr style=\"text-align: right;\">\n",
       "      <th></th>\n",
       "      <th>Product_Code</th>\n",
       "      <th>W0</th>\n",
       "      <th>W1</th>\n",
       "      <th>W2</th>\n",
       "      <th>W3</th>\n",
       "      <th>W4</th>\n",
       "      <th>W5</th>\n",
       "      <th>W6</th>\n",
       "      <th>W7</th>\n",
       "      <th>W8</th>\n",
       "      <th>...</th>\n",
       "      <th>W42</th>\n",
       "      <th>W43</th>\n",
       "      <th>W44</th>\n",
       "      <th>W45</th>\n",
       "      <th>W46</th>\n",
       "      <th>W47</th>\n",
       "      <th>W48</th>\n",
       "      <th>W49</th>\n",
       "      <th>W50</th>\n",
       "      <th>W51</th>\n",
       "    </tr>\n",
       "  </thead>\n",
       "  <tbody>\n",
       "    <tr>\n",
       "      <td>806</td>\n",
       "      <td>P815</td>\n",
       "      <td>0</td>\n",
       "      <td>0</td>\n",
       "      <td>1</td>\n",
       "      <td>0</td>\n",
       "      <td>0</td>\n",
       "      <td>2</td>\n",
       "      <td>1</td>\n",
       "      <td>0</td>\n",
       "      <td>0</td>\n",
       "      <td>...</td>\n",
       "      <td>0</td>\n",
       "      <td>1</td>\n",
       "      <td>1</td>\n",
       "      <td>0</td>\n",
       "      <td>0</td>\n",
       "      <td>1</td>\n",
       "      <td>0</td>\n",
       "      <td>0</td>\n",
       "      <td>2</td>\n",
       "      <td>0</td>\n",
       "    </tr>\n",
       "    <tr>\n",
       "      <td>807</td>\n",
       "      <td>P816</td>\n",
       "      <td>0</td>\n",
       "      <td>1</td>\n",
       "      <td>0</td>\n",
       "      <td>0</td>\n",
       "      <td>1</td>\n",
       "      <td>2</td>\n",
       "      <td>2</td>\n",
       "      <td>6</td>\n",
       "      <td>0</td>\n",
       "      <td>...</td>\n",
       "      <td>3</td>\n",
       "      <td>3</td>\n",
       "      <td>4</td>\n",
       "      <td>2</td>\n",
       "      <td>4</td>\n",
       "      <td>5</td>\n",
       "      <td>5</td>\n",
       "      <td>5</td>\n",
       "      <td>6</td>\n",
       "      <td>5</td>\n",
       "    </tr>\n",
       "    <tr>\n",
       "      <td>808</td>\n",
       "      <td>P817</td>\n",
       "      <td>1</td>\n",
       "      <td>0</td>\n",
       "      <td>0</td>\n",
       "      <td>0</td>\n",
       "      <td>1</td>\n",
       "      <td>1</td>\n",
       "      <td>2</td>\n",
       "      <td>1</td>\n",
       "      <td>1</td>\n",
       "      <td>...</td>\n",
       "      <td>2</td>\n",
       "      <td>0</td>\n",
       "      <td>0</td>\n",
       "      <td>2</td>\n",
       "      <td>2</td>\n",
       "      <td>0</td>\n",
       "      <td>0</td>\n",
       "      <td>0</td>\n",
       "      <td>4</td>\n",
       "      <td>3</td>\n",
       "    </tr>\n",
       "    <tr>\n",
       "      <td>809</td>\n",
       "      <td>P818</td>\n",
       "      <td>0</td>\n",
       "      <td>0</td>\n",
       "      <td>0</td>\n",
       "      <td>1</td>\n",
       "      <td>0</td>\n",
       "      <td>0</td>\n",
       "      <td>0</td>\n",
       "      <td>0</td>\n",
       "      <td>1</td>\n",
       "      <td>...</td>\n",
       "      <td>0</td>\n",
       "      <td>0</td>\n",
       "      <td>0</td>\n",
       "      <td>1</td>\n",
       "      <td>1</td>\n",
       "      <td>0</td>\n",
       "      <td>0</td>\n",
       "      <td>0</td>\n",
       "      <td>2</td>\n",
       "      <td>0</td>\n",
       "    </tr>\n",
       "    <tr>\n",
       "      <td>810</td>\n",
       "      <td>P819</td>\n",
       "      <td>0</td>\n",
       "      <td>1</td>\n",
       "      <td>0</td>\n",
       "      <td>0</td>\n",
       "      <td>0</td>\n",
       "      <td>0</td>\n",
       "      <td>0</td>\n",
       "      <td>0</td>\n",
       "      <td>0</td>\n",
       "      <td>...</td>\n",
       "      <td>0</td>\n",
       "      <td>0</td>\n",
       "      <td>0</td>\n",
       "      <td>0</td>\n",
       "      <td>0</td>\n",
       "      <td>0</td>\n",
       "      <td>0</td>\n",
       "      <td>0</td>\n",
       "      <td>0</td>\n",
       "      <td>1</td>\n",
       "    </tr>\n",
       "  </tbody>\n",
       "</table>\n",
       "<p>5 rows × 53 columns</p>\n",
       "</div>"
      ],
      "text/plain": [
       "    Product_Code  W0  W1  W2  W3  W4  W5  W6  W7  W8  ...  W42  W43  W44  W45  \\\n",
       "806         P815   0   0   1   0   0   2   1   0   0  ...    0    1    1    0   \n",
       "807         P816   0   1   0   0   1   2   2   6   0  ...    3    3    4    2   \n",
       "808         P817   1   0   0   0   1   1   2   1   1  ...    2    0    0    2   \n",
       "809         P818   0   0   0   1   0   0   0   0   1  ...    0    0    0    1   \n",
       "810         P819   0   1   0   0   0   0   0   0   0  ...    0    0    0    0   \n",
       "\n",
       "     W46  W47  W48  W49  W50  W51  \n",
       "806    0    1    0    0    2    0  \n",
       "807    4    5    5    5    6    5  \n",
       "808    2    0    0    0    4    3  \n",
       "809    1    0    0    0    2    0  \n",
       "810    0    0    0    0    0    1  \n",
       "\n",
       "[5 rows x 53 columns]"
      ]
     },
     "execution_count": 2,
     "metadata": {},
     "output_type": "execute_result"
    }
   ],
   "source": [
    "cols = pd.read_csv(\"/media/wojciech/D6DE33C1DE339927/1A/Sales_Transactions_Dataset_Weekly.csv\", nrows=1).columns\n",
    "df = pd.read_csv(\"/media/wojciech/D6DE33C1DE339927/1A/Sales_Transactions_Dataset_Weekly.csv\", usecols=cols[:53])\n",
    "df.tail()"
   ]
  },
  {
   "cell_type": "markdown",
   "metadata": {},
   "source": [
    "<span style=\"font-size: 110%;color:#0c343d;background:#fff2cc\">I remember having to make a forecast for the first 10 products. The time series is too small to forecast. Only 52 values (52 weeks) is not a time series that allows you to build an effective forecasting model. In turn, there are as many as 811 products, which is a lot. This can be changed by entering the item index as a single independent variable.\n",
    "Then we will get 811 times 52 variables = 42172 rows which gives a considerable number to do a forecasting model. Rule of thumb - even though I only have to forecast for the first 10 items - I am making a model for all 811 items."
   ]
  },
  {
   "cell_type": "code",
   "execution_count": 3,
   "metadata": {},
   "outputs": [
    {
     "data": {
      "text/plain": [
       "(811, 53)"
      ]
     },
     "execution_count": 3,
     "metadata": {},
     "output_type": "execute_result"
    }
   ],
   "source": [
    "df.shape"
   ]
  },
  {
   "cell_type": "code",
   "execution_count": 4,
   "metadata": {},
   "outputs": [
    {
     "data": {
      "text/html": [
       "<div>\n",
       "<style scoped>\n",
       "    .dataframe tbody tr th:only-of-type {\n",
       "        vertical-align: middle;\n",
       "    }\n",
       "\n",
       "    .dataframe tbody tr th {\n",
       "        vertical-align: top;\n",
       "    }\n",
       "\n",
       "    .dataframe thead th {\n",
       "        text-align: right;\n",
       "    }\n",
       "</style>\n",
       "<table border=\"1\" class=\"dataframe\">\n",
       "  <thead>\n",
       "    <tr style=\"text-align: right;\">\n",
       "      <th></th>\n",
       "      <th>Product_Code</th>\n",
       "      <th>Week</th>\n",
       "      <th>Sales</th>\n",
       "    </tr>\n",
       "  </thead>\n",
       "  <tbody>\n",
       "    <tr>\n",
       "      <td>0</td>\n",
       "      <td>P1</td>\n",
       "      <td>W0</td>\n",
       "      <td>11</td>\n",
       "    </tr>\n",
       "    <tr>\n",
       "      <td>1</td>\n",
       "      <td>P2</td>\n",
       "      <td>W0</td>\n",
       "      <td>7</td>\n",
       "    </tr>\n",
       "    <tr>\n",
       "      <td>2</td>\n",
       "      <td>P3</td>\n",
       "      <td>W0</td>\n",
       "      <td>7</td>\n",
       "    </tr>\n",
       "    <tr>\n",
       "      <td>3</td>\n",
       "      <td>P4</td>\n",
       "      <td>W0</td>\n",
       "      <td>12</td>\n",
       "    </tr>\n",
       "    <tr>\n",
       "      <td>4</td>\n",
       "      <td>P5</td>\n",
       "      <td>W0</td>\n",
       "      <td>8</td>\n",
       "    </tr>\n",
       "    <tr>\n",
       "      <td>...</td>\n",
       "      <td>...</td>\n",
       "      <td>...</td>\n",
       "      <td>...</td>\n",
       "    </tr>\n",
       "    <tr>\n",
       "      <td>42167</td>\n",
       "      <td>P815</td>\n",
       "      <td>W51</td>\n",
       "      <td>0</td>\n",
       "    </tr>\n",
       "    <tr>\n",
       "      <td>42168</td>\n",
       "      <td>P816</td>\n",
       "      <td>W51</td>\n",
       "      <td>5</td>\n",
       "    </tr>\n",
       "    <tr>\n",
       "      <td>42169</td>\n",
       "      <td>P817</td>\n",
       "      <td>W51</td>\n",
       "      <td>3</td>\n",
       "    </tr>\n",
       "    <tr>\n",
       "      <td>42170</td>\n",
       "      <td>P818</td>\n",
       "      <td>W51</td>\n",
       "      <td>0</td>\n",
       "    </tr>\n",
       "    <tr>\n",
       "      <td>42171</td>\n",
       "      <td>P819</td>\n",
       "      <td>W51</td>\n",
       "      <td>1</td>\n",
       "    </tr>\n",
       "  </tbody>\n",
       "</table>\n",
       "<p>42172 rows × 3 columns</p>\n",
       "</div>"
      ],
      "text/plain": [
       "      Product_Code Week  Sales\n",
       "0               P1   W0     11\n",
       "1               P2   W0      7\n",
       "2               P3   W0      7\n",
       "3               P4   W0     12\n",
       "4               P5   W0      8\n",
       "...            ...  ...    ...\n",
       "42167         P815  W51      0\n",
       "42168         P816  W51      5\n",
       "42169         P817  W51      3\n",
       "42170         P818  W51      0\n",
       "42171         P819  W51      1\n",
       "\n",
       "[42172 rows x 3 columns]"
      ]
     },
     "execution_count": 4,
     "metadata": {},
     "output_type": "execute_result"
    }
   ],
   "source": [
    "df2 = df.melt(id_vars='Product_Code', var_name='Week', value_name='Sales')\n",
    "df2"
   ]
  },
  {
   "cell_type": "markdown",
   "metadata": {},
   "source": [
    "<span style=\"font-size: 110%;background: white;font-weight:normal;color:#1155cc\">The data is complete"
   ]
  },
  {
   "cell_type": "code",
   "execution_count": 5,
   "metadata": {},
   "outputs": [
    {
     "data": {
      "text/plain": [
       "<matplotlib.axes._subplots.AxesSubplot at 0x7f372c50b0d0>"
      ]
     },
     "execution_count": 5,
     "metadata": {},
     "output_type": "execute_result"
    },
    {
     "data": {
      "image/png": "[encoded data removed]",
      "text/plain": [
       "<Figure size 432x288 with 1 Axes>"
      ]
     },
     "metadata": {
      "needs_background": "light"
     },
     "output_type": "display_data"
    }
   ],
   "source": [
    "sns.heatmap(df2.isnull(),yticklabels=False,cbar=False,cmap='viridis')"
   ]
  },
  {
   "cell_type": "markdown",
   "metadata": {},
   "source": [
    "<span style=\"font-size: 210%;color:#0c343d;background:#fff2cc\"> Removal of the letters W and P\n",
    "    \n",
    "<span style=\"font-size: 110%;color:#0c343d;background:#fff2cc\">I want to have everything in numeric format for text-based databases because I'm going to be using the data to build forecasting models."
   ]
  },
  {
   "cell_type": "code",
   "execution_count": 6,
   "metadata": {},
   "outputs": [
    {
     "data": {
      "text/html": [
       "<div>\n",
       "<style scoped>\n",
       "    .dataframe tbody tr th:only-of-type {\n",
       "        vertical-align: middle;\n",
       "    }\n",
       "\n",
       "    .dataframe tbody tr th {\n",
       "        vertical-align: top;\n",
       "    }\n",
       "\n",
       "    .dataframe thead th {\n",
       "        text-align: right;\n",
       "    }\n",
       "</style>\n",
       "<table border=\"1\" class=\"dataframe\">\n",
       "  <thead>\n",
       "    <tr style=\"text-align: right;\">\n",
       "      <th></th>\n",
       "      <th>Product_Code</th>\n",
       "      <th>Week</th>\n",
       "      <th>Sales</th>\n",
       "    </tr>\n",
       "  </thead>\n",
       "  <tbody>\n",
       "    <tr>\n",
       "      <td>0</td>\n",
       "      <td>1</td>\n",
       "      <td>0</td>\n",
       "      <td>11</td>\n",
       "    </tr>\n",
       "    <tr>\n",
       "      <td>1</td>\n",
       "      <td>2</td>\n",
       "      <td>0</td>\n",
       "      <td>7</td>\n",
       "    </tr>\n",
       "    <tr>\n",
       "      <td>2</td>\n",
       "      <td>3</td>\n",
       "      <td>0</td>\n",
       "      <td>7</td>\n",
       "    </tr>\n",
       "    <tr>\n",
       "      <td>3</td>\n",
       "      <td>4</td>\n",
       "      <td>0</td>\n",
       "      <td>12</td>\n",
       "    </tr>\n",
       "    <tr>\n",
       "      <td>4</td>\n",
       "      <td>5</td>\n",
       "      <td>0</td>\n",
       "      <td>8</td>\n",
       "    </tr>\n",
       "    <tr>\n",
       "      <td>...</td>\n",
       "      <td>...</td>\n",
       "      <td>...</td>\n",
       "      <td>...</td>\n",
       "    </tr>\n",
       "    <tr>\n",
       "      <td>42167</td>\n",
       "      <td>815</td>\n",
       "      <td>51</td>\n",
       "      <td>0</td>\n",
       "    </tr>\n",
       "    <tr>\n",
       "      <td>42168</td>\n",
       "      <td>816</td>\n",
       "      <td>51</td>\n",
       "      <td>5</td>\n",
       "    </tr>\n",
       "    <tr>\n",
       "      <td>42169</td>\n",
       "      <td>817</td>\n",
       "      <td>51</td>\n",
       "      <td>3</td>\n",
       "    </tr>\n",
       "    <tr>\n",
       "      <td>42170</td>\n",
       "      <td>818</td>\n",
       "      <td>51</td>\n",
       "      <td>0</td>\n",
       "    </tr>\n",
       "    <tr>\n",
       "      <td>42171</td>\n",
       "      <td>819</td>\n",
       "      <td>51</td>\n",
       "      <td>1</td>\n",
       "    </tr>\n",
       "  </tbody>\n",
       "</table>\n",
       "<p>42172 rows × 3 columns</p>\n",
       "</div>"
      ],
      "text/plain": [
       "       Product_Code  Week  Sales\n",
       "0                 1     0     11\n",
       "1                 2     0      7\n",
       "2                 3     0      7\n",
       "3                 4     0     12\n",
       "4                 5     0      8\n",
       "...             ...   ...    ...\n",
       "42167           815    51      0\n",
       "42168           816    51      5\n",
       "42169           817    51      3\n",
       "42170           818    51      0\n",
       "42171           819    51      1\n",
       "\n",
       "[42172 rows x 3 columns]"
      ]
     },
     "execution_count": 6,
     "metadata": {},
     "output_type": "execute_result"
    }
   ],
   "source": [
    "df2.Product_Code = df2.Product_Code.str.replace('P', '').astype(int)\n",
    "df2.Week = df2.Week.str.replace('W', '').astype(int)\n",
    "df2"
   ]
  },
  {
   "cell_type": "code",
   "execution_count": 7,
   "metadata": {},
   "outputs": [
    {
     "data": {
      "text/plain": [
       "Product_Code    int64\n",
       "Week            int64\n",
       "Sales           int64\n",
       "dtype: object"
      ]
     },
     "execution_count": 7,
     "metadata": {},
     "output_type": "execute_result"
    }
   ],
   "source": [
    "df2.dtypes"
   ]
  },
  {
   "cell_type": "code",
   "execution_count": 8,
   "metadata": {},
   "outputs": [
    {
     "name": "stdout",
     "output_type": "stream",
     "text": [
      "max: 73\n",
      "min: 0\n"
     ]
    },
    {
     "data": {
      "text/plain": [
       "<matplotlib.axes._subplots.AxesSubplot at 0x7f372a138750>"
      ]
     },
     "execution_count": 8,
     "metadata": {},
     "output_type": "execute_result"
    },
    {
     "data": {
      "image/png": "[encoded data removed]",
      "text/plain": [
       "<Figure size 432x288 with 1 Axes>"
      ]
     },
     "metadata": {
      "needs_background": "light"
     },
     "output_type": "display_data"
    }
   ],
   "source": [
    "print('max:',df2['Sales'].max())\n",
    "print('min:',df2['Sales'].min())\n",
    "\n",
    "sns.distplot(np.array(df2['Sales']))"
   ]
  },
  {
   "cell_type": "markdown",
   "metadata": {},
   "source": [
    "<span style=\"font-size: 110%;color:#0c343d;background:#fff2cc\">The population is not normally distributed, but I don't need to have the resultant populations in the normal distribution. It is recommended but not required. Therefore, I am not going to standardize the result variables."
   ]
  },
  {
   "cell_type": "code",
   "execution_count": 9,
   "metadata": {},
   "outputs": [
    {
     "data": {
      "text/plain": [
       "(42172, 3)"
      ]
     },
     "execution_count": 9,
     "metadata": {},
     "output_type": "execute_result"
    }
   ],
   "source": [
    "df2.shape"
   ]
  },
  {
   "cell_type": "markdown",
   "metadata": {},
   "source": [
    "<span style=\"font-size: 110%;color:#0c343d;background:#fff2cc\">Then we will get 811 times 52 variables = 42172 rows which gives a considerable number to do a forecasting model."
   ]
  },
  {
   "cell_type": "markdown",
   "metadata": {},
   "source": [
    "<span style=\"font-size: 210%;color:#0c343d;background:#fff2cc\"> We create additional synthetic variables\n",
    "    \n",
    "<span style=\"font-size: 110%;color:#0c343d;background:#fff2cc\">Now I create synthetic variables, i.e. independent variables that do not exist but are made of existing independent variables. Since we have practically no variable except the week number and the commodity index, we create synthetic variables from the result variable. These variables are a shift of the price one or several weeks back and the difference between the previous and the current price."
   ]
  },
  {
   "cell_type": "code",
   "execution_count": 10,
   "metadata": {},
   "outputs": [
    {
     "data": {
      "text/html": [
       "<div>\n",
       "<style scoped>\n",
       "    .dataframe tbody tr th:only-of-type {\n",
       "        vertical-align: middle;\n",
       "    }\n",
       "\n",
       "    .dataframe tbody tr th {\n",
       "        vertical-align: top;\n",
       "    }\n",
       "\n",
       "    .dataframe thead th {\n",
       "        text-align: right;\n",
       "    }\n",
       "</style>\n",
       "<table border=\"1\" class=\"dataframe\">\n",
       "  <thead>\n",
       "    <tr style=\"text-align: right;\">\n",
       "      <th></th>\n",
       "      <th>Product_Code</th>\n",
       "      <th>Week</th>\n",
       "      <th>Sales</th>\n",
       "      <th>Sales_last_1_week</th>\n",
       "      <th>Sales_last_2_week</th>\n",
       "      <th>Sales_last_3_week</th>\n",
       "      <th>Sales_last_4_week</th>\n",
       "      <th>Sales_last_5_week</th>\n",
       "      <th>Sales_last_6_week</th>\n",
       "      <th>Sales_last_7_week</th>\n",
       "    </tr>\n",
       "  </thead>\n",
       "  <tbody>\n",
       "    <tr>\n",
       "      <td>0</td>\n",
       "      <td>1</td>\n",
       "      <td>0</td>\n",
       "      <td>11</td>\n",
       "      <td>NaN</td>\n",
       "      <td>NaN</td>\n",
       "      <td>NaN</td>\n",
       "      <td>NaN</td>\n",
       "      <td>NaN</td>\n",
       "      <td>NaN</td>\n",
       "      <td>NaN</td>\n",
       "    </tr>\n",
       "    <tr>\n",
       "      <td>1</td>\n",
       "      <td>2</td>\n",
       "      <td>0</td>\n",
       "      <td>7</td>\n",
       "      <td>NaN</td>\n",
       "      <td>NaN</td>\n",
       "      <td>NaN</td>\n",
       "      <td>NaN</td>\n",
       "      <td>NaN</td>\n",
       "      <td>NaN</td>\n",
       "      <td>NaN</td>\n",
       "    </tr>\n",
       "    <tr>\n",
       "      <td>2</td>\n",
       "      <td>3</td>\n",
       "      <td>0</td>\n",
       "      <td>7</td>\n",
       "      <td>NaN</td>\n",
       "      <td>NaN</td>\n",
       "      <td>NaN</td>\n",
       "      <td>NaN</td>\n",
       "      <td>NaN</td>\n",
       "      <td>NaN</td>\n",
       "      <td>NaN</td>\n",
       "    </tr>\n",
       "    <tr>\n",
       "      <td>3</td>\n",
       "      <td>4</td>\n",
       "      <td>0</td>\n",
       "      <td>12</td>\n",
       "      <td>NaN</td>\n",
       "      <td>NaN</td>\n",
       "      <td>NaN</td>\n",
       "      <td>NaN</td>\n",
       "      <td>NaN</td>\n",
       "      <td>NaN</td>\n",
       "      <td>NaN</td>\n",
       "    </tr>\n",
       "    <tr>\n",
       "      <td>4</td>\n",
       "      <td>5</td>\n",
       "      <td>0</td>\n",
       "      <td>8</td>\n",
       "      <td>NaN</td>\n",
       "      <td>NaN</td>\n",
       "      <td>NaN</td>\n",
       "      <td>NaN</td>\n",
       "      <td>NaN</td>\n",
       "      <td>NaN</td>\n",
       "      <td>NaN</td>\n",
       "    </tr>\n",
       "    <tr>\n",
       "      <td>...</td>\n",
       "      <td>...</td>\n",
       "      <td>...</td>\n",
       "      <td>...</td>\n",
       "      <td>...</td>\n",
       "      <td>...</td>\n",
       "      <td>...</td>\n",
       "      <td>...</td>\n",
       "      <td>...</td>\n",
       "      <td>...</td>\n",
       "      <td>...</td>\n",
       "    </tr>\n",
       "    <tr>\n",
       "      <td>42167</td>\n",
       "      <td>815</td>\n",
       "      <td>51</td>\n",
       "      <td>0</td>\n",
       "      <td>2.0</td>\n",
       "      <td>0.0</td>\n",
       "      <td>0.0</td>\n",
       "      <td>1.0</td>\n",
       "      <td>0.0</td>\n",
       "      <td>0.0</td>\n",
       "      <td>1.0</td>\n",
       "    </tr>\n",
       "    <tr>\n",
       "      <td>42168</td>\n",
       "      <td>816</td>\n",
       "      <td>51</td>\n",
       "      <td>5</td>\n",
       "      <td>6.0</td>\n",
       "      <td>5.0</td>\n",
       "      <td>5.0</td>\n",
       "      <td>5.0</td>\n",
       "      <td>4.0</td>\n",
       "      <td>2.0</td>\n",
       "      <td>4.0</td>\n",
       "    </tr>\n",
       "    <tr>\n",
       "      <td>42169</td>\n",
       "      <td>817</td>\n",
       "      <td>51</td>\n",
       "      <td>3</td>\n",
       "      <td>4.0</td>\n",
       "      <td>0.0</td>\n",
       "      <td>0.0</td>\n",
       "      <td>0.0</td>\n",
       "      <td>2.0</td>\n",
       "      <td>2.0</td>\n",
       "      <td>0.0</td>\n",
       "    </tr>\n",
       "    <tr>\n",
       "      <td>42170</td>\n",
       "      <td>818</td>\n",
       "      <td>51</td>\n",
       "      <td>0</td>\n",
       "      <td>2.0</td>\n",
       "      <td>0.0</td>\n",
       "      <td>0.0</td>\n",
       "      <td>0.0</td>\n",
       "      <td>1.0</td>\n",
       "      <td>1.0</td>\n",
       "      <td>0.0</td>\n",
       "    </tr>\n",
       "    <tr>\n",
       "      <td>42171</td>\n",
       "      <td>819</td>\n",
       "      <td>51</td>\n",
       "      <td>1</td>\n",
       "      <td>0.0</td>\n",
       "      <td>0.0</td>\n",
       "      <td>0.0</td>\n",
       "      <td>0.0</td>\n",
       "      <td>0.0</td>\n",
       "      <td>0.0</td>\n",
       "      <td>0.0</td>\n",
       "    </tr>\n",
       "  </tbody>\n",
       "</table>\n",
       "<p>42172 rows × 10 columns</p>\n",
       "</div>"
      ],
      "text/plain": [
       "       Product_Code  Week  Sales  Sales_last_1_week  Sales_last_2_week  \\\n",
       "0                 1     0     11                NaN                NaN   \n",
       "1                 2     0      7                NaN                NaN   \n",
       "2                 3     0      7                NaN                NaN   \n",
       "3                 4     0     12                NaN                NaN   \n",
       "4                 5     0      8                NaN                NaN   \n",
       "...             ...   ...    ...                ...                ...   \n",
       "42167           815    51      0                2.0                0.0   \n",
       "42168           816    51      5                6.0                5.0   \n",
       "42169           817    51      3                4.0                0.0   \n",
       "42170           818    51      0                2.0                0.0   \n",
       "42171           819    51      1                0.0                0.0   \n",
       "\n",
       "       Sales_last_3_week  Sales_last_4_week  Sales_last_5_week  \\\n",
       "0                    NaN                NaN                NaN   \n",
       "1                    NaN                NaN                NaN   \n",
       "2                    NaN                NaN                NaN   \n",
       "3                    NaN                NaN                NaN   \n",
       "4                    NaN                NaN                NaN   \n",
       "...                  ...                ...                ...   \n",
       "42167                0.0                1.0                0.0   \n",
       "42168                5.0                5.0                4.0   \n",
       "42169                0.0                0.0                2.0   \n",
       "42170                0.0                0.0                1.0   \n",
       "42171                0.0                0.0                0.0   \n",
       "\n",
       "       Sales_last_6_week  Sales_last_7_week  \n",
       "0                    NaN                NaN  \n",
       "1                    NaN                NaN  \n",
       "2                    NaN                NaN  \n",
       "3                    NaN                NaN  \n",
       "4                    NaN                NaN  \n",
       "...                  ...                ...  \n",
       "42167                0.0                1.0  \n",
       "42168                2.0                4.0  \n",
       "42169                2.0                0.0  \n",
       "42170                1.0                0.0  \n",
       "42171                0.0                0.0  \n",
       "\n",
       "[42172 rows x 10 columns]"
      ]
     },
     "execution_count": 10,
     "metadata": {},
     "output_type": "execute_result"
    }
   ],
   "source": [
    "df2['Sales_last_1_week'] = df2.groupby(['Product_Code'])['Sales'].shift()\n",
    "df2['Sales_last_2_week'] = df2.groupby(['Product_Code'])['Sales'].shift(2)\n",
    "df2['Sales_last_3_week'] = df2.groupby(['Product_Code'])['Sales'].shift(3)\n",
    "df2['Sales_last_4_week'] = df2.groupby(['Product_Code'])['Sales'].shift(4)\n",
    "df2['Sales_last_5_week'] = df2.groupby(['Product_Code'])['Sales'].shift(5)\n",
    "df2['Sales_last_6_week'] = df2.groupby(['Product_Code'])['Sales'].shift(6)\n",
    "df2['Sales_last_7_week'] = df2.groupby(['Product_Code'])['Sales'].shift(7)\n",
    "df2"
   ]
  },
  {
   "cell_type": "markdown",
   "metadata": {},
   "source": [
    "<span style=\"font-size: 140%;color:#0c343d;background:#fff2cc\"> We check if the synthetic variables 'shift' are correctly created"
   ]
  },
  {
   "cell_type": "code",
   "execution_count": 11,
   "metadata": {},
   "outputs": [
    {
     "data": {
      "text/html": [
       "<div>\n",
       "<style scoped>\n",
       "    .dataframe tbody tr th:only-of-type {\n",
       "        vertical-align: middle;\n",
       "    }\n",
       "\n",
       "    .dataframe tbody tr th {\n",
       "        vertical-align: top;\n",
       "    }\n",
       "\n",
       "    .dataframe thead th {\n",
       "        text-align: right;\n",
       "    }\n",
       "</style>\n",
       "<table border=\"1\" class=\"dataframe\">\n",
       "  <thead>\n",
       "    <tr style=\"text-align: right;\">\n",
       "      <th></th>\n",
       "      <th>Product_Code</th>\n",
       "      <th>Sales</th>\n",
       "      <th>Sales_last_1_week</th>\n",
       "      <th>Sales_last_2_week</th>\n",
       "      <th>Sales_last_3_week</th>\n",
       "      <th>Sales_last_4_week</th>\n",
       "    </tr>\n",
       "  </thead>\n",
       "  <tbody>\n",
       "    <tr>\n",
       "      <td>5678</td>\n",
       "      <td>2</td>\n",
       "      <td>3</td>\n",
       "      <td>6.0</td>\n",
       "      <td>1.0</td>\n",
       "      <td>7.0</td>\n",
       "      <td>2.0</td>\n",
       "    </tr>\n",
       "    <tr>\n",
       "      <td>6489</td>\n",
       "      <td>2</td>\n",
       "      <td>3</td>\n",
       "      <td>3.0</td>\n",
       "      <td>6.0</td>\n",
       "      <td>1.0</td>\n",
       "      <td>7.0</td>\n",
       "    </tr>\n",
       "    <tr>\n",
       "      <td>7300</td>\n",
       "      <td>2</td>\n",
       "      <td>3</td>\n",
       "      <td>3.0</td>\n",
       "      <td>3.0</td>\n",
       "      <td>6.0</td>\n",
       "      <td>1.0</td>\n",
       "    </tr>\n",
       "    <tr>\n",
       "      <td>8111</td>\n",
       "      <td>2</td>\n",
       "      <td>2</td>\n",
       "      <td>3.0</td>\n",
       "      <td>3.0</td>\n",
       "      <td>3.0</td>\n",
       "      <td>6.0</td>\n",
       "    </tr>\n",
       "    <tr>\n",
       "      <td>8922</td>\n",
       "      <td>2</td>\n",
       "      <td>2</td>\n",
       "      <td>2.0</td>\n",
       "      <td>3.0</td>\n",
       "      <td>3.0</td>\n",
       "      <td>3.0</td>\n",
       "    </tr>\n",
       "    <tr>\n",
       "      <td>9733</td>\n",
       "      <td>2</td>\n",
       "      <td>6</td>\n",
       "      <td>2.0</td>\n",
       "      <td>2.0</td>\n",
       "      <td>3.0</td>\n",
       "      <td>3.0</td>\n",
       "    </tr>\n",
       "    <tr>\n",
       "      <td>10544</td>\n",
       "      <td>2</td>\n",
       "      <td>2</td>\n",
       "      <td>6.0</td>\n",
       "      <td>2.0</td>\n",
       "      <td>2.0</td>\n",
       "      <td>3.0</td>\n",
       "    </tr>\n",
       "  </tbody>\n",
       "</table>\n",
       "</div>"
      ],
      "text/plain": [
       "       Product_Code  Sales  Sales_last_1_week  Sales_last_2_week  \\\n",
       "5678              2      3                6.0                1.0   \n",
       "6489              2      3                3.0                6.0   \n",
       "7300              2      3                3.0                3.0   \n",
       "8111              2      2                3.0                3.0   \n",
       "8922              2      2                2.0                3.0   \n",
       "9733              2      6                2.0                2.0   \n",
       "10544             2      2                6.0                2.0   \n",
       "\n",
       "       Sales_last_3_week  Sales_last_4_week  \n",
       "5678                 7.0                2.0  \n",
       "6489                 1.0                7.0  \n",
       "7300                 6.0                1.0  \n",
       "8111                 3.0                6.0  \n",
       "8922                 3.0                3.0  \n",
       "9733                 3.0                3.0  \n",
       "10544                2.0                3.0  "
      ]
     },
     "execution_count": 11,
     "metadata": {},
     "output_type": "execute_result"
    }
   ],
   "source": [
    "df2[df2.Week.isin([7,8,9,10,11,12,13])&(df2.Product_Code ==2)][['Product_Code',\n",
    "                                                                'Sales',\n",
    "                                                                'Sales_last_1_week',\n",
    "                                                                'Sales_last_2_week',\n",
    "                                                                'Sales_last_3_week',\n",
    "                                                                'Sales_last_4_week']] \n"
   ]
  },
  {
   "cell_type": "code",
   "execution_count": 12,
   "metadata": {},
   "outputs": [],
   "source": [
    "df2['Diff_sales_last_1_week'] = df2.groupby(['Product_Code'])['Sales_last_1_week'].diff()\n",
    "df2['Diff_sales_last_2_week'] = df2.groupby(['Product_Code'])['Sales_last_2_week'].diff()\n",
    "df2['Diff_sales_last_3_week'] = df2.groupby(['Product_Code'])['Sales_last_3_week'].diff()\n",
    "df2['Diff_sales_last_4_week'] = df2.groupby(['Product_Code'])['Sales_last_4_week'].diff()\n",
    "df2['Diff_sales_last_5_week'] = df2.groupby(['Product_Code'])['Sales_last_5_week'].diff()\n",
    "df2['Diff_sales_last_6_week'] = df2.groupby(['Product_Code'])['Sales_last_6_week'].diff()\n",
    "df2['Diff_sales_last_7_week'] = df2.groupby(['Product_Code'])['Sales_last_7_week'].diff()"
   ]
  },
  {
   "cell_type": "markdown",
   "metadata": {},
   "source": [
    "<span style=\"font-size: 140%;color:#0c343d;background:#fff2cc\"> We check if the synthetic variables 'diff' are correctly created"
   ]
  },
  {
   "cell_type": "code",
   "execution_count": 13,
   "metadata": {},
   "outputs": [
    {
     "data": {
      "text/html": [
       "<div>\n",
       "<style scoped>\n",
       "    .dataframe tbody tr th:only-of-type {\n",
       "        vertical-align: middle;\n",
       "    }\n",
       "\n",
       "    .dataframe tbody tr th {\n",
       "        vertical-align: top;\n",
       "    }\n",
       "\n",
       "    .dataframe thead th {\n",
       "        text-align: right;\n",
       "    }\n",
       "</style>\n",
       "<table border=\"1\" class=\"dataframe\">\n",
       "  <thead>\n",
       "    <tr style=\"text-align: right;\">\n",
       "      <th></th>\n",
       "      <th>Product_Code</th>\n",
       "      <th>Sales</th>\n",
       "      <th>Sales_last_1_week</th>\n",
       "      <th>Diff_sales_last_1_week</th>\n",
       "      <th>Sales_last_4_week</th>\n",
       "      <th>Diff_sales_last_4_week</th>\n",
       "    </tr>\n",
       "  </thead>\n",
       "  <tbody>\n",
       "    <tr>\n",
       "      <td>5680</td>\n",
       "      <td>4</td>\n",
       "      <td>13</td>\n",
       "      <td>9.0</td>\n",
       "      <td>3.0</td>\n",
       "      <td>5.0</td>\n",
       "      <td>-8.0</td>\n",
       "    </tr>\n",
       "    <tr>\n",
       "      <td>6491</td>\n",
       "      <td>4</td>\n",
       "      <td>13</td>\n",
       "      <td>13.0</td>\n",
       "      <td>4.0</td>\n",
       "      <td>9.0</td>\n",
       "      <td>4.0</td>\n",
       "    </tr>\n",
       "    <tr>\n",
       "      <td>7302</td>\n",
       "      <td>4</td>\n",
       "      <td>11</td>\n",
       "      <td>13.0</td>\n",
       "      <td>0.0</td>\n",
       "      <td>6.0</td>\n",
       "      <td>-3.0</td>\n",
       "    </tr>\n",
       "    <tr>\n",
       "      <td>8113</td>\n",
       "      <td>4</td>\n",
       "      <td>8</td>\n",
       "      <td>11.0</td>\n",
       "      <td>-2.0</td>\n",
       "      <td>9.0</td>\n",
       "      <td>3.0</td>\n",
       "    </tr>\n",
       "    <tr>\n",
       "      <td>8924</td>\n",
       "      <td>4</td>\n",
       "      <td>4</td>\n",
       "      <td>8.0</td>\n",
       "      <td>-3.0</td>\n",
       "      <td>13.0</td>\n",
       "      <td>4.0</td>\n",
       "    </tr>\n",
       "    <tr>\n",
       "      <td>9735</td>\n",
       "      <td>4</td>\n",
       "      <td>5</td>\n",
       "      <td>4.0</td>\n",
       "      <td>-4.0</td>\n",
       "      <td>13.0</td>\n",
       "      <td>0.0</td>\n",
       "    </tr>\n",
       "    <tr>\n",
       "      <td>10546</td>\n",
       "      <td>4</td>\n",
       "      <td>4</td>\n",
       "      <td>5.0</td>\n",
       "      <td>1.0</td>\n",
       "      <td>11.0</td>\n",
       "      <td>-2.0</td>\n",
       "    </tr>\n",
       "  </tbody>\n",
       "</table>\n",
       "</div>"
      ],
      "text/plain": [
       "       Product_Code  Sales  Sales_last_1_week  Diff_sales_last_1_week  \\\n",
       "5680              4     13                9.0                     3.0   \n",
       "6491              4     13               13.0                     4.0   \n",
       "7302              4     11               13.0                     0.0   \n",
       "8113              4      8               11.0                    -2.0   \n",
       "8924              4      4                8.0                    -3.0   \n",
       "9735              4      5                4.0                    -4.0   \n",
       "10546             4      4                5.0                     1.0   \n",
       "\n",
       "       Sales_last_4_week  Diff_sales_last_4_week  \n",
       "5680                 5.0                    -8.0  \n",
       "6491                 9.0                     4.0  \n",
       "7302                 6.0                    -3.0  \n",
       "8113                 9.0                     3.0  \n",
       "8924                13.0                     4.0  \n",
       "9735                13.0                     0.0  \n",
       "10546               11.0                    -2.0  "
      ]
     },
     "execution_count": 13,
     "metadata": {},
     "output_type": "execute_result"
    }
   ],
   "source": [
    "df2[df2.Week.isin([7,8,9,10,11,12,13])&(df2.Product_Code ==4)][['Product_Code',\n",
    "                                                                'Sales',\n",
    "                                                                'Sales_last_1_week',\n",
    "                                                                'Diff_sales_last_1_week',\n",
    "                                                                'Sales_last_4_week',\n",
    "                                                                'Diff_sales_last_4_week']]  "
   ]
  },
  {
   "cell_type": "markdown",
   "metadata": {},
   "source": [
    "<span style=\"font-size: 110%;color:#0c343d;background:#fff2cc\"> One method of improving the quality of the model is to create a large number of synthetic variables using loops. Synthetic variables as a combination of various means, differences, shifts and logarithms. Then such a large number of independent variables can be subjected to one of the variable elimination methods. This is how you get the best synthetic variables. Since this is a verification task, I inform you that it is possible."
   ]
  },
  {
   "cell_type": "markdown",
   "metadata": {},
   "source": [
    "<span style=\"font-size: 140%;color:#0c343d;background:#fff2cc\"> We remove the poems from NaN"
   ]
  },
  {
   "cell_type": "code",
   "execution_count": 14,
   "metadata": {},
   "outputs": [
    {
     "name": "stdout",
     "output_type": "stream",
     "text": [
      "Before dropna: (42172, 17)\n",
      "After dropna:  (35684, 17)\n"
     ]
    }
   ],
   "source": [
    "print('Before dropna:',df2.shape)\n",
    "df2 = df2.dropna(how ='any')\n",
    "print('After dropna: ',df2.shape)"
   ]
  },
  {
   "cell_type": "code",
   "execution_count": 15,
   "metadata": {},
   "outputs": [
    {
     "data": {
      "text/html": [
       "<div>\n",
       "<style scoped>\n",
       "    .dataframe tbody tr th:only-of-type {\n",
       "        vertical-align: middle;\n",
       "    }\n",
       "\n",
       "    .dataframe tbody tr th {\n",
       "        vertical-align: top;\n",
       "    }\n",
       "\n",
       "    .dataframe thead th {\n",
       "        text-align: right;\n",
       "    }\n",
       "</style>\n",
       "<table border=\"1\" class=\"dataframe\">\n",
       "  <thead>\n",
       "    <tr style=\"text-align: right;\">\n",
       "      <th></th>\n",
       "      <th>Product_Code</th>\n",
       "      <th>Week</th>\n",
       "      <th>Sales</th>\n",
       "      <th>Sales_last_1_week</th>\n",
       "      <th>Sales_last_2_week</th>\n",
       "      <th>Sales_last_3_week</th>\n",
       "      <th>Sales_last_4_week</th>\n",
       "      <th>Sales_last_5_week</th>\n",
       "      <th>Sales_last_6_week</th>\n",
       "      <th>Sales_last_7_week</th>\n",
       "      <th>Diff_sales_last_1_week</th>\n",
       "      <th>Diff_sales_last_2_week</th>\n",
       "      <th>Diff_sales_last_3_week</th>\n",
       "      <th>Diff_sales_last_4_week</th>\n",
       "      <th>Diff_sales_last_5_week</th>\n",
       "      <th>Diff_sales_last_6_week</th>\n",
       "      <th>Diff_sales_last_7_week</th>\n",
       "    </tr>\n",
       "  </thead>\n",
       "  <tbody>\n",
       "    <tr>\n",
       "      <td>6488</td>\n",
       "      <td>1</td>\n",
       "      <td>8</td>\n",
       "      <td>6</td>\n",
       "      <td>21.0</td>\n",
       "      <td>14.0</td>\n",
       "      <td>12.0</td>\n",
       "      <td>13.0</td>\n",
       "      <td>8.0</td>\n",
       "      <td>10.0</td>\n",
       "      <td>12.0</td>\n",
       "      <td>7.0</td>\n",
       "      <td>2.0</td>\n",
       "      <td>-1.0</td>\n",
       "      <td>5.0</td>\n",
       "      <td>-2.0</td>\n",
       "      <td>-2.0</td>\n",
       "      <td>1.0</td>\n",
       "    </tr>\n",
       "    <tr>\n",
       "      <td>6489</td>\n",
       "      <td>2</td>\n",
       "      <td>8</td>\n",
       "      <td>3</td>\n",
       "      <td>3.0</td>\n",
       "      <td>6.0</td>\n",
       "      <td>1.0</td>\n",
       "      <td>7.0</td>\n",
       "      <td>2.0</td>\n",
       "      <td>3.0</td>\n",
       "      <td>6.0</td>\n",
       "      <td>-3.0</td>\n",
       "      <td>5.0</td>\n",
       "      <td>-6.0</td>\n",
       "      <td>5.0</td>\n",
       "      <td>-1.0</td>\n",
       "      <td>-3.0</td>\n",
       "      <td>-1.0</td>\n",
       "    </tr>\n",
       "    <tr>\n",
       "      <td>6490</td>\n",
       "      <td>3</td>\n",
       "      <td>8</td>\n",
       "      <td>12</td>\n",
       "      <td>13.0</td>\n",
       "      <td>7.0</td>\n",
       "      <td>8.0</td>\n",
       "      <td>10.0</td>\n",
       "      <td>9.0</td>\n",
       "      <td>8.0</td>\n",
       "      <td>11.0</td>\n",
       "      <td>6.0</td>\n",
       "      <td>-1.0</td>\n",
       "      <td>-2.0</td>\n",
       "      <td>1.0</td>\n",
       "      <td>1.0</td>\n",
       "      <td>-3.0</td>\n",
       "      <td>4.0</td>\n",
       "    </tr>\n",
       "  </tbody>\n",
       "</table>\n",
       "</div>"
      ],
      "text/plain": [
       "      Product_Code  Week  Sales  Sales_last_1_week  Sales_last_2_week  \\\n",
       "6488             1     8      6               21.0               14.0   \n",
       "6489             2     8      3                3.0                6.0   \n",
       "6490             3     8     12               13.0                7.0   \n",
       "\n",
       "      Sales_last_3_week  Sales_last_4_week  Sales_last_5_week  \\\n",
       "6488               12.0               13.0                8.0   \n",
       "6489                1.0                7.0                2.0   \n",
       "6490                8.0               10.0                9.0   \n",
       "\n",
       "      Sales_last_6_week  Sales_last_7_week  Diff_sales_last_1_week  \\\n",
       "6488               10.0               12.0                     7.0   \n",
       "6489                3.0                6.0                    -3.0   \n",
       "6490                8.0               11.0                     6.0   \n",
       "\n",
       "      Diff_sales_last_2_week  Diff_sales_last_3_week  Diff_sales_last_4_week  \\\n",
       "6488                     2.0                    -1.0                     5.0   \n",
       "6489                     5.0                    -6.0                     5.0   \n",
       "6490                    -1.0                    -2.0                     1.0   \n",
       "\n",
       "      Diff_sales_last_5_week  Diff_sales_last_6_week  Diff_sales_last_7_week  \n",
       "6488                    -2.0                    -2.0                     1.0  \n",
       "6489                    -1.0                    -3.0                    -1.0  \n",
       "6490                     1.0                    -3.0                     4.0  "
      ]
     },
     "execution_count": 15,
     "metadata": {},
     "output_type": "execute_result"
    }
   ],
   "source": [
    "df2.head(3)"
   ]
  },
  {
   "cell_type": "code",
   "execution_count": null,
   "metadata": {},
   "outputs": [],
   "source": []
  },
  {
   "cell_type": "markdown",
   "metadata": {},
   "source": [
    "<span style=\"font-size: 140%;color:#0c343d;background:#fff2cc\">Dividing time series data into training and test sets.\n",
    "\n",
    "<span style=\"font-size: 110%;color:#0c343d;background:#fff2cc\">I split the set for training data for the first 42 weeks, then I separate the 44 and 45 test data set. Finally, as instructed, I allow a period of 7 weeks to make a forecast for 10 products. This will be the week: 45, 46, 47, 48, 49, 50, 51, 52. I will use this data at the end of the task when I have my model ready."
   ]
  },
  {
   "cell_type": "code",
   "execution_count": 16,
   "metadata": {},
   "outputs": [],
   "source": [
    "for week in range(42,44):\n",
    "    train = df2[df2['Week'] < week]   ## okres treningowy do 42 tygodnia\n",
    "    val = df2[df2['Week'] == week]    ## okres testowy od 43 tygodnia włącznie do 45 tygodnia \n",
    "                                        ## 45-52 tydzień to okres super testowy 7 tygodni\n",
    "\n",
    "    Xtrain, Xtest = train.drop(['Sales'], axis=1), val.drop(['Sales'], axis=1)  # podział na zmienne treningowe i testowe\n",
    "    ytrain, ytest = train['Sales'].values, val['Sales'].values                  # podział na wyniki testowe i treningowe "
   ]
  },
  {
   "cell_type": "code",
   "execution_count": null,
   "metadata": {},
   "outputs": [],
   "source": []
  },
  {
   "cell_type": "markdown",
   "metadata": {},
   "source": [
    "<span style=\"font-size: 110%;color:#0c343d;background:#fff2cc\">Score (quantity of sales) before scaling</span>  "
   ]
  },
  {
   "cell_type": "code",
   "execution_count": 17,
   "metadata": {},
   "outputs": [
    {
     "data": {
      "text/plain": [
       "array([ 6,  3, 12, 13,  9])"
      ]
     },
     "execution_count": 17,
     "metadata": {},
     "output_type": "execute_result"
    }
   ],
   "source": [
    "ytrain[:5]"
   ]
  },
  {
   "cell_type": "code",
   "execution_count": 18,
   "metadata": {},
   "outputs": [
    {
     "data": {
      "text/plain": [
       "array([ 7,  4, 14, 10, 11])"
      ]
     },
     "execution_count": 18,
     "metadata": {},
     "output_type": "execute_result"
    }
   ],
   "source": [
    "ytest[:5]"
   ]
  },
  {
   "cell_type": "markdown",
   "metadata": {},
   "source": [
    "<span style=\"font-size: 110%;color:#0c343d;background:#fff2cc\">Describing variables before scaling"
   ]
  },
  {
   "cell_type": "code",
   "execution_count": 19,
   "metadata": {},
   "outputs": [
    {
     "data": {
      "text/html": [
       "<div>\n",
       "<style scoped>\n",
       "    .dataframe tbody tr th:only-of-type {\n",
       "        vertical-align: middle;\n",
       "    }\n",
       "\n",
       "    .dataframe tbody tr th {\n",
       "        vertical-align: top;\n",
       "    }\n",
       "\n",
       "    .dataframe thead th {\n",
       "        text-align: right;\n",
       "    }\n",
       "</style>\n",
       "<table border=\"1\" class=\"dataframe\">\n",
       "  <thead>\n",
       "    <tr style=\"text-align: right;\">\n",
       "      <th></th>\n",
       "      <th>Product_Code</th>\n",
       "      <th>Week</th>\n",
       "      <th>Sales_last_1_week</th>\n",
       "      <th>Sales_last_2_week</th>\n",
       "      <th>Sales_last_3_week</th>\n",
       "      <th>Sales_last_4_week</th>\n",
       "      <th>Sales_last_5_week</th>\n",
       "      <th>Sales_last_6_week</th>\n",
       "      <th>Sales_last_7_week</th>\n",
       "      <th>Diff_sales_last_1_week</th>\n",
       "      <th>Diff_sales_last_2_week</th>\n",
       "      <th>Diff_sales_last_3_week</th>\n",
       "      <th>Diff_sales_last_4_week</th>\n",
       "      <th>Diff_sales_last_5_week</th>\n",
       "      <th>Diff_sales_last_6_week</th>\n",
       "      <th>Diff_sales_last_7_week</th>\n",
       "    </tr>\n",
       "  </thead>\n",
       "  <tbody>\n",
       "    <tr>\n",
       "      <td>6488</td>\n",
       "      <td>1</td>\n",
       "      <td>8</td>\n",
       "      <td>21.0</td>\n",
       "      <td>14.0</td>\n",
       "      <td>12.0</td>\n",
       "      <td>13.0</td>\n",
       "      <td>8.0</td>\n",
       "      <td>10.0</td>\n",
       "      <td>12.0</td>\n",
       "      <td>7.0</td>\n",
       "      <td>2.0</td>\n",
       "      <td>-1.0</td>\n",
       "      <td>5.0</td>\n",
       "      <td>-2.0</td>\n",
       "      <td>-2.0</td>\n",
       "      <td>1.0</td>\n",
       "    </tr>\n",
       "    <tr>\n",
       "      <td>6489</td>\n",
       "      <td>2</td>\n",
       "      <td>8</td>\n",
       "      <td>3.0</td>\n",
       "      <td>6.0</td>\n",
       "      <td>1.0</td>\n",
       "      <td>7.0</td>\n",
       "      <td>2.0</td>\n",
       "      <td>3.0</td>\n",
       "      <td>6.0</td>\n",
       "      <td>-3.0</td>\n",
       "      <td>5.0</td>\n",
       "      <td>-6.0</td>\n",
       "      <td>5.0</td>\n",
       "      <td>-1.0</td>\n",
       "      <td>-3.0</td>\n",
       "      <td>-1.0</td>\n",
       "    </tr>\n",
       "    <tr>\n",
       "      <td>6490</td>\n",
       "      <td>3</td>\n",
       "      <td>8</td>\n",
       "      <td>13.0</td>\n",
       "      <td>7.0</td>\n",
       "      <td>8.0</td>\n",
       "      <td>10.0</td>\n",
       "      <td>9.0</td>\n",
       "      <td>8.0</td>\n",
       "      <td>11.0</td>\n",
       "      <td>6.0</td>\n",
       "      <td>-1.0</td>\n",
       "      <td>-2.0</td>\n",
       "      <td>1.0</td>\n",
       "      <td>1.0</td>\n",
       "      <td>-3.0</td>\n",
       "      <td>4.0</td>\n",
       "    </tr>\n",
       "    <tr>\n",
       "      <td>6491</td>\n",
       "      <td>4</td>\n",
       "      <td>8</td>\n",
       "      <td>13.0</td>\n",
       "      <td>9.0</td>\n",
       "      <td>6.0</td>\n",
       "      <td>9.0</td>\n",
       "      <td>5.0</td>\n",
       "      <td>13.0</td>\n",
       "      <td>8.0</td>\n",
       "      <td>4.0</td>\n",
       "      <td>3.0</td>\n",
       "      <td>-3.0</td>\n",
       "      <td>4.0</td>\n",
       "      <td>-8.0</td>\n",
       "      <td>5.0</td>\n",
       "      <td>-4.0</td>\n",
       "    </tr>\n",
       "    <tr>\n",
       "      <td>6492</td>\n",
       "      <td>5</td>\n",
       "      <td>8</td>\n",
       "      <td>14.0</td>\n",
       "      <td>9.0</td>\n",
       "      <td>7.0</td>\n",
       "      <td>6.0</td>\n",
       "      <td>11.0</td>\n",
       "      <td>13.0</td>\n",
       "      <td>5.0</td>\n",
       "      <td>5.0</td>\n",
       "      <td>2.0</td>\n",
       "      <td>1.0</td>\n",
       "      <td>-5.0</td>\n",
       "      <td>-2.0</td>\n",
       "      <td>8.0</td>\n",
       "      <td>-3.0</td>\n",
       "    </tr>\n",
       "  </tbody>\n",
       "</table>\n",
       "</div>"
      ],
      "text/plain": [
       "      Product_Code  Week  Sales_last_1_week  Sales_last_2_week  \\\n",
       "6488             1     8               21.0               14.0   \n",
       "6489             2     8                3.0                6.0   \n",
       "6490             3     8               13.0                7.0   \n",
       "6491             4     8               13.0                9.0   \n",
       "6492             5     8               14.0                9.0   \n",
       "\n",
       "      Sales_last_3_week  Sales_last_4_week  Sales_last_5_week  \\\n",
       "6488               12.0               13.0                8.0   \n",
       "6489                1.0                7.0                2.0   \n",
       "6490                8.0               10.0                9.0   \n",
       "6491                6.0                9.0                5.0   \n",
       "6492                7.0                6.0               11.0   \n",
       "\n",
       "      Sales_last_6_week  Sales_last_7_week  Diff_sales_last_1_week  \\\n",
       "6488               10.0               12.0                     7.0   \n",
       "6489                3.0                6.0                    -3.0   \n",
       "6490                8.0               11.0                     6.0   \n",
       "6491               13.0                8.0                     4.0   \n",
       "6492               13.0                5.0                     5.0   \n",
       "\n",
       "      Diff_sales_last_2_week  Diff_sales_last_3_week  Diff_sales_last_4_week  \\\n",
       "6488                     2.0                    -1.0                     5.0   \n",
       "6489                     5.0                    -6.0                     5.0   \n",
       "6490                    -1.0                    -2.0                     1.0   \n",
       "6491                     3.0                    -3.0                     4.0   \n",
       "6492                     2.0                     1.0                    -5.0   \n",
       "\n",
       "      Diff_sales_last_5_week  Diff_sales_last_6_week  Diff_sales_last_7_week  \n",
       "6488                    -2.0                    -2.0                     1.0  \n",
       "6489                    -1.0                    -3.0                    -1.0  \n",
       "6490                     1.0                    -3.0                     4.0  \n",
       "6491                    -8.0                     5.0                    -4.0  \n",
       "6492                    -2.0                     8.0                    -3.0  "
      ]
     },
     "execution_count": 19,
     "metadata": {},
     "output_type": "execute_result"
    }
   ],
   "source": [
    "Xtrain[:5]"
   ]
  },
  {
   "cell_type": "code",
   "execution_count": 20,
   "metadata": {},
   "outputs": [
    {
     "data": {
      "text/html": [
       "<div>\n",
       "<style scoped>\n",
       "    .dataframe tbody tr th:only-of-type {\n",
       "        vertical-align: middle;\n",
       "    }\n",
       "\n",
       "    .dataframe tbody tr th {\n",
       "        vertical-align: top;\n",
       "    }\n",
       "\n",
       "    .dataframe thead th {\n",
       "        text-align: right;\n",
       "    }\n",
       "</style>\n",
       "<table border=\"1\" class=\"dataframe\">\n",
       "  <thead>\n",
       "    <tr style=\"text-align: right;\">\n",
       "      <th></th>\n",
       "      <th>Product_Code</th>\n",
       "      <th>Week</th>\n",
       "      <th>Sales_last_1_week</th>\n",
       "      <th>Sales_last_2_week</th>\n",
       "      <th>Sales_last_3_week</th>\n",
       "      <th>Sales_last_4_week</th>\n",
       "      <th>Sales_last_5_week</th>\n",
       "      <th>Sales_last_6_week</th>\n",
       "      <th>Sales_last_7_week</th>\n",
       "      <th>Diff_sales_last_1_week</th>\n",
       "      <th>Diff_sales_last_2_week</th>\n",
       "      <th>Diff_sales_last_3_week</th>\n",
       "      <th>Diff_sales_last_4_week</th>\n",
       "      <th>Diff_sales_last_5_week</th>\n",
       "      <th>Diff_sales_last_6_week</th>\n",
       "      <th>Diff_sales_last_7_week</th>\n",
       "    </tr>\n",
       "  </thead>\n",
       "  <tbody>\n",
       "    <tr>\n",
       "      <td>34873</td>\n",
       "      <td>1</td>\n",
       "      <td>43</td>\n",
       "      <td>4.0</td>\n",
       "      <td>11.0</td>\n",
       "      <td>7.0</td>\n",
       "      <td>17.0</td>\n",
       "      <td>12.0</td>\n",
       "      <td>9.0</td>\n",
       "      <td>10.0</td>\n",
       "      <td>-7.0</td>\n",
       "      <td>4.0</td>\n",
       "      <td>-10.0</td>\n",
       "      <td>5.0</td>\n",
       "      <td>3.0</td>\n",
       "      <td>-1.0</td>\n",
       "      <td>-4.0</td>\n",
       "    </tr>\n",
       "    <tr>\n",
       "      <td>34874</td>\n",
       "      <td>2</td>\n",
       "      <td>43</td>\n",
       "      <td>2.0</td>\n",
       "      <td>5.0</td>\n",
       "      <td>2.0</td>\n",
       "      <td>3.0</td>\n",
       "      <td>7.0</td>\n",
       "      <td>2.0</td>\n",
       "      <td>5.0</td>\n",
       "      <td>-3.0</td>\n",
       "      <td>3.0</td>\n",
       "      <td>-1.0</td>\n",
       "      <td>-4.0</td>\n",
       "      <td>5.0</td>\n",
       "      <td>-3.0</td>\n",
       "      <td>-5.0</td>\n",
       "    </tr>\n",
       "    <tr>\n",
       "      <td>34875</td>\n",
       "      <td>3</td>\n",
       "      <td>43</td>\n",
       "      <td>6.0</td>\n",
       "      <td>5.0</td>\n",
       "      <td>3.0</td>\n",
       "      <td>9.0</td>\n",
       "      <td>12.0</td>\n",
       "      <td>12.0</td>\n",
       "      <td>6.0</td>\n",
       "      <td>1.0</td>\n",
       "      <td>2.0</td>\n",
       "      <td>-6.0</td>\n",
       "      <td>-3.0</td>\n",
       "      <td>0.0</td>\n",
       "      <td>6.0</td>\n",
       "      <td>-3.0</td>\n",
       "    </tr>\n",
       "    <tr>\n",
       "      <td>34876</td>\n",
       "      <td>4</td>\n",
       "      <td>43</td>\n",
       "      <td>9.0</td>\n",
       "      <td>6.0</td>\n",
       "      <td>12.0</td>\n",
       "      <td>8.0</td>\n",
       "      <td>8.0</td>\n",
       "      <td>6.0</td>\n",
       "      <td>8.0</td>\n",
       "      <td>3.0</td>\n",
       "      <td>-6.0</td>\n",
       "      <td>4.0</td>\n",
       "      <td>0.0</td>\n",
       "      <td>2.0</td>\n",
       "      <td>-2.0</td>\n",
       "      <td>-11.0</td>\n",
       "    </tr>\n",
       "    <tr>\n",
       "      <td>34877</td>\n",
       "      <td>5</td>\n",
       "      <td>43</td>\n",
       "      <td>7.0</td>\n",
       "      <td>8.0</td>\n",
       "      <td>5.0</td>\n",
       "      <td>5.0</td>\n",
       "      <td>8.0</td>\n",
       "      <td>8.0</td>\n",
       "      <td>4.0</td>\n",
       "      <td>-1.0</td>\n",
       "      <td>3.0</td>\n",
       "      <td>0.0</td>\n",
       "      <td>-3.0</td>\n",
       "      <td>0.0</td>\n",
       "      <td>4.0</td>\n",
       "      <td>-3.0</td>\n",
       "    </tr>\n",
       "  </tbody>\n",
       "</table>\n",
       "</div>"
      ],
      "text/plain": [
       "       Product_Code  Week  Sales_last_1_week  Sales_last_2_week  \\\n",
       "34873             1    43                4.0               11.0   \n",
       "34874             2    43                2.0                5.0   \n",
       "34875             3    43                6.0                5.0   \n",
       "34876             4    43                9.0                6.0   \n",
       "34877             5    43                7.0                8.0   \n",
       "\n",
       "       Sales_last_3_week  Sales_last_4_week  Sales_last_5_week  \\\n",
       "34873                7.0               17.0               12.0   \n",
       "34874                2.0                3.0                7.0   \n",
       "34875                3.0                9.0               12.0   \n",
       "34876               12.0                8.0                8.0   \n",
       "34877                5.0                5.0                8.0   \n",
       "\n",
       "       Sales_last_6_week  Sales_last_7_week  Diff_sales_last_1_week  \\\n",
       "34873                9.0               10.0                    -7.0   \n",
       "34874                2.0                5.0                    -3.0   \n",
       "34875               12.0                6.0                     1.0   \n",
       "34876                6.0                8.0                     3.0   \n",
       "34877                8.0                4.0                    -1.0   \n",
       "\n",
       "       Diff_sales_last_2_week  Diff_sales_last_3_week  Diff_sales_last_4_week  \\\n",
       "34873                     4.0                   -10.0                     5.0   \n",
       "34874                     3.0                    -1.0                    -4.0   \n",
       "34875                     2.0                    -6.0                    -3.0   \n",
       "34876                    -6.0                     4.0                     0.0   \n",
       "34877                     3.0                     0.0                    -3.0   \n",
       "\n",
       "       Diff_sales_last_5_week  Diff_sales_last_6_week  Diff_sales_last_7_week  \n",
       "34873                     3.0                    -1.0                    -4.0  \n",
       "34874                     5.0                    -3.0                    -5.0  \n",
       "34875                     0.0                     6.0                    -3.0  \n",
       "34876                     2.0                    -2.0                   -11.0  \n",
       "34877                     0.0                     4.0                    -3.0  "
      ]
     },
     "execution_count": 20,
     "metadata": {},
     "output_type": "execute_result"
    }
   ],
   "source": [
    "Xtest[:5]"
   ]
  },
  {
   "cell_type": "markdown",
   "metadata": {},
   "source": [
    "<span style=\"font-size: 140%;color:#0c343d;background:#fff2cc\"> Scaling (normalization) of the X value\n",
    "\n",
    "<span style=\"font-size: 110%;color:#0c343d;background:#fff2cc\">X should never be too big. Ideally, it should be in the range [-1, 1]. If this is not the case, normalize the input."
   ]
  },
  {
   "cell_type": "code",
   "execution_count": 21,
   "metadata": {},
   "outputs": [
    {
     "name": "stdout",
     "output_type": "stream",
     "text": [
      "1.0 0.0\n"
     ]
    }
   ],
   "source": [
    "from sklearn.preprocessing import StandardScaler\n",
    "\n",
    "sc = StandardScaler()\n",
    "Xtrain = sc.fit_transform(Xtrain)\n",
    "\n",
    "print(np.round(Xtrain.std(), decimals=2), np.round(Xtrain.mean(), decimals=2))"
   ]
  },
  {
   "cell_type": "code",
   "execution_count": 22,
   "metadata": {},
   "outputs": [
    {
     "name": "stdout",
     "output_type": "stream",
     "text": [
      "0.97 0.0\n"
     ]
    }
   ],
   "source": [
    "from sklearn.preprocessing import StandardScaler\n",
    "\n",
    "sc = StandardScaler()\n",
    "Xtest = sc.fit_transform(Xtest)\n",
    "\n",
    "print(np.round(Xtest.std(), decimals=2), np.round(Xtest.mean(), decimals=2))"
   ]
  },
  {
   "cell_type": "raw",
   "metadata": {},
   "source": [
    "ytrain.value_counts()"
   ]
  },
  {
   "cell_type": "code",
   "execution_count": 23,
   "metadata": {},
   "outputs": [
    {
     "name": "stdout",
     "output_type": "stream",
     "text": [
      "0.12 0.09\n"
     ]
    }
   ],
   "source": [
    "ytrain = (ytrain / 100)  # max test score is 100\n",
    "#print(y.head(3))\n",
    "print(np.round(ytrain.std(), decimals=2), np.round(ytrain.mean(), decimals=2))"
   ]
  },
  {
   "cell_type": "code",
   "execution_count": 24,
   "metadata": {},
   "outputs": [
    {
     "name": "stdout",
     "output_type": "stream",
     "text": [
      "0.11 0.08\n"
     ]
    }
   ],
   "source": [
    "ytest = (ytest / 100)  # max test score is 100\n",
    "#print(y.head(3))\n",
    "print(np.round(ytest.std(), decimals=2), np.round(ytest.mean(), decimals=2))"
   ]
  },
  {
   "cell_type": "markdown",
   "metadata": {},
   "source": [
    "<span style=\"font-size: 140%;color:#0c343d;background:#fff2cc\"> Creates random input and output"
   ]
  },
  {
   "cell_type": "code",
   "execution_count": 25,
   "metadata": {},
   "outputs": [
    {
     "name": "stdout",
     "output_type": "stream",
     "text": [
      "tensor([[-1.7224, -1.6833,  1.0057,  0.4196,  0.2507,  0.3273, -0.0842,  0.0749,\n",
      "          0.2333,  1.5197,  0.4382, -0.2045,  1.0763, -0.4174, -0.4184,  0.2175],\n",
      "        [-1.7182, -1.6833, -0.4866, -0.2401, -0.6529, -0.1630, -0.5718, -0.4913,\n",
      "         -0.2503, -0.6383,  1.0836, -1.2766,  1.0763, -0.2047, -0.6310, -0.2065],\n",
      "        [-1.7140, -1.6833,  0.3424, -0.1577, -0.0779,  0.0822, -0.0029, -0.0869,\n",
      "          0.1527,  1.3039, -0.2073, -0.4189,  0.2224,  0.2207, -0.6310,  0.8535]],\n",
      "       device='cuda:0', dtype=torch.float64)\n"
     ]
    }
   ],
   "source": [
    "Xtrain = torch.tensor(Xtrain).cuda()\n",
    "print(Xtrain[:3])"
   ]
  },
  {
   "cell_type": "code",
   "execution_count": 26,
   "metadata": {},
   "outputs": [
    {
     "name": "stdout",
     "output_type": "stream",
     "text": [
      "tensor([[-1.7224, -1.6833,  1.0057,  0.4196,  0.2507,  0.3273, -0.0842,  0.0749,\n",
      "          0.2333,  1.5197,  0.4382, -0.2045,  1.0763, -0.4174, -0.4184,  0.2175],\n",
      "        [-1.7182, -1.6833, -0.4866, -0.2401, -0.6529, -0.1630, -0.5718, -0.4913,\n",
      "         -0.2503, -0.6383,  1.0836, -1.2766,  1.0763, -0.2047, -0.6310, -0.2065],\n",
      "        [-1.7140, -1.6833,  0.3424, -0.1577, -0.0779,  0.0822, -0.0029, -0.0869,\n",
      "          0.1527,  1.3039, -0.2073, -0.4189,  0.2224,  0.2207, -0.6310,  0.8535]],\n",
      "       device='cuda:0')\n"
     ]
    }
   ],
   "source": [
    "Xtrain = Xtrain.type(torch.FloatTensor).cuda()\n",
    "print(Xtrain[:3])"
   ]
  },
  {
   "cell_type": "code",
   "execution_count": 27,
   "metadata": {},
   "outputs": [
    {
     "name": "stdout",
     "output_type": "stream",
     "text": [
      "tensor([[-1.7224,  0.0000, -0.3875,  0.2478, -0.1068,  0.8403,  0.3327,  0.0854,\n",
      "          0.1814, -1.6591,  0.9297, -2.4464,  1.2700,  0.6765, -0.2349, -0.9518],\n",
      "        [-1.7182,  0.0000, -0.5638, -0.2910, -0.5584, -0.4618, -0.1111, -0.5599,\n",
      "         -0.2755, -0.7315,  0.6939, -0.2914, -0.8923,  1.1559, -0.6784, -1.1887],\n",
      "        [-1.7140,  0.0000, -0.2111, -0.2910, -0.4681,  0.0962,  0.3327,  0.3619,\n",
      "         -0.1841,  0.1962,  0.4580, -1.4886, -0.6520, -0.0426,  1.3175, -0.7149]],\n",
      "       device='cuda:0', dtype=torch.float64)\n"
     ]
    }
   ],
   "source": [
    "#X = X.values       #- jak była normalizacja to to nie działa\n",
    "Xtest = torch.tensor(Xtest).cuda()\n",
    "print(Xtest[:3])"
   ]
  },
  {
   "cell_type": "code",
   "execution_count": 28,
   "metadata": {},
   "outputs": [
    {
     "name": "stdout",
     "output_type": "stream",
     "text": [
      "tensor([[-1.7224,  0.0000, -0.3875,  0.2478, -0.1068,  0.8403,  0.3327,  0.0854,\n",
      "          0.1814, -1.6591,  0.9297, -2.4464,  1.2700,  0.6765, -0.2349, -0.9518],\n",
      "        [-1.7182,  0.0000, -0.5638, -0.2910, -0.5584, -0.4618, -0.1111, -0.5599,\n",
      "         -0.2755, -0.7315,  0.6939, -0.2914, -0.8923,  1.1559, -0.6784, -1.1887],\n",
      "        [-1.7140,  0.0000, -0.2111, -0.2910, -0.4681,  0.0962,  0.3327,  0.3619,\n",
      "         -0.1841,  0.1962,  0.4580, -1.4886, -0.6520, -0.0426,  1.3175, -0.7149]],\n",
      "       device='cuda:0')\n"
     ]
    }
   ],
   "source": [
    "Xtest = Xtest.type(torch.FloatTensor).cuda()\n",
    "print(Xtest[:3])"
   ]
  },
  {
   "cell_type": "code",
   "execution_count": 29,
   "metadata": {},
   "outputs": [
    {
     "name": "stdout",
     "output_type": "stream",
     "text": [
      "tensor([0.0600, 0.0300, 0.1200], device='cuda:0', dtype=torch.float64)\n"
     ]
    }
   ],
   "source": [
    "ytrain = torch.tensor(ytrain).cuda()\n",
    "print(ytrain[:3])"
   ]
  },
  {
   "cell_type": "code",
   "execution_count": 30,
   "metadata": {},
   "outputs": [
    {
     "name": "stdout",
     "output_type": "stream",
     "text": [
      "tensor([0.0700, 0.0400, 0.1400], device='cuda:0', dtype=torch.float64)\n"
     ]
    }
   ],
   "source": [
    "ytest = torch.tensor(ytest).cuda()\n",
    "print(ytest[:3])"
   ]
  },
  {
   "cell_type": "markdown",
   "metadata": {},
   "source": [
    "<span style=\"font-size: 110%;color:#0c343d;background:#fff2cc\">training variables"
   ]
  },
  {
   "cell_type": "code",
   "execution_count": 31,
   "metadata": {},
   "outputs": [],
   "source": [
    "ytrain = ytrain.type(torch.FloatTensor).cuda()"
   ]
  },
  {
   "cell_type": "code",
   "execution_count": 32,
   "metadata": {},
   "outputs": [
    {
     "name": "stdout",
     "output_type": "stream",
     "text": [
      "Xtrain: torch.Size([28385, 16])\n",
      "ytrain: torch.Size([28385])\n"
     ]
    }
   ],
   "source": [
    "print('Xtrain:',Xtrain.shape)\n",
    "print('ytrain:',ytrain.shape)"
   ]
  },
  {
   "cell_type": "markdown",
   "metadata": {},
   "source": [
    "<span style=\"font-size: 110%;color:#0c343d;background:#fff2cc\">Add one dimension to the result vector"
   ]
  },
  {
   "cell_type": "code",
   "execution_count": 33,
   "metadata": {},
   "outputs": [
    {
     "data": {
      "text/plain": [
       "torch.Size([28385, 1])"
      ]
     },
     "execution_count": 33,
     "metadata": {},
     "output_type": "execute_result"
    }
   ],
   "source": [
    "ytrain = ytrain.view(ytrain.shape[0],1).cuda()\n",
    "ytrain.shape"
   ]
  },
  {
   "cell_type": "code",
   "execution_count": 34,
   "metadata": {},
   "outputs": [
    {
     "data": {
      "text/plain": [
       "tensor([[-1.7224, -1.6833,  1.0057,  ..., -0.4174, -0.4184,  0.2175],\n",
       "        [-1.7182, -1.6833, -0.4866,  ..., -0.2047, -0.6310, -0.2065],\n",
       "        [-1.7140, -1.6833,  0.3424,  ...,  0.2207, -0.6310,  0.8535],\n",
       "        ...,\n",
       "        [ 1.7308,  1.6833, -0.6524,  ...,  0.0080,  0.0068,  0.0055],\n",
       "        [ 1.7351,  1.6833, -0.7353,  ...,  0.0080,  0.0068,  0.0055],\n",
       "        [ 1.7393,  1.6833, -0.7353,  ...,  0.0080, -0.4184,  0.6415]],\n",
       "       device='cuda:0')"
      ]
     },
     "execution_count": 34,
     "metadata": {},
     "output_type": "execute_result"
    }
   ],
   "source": [
    "Xtrain"
   ]
  },
  {
   "cell_type": "markdown",
   "metadata": {},
   "source": [
    "<span style=\"font-size: 110%;color:#0c343d;background:#fff2cc\">TEST VARIABLES"
   ]
  },
  {
   "cell_type": "code",
   "execution_count": 35,
   "metadata": {},
   "outputs": [],
   "source": [
    "ytest = ytest.type(torch.FloatTensor)"
   ]
  },
  {
   "cell_type": "code",
   "execution_count": 36,
   "metadata": {},
   "outputs": [
    {
     "name": "stdout",
     "output_type": "stream",
     "text": [
      "Xtest: torch.Size([811, 16])\n",
      "ytest: torch.Size([811])\n"
     ]
    }
   ],
   "source": [
    "print('Xtest:',Xtest.shape)\n",
    "print('ytest:',ytest.shape)"
   ]
  },
  {
   "cell_type": "markdown",
   "metadata": {},
   "source": [
    "<span style=\"font-size: 110%;color:#0c343d;background:#fff2cc\">Add one dimension to the result vector"
   ]
  },
  {
   "cell_type": "code",
   "execution_count": 37,
   "metadata": {},
   "outputs": [
    {
     "data": {
      "text/plain": [
       "torch.Size([811, 1])"
      ]
     },
     "execution_count": 37,
     "metadata": {},
     "output_type": "execute_result"
    }
   ],
   "source": [
    "ytest = ytest.view(ytest.shape[0],1)\n",
    "ytest.shape"
   ]
  },
  {
   "cell_type": "code",
   "execution_count": 38,
   "metadata": {},
   "outputs": [
    {
     "data": {
      "text/plain": [
       "tensor([[-1.7224,  0.0000, -0.3875,  ...,  0.6765, -0.2349, -0.9518],\n",
       "        [-1.7182,  0.0000, -0.5638,  ...,  1.1559, -0.6784, -1.1887],\n",
       "        [-1.7140,  0.0000, -0.2111,  ..., -0.0426,  1.3175, -0.7149],\n",
       "        ...,\n",
       "        [ 1.7308,  0.0000, -0.5638,  ..., -0.0426, -0.0131, -0.0041],\n",
       "        [ 1.7351,  0.0000, -0.7401,  ..., -0.0426, -0.0131, -0.0041],\n",
       "        [ 1.7393,  0.0000, -0.7401,  ..., -0.0426, -0.0131, -0.4779]],\n",
       "       device='cuda:0')"
      ]
     },
     "execution_count": 38,
     "metadata": {},
     "output_type": "execute_result"
    }
   ],
   "source": [
    "Xtest"
   ]
  },
  {
   "cell_type": "code",
   "execution_count": 39,
   "metadata": {},
   "outputs": [
    {
     "name": "stdout",
     "output_type": "stream",
     "text": [
      "Xtrain:  torch.Size([28385, 16])\n",
      "Xtest:   torch.Size([811, 16])\n",
      "----------------------------------------------------\n",
      "ytrain:  torch.Size([28385, 1])\n",
      "ytest:   torch.Size([811, 1])\n"
     ]
    }
   ],
   "source": [
    "print('Xtrain: ',Xtrain.shape)\n",
    "print('Xtest:  ',Xtest.shape)\n",
    "print('----------------------------------------------------')\n",
    "print('ytrain: ',ytrain.shape)\n",
    "print('ytest:  ',ytest.shape)"
   ]
  },
  {
   "cell_type": "markdown",
   "metadata": {},
   "source": [
    "<span style=\"font-size: 140%;color:#0c343d;background:#fff2cc\">Add one dimension to the result vector Defining the neural network"
   ]
  },
  {
   "cell_type": "code",
   "execution_count": 40,
   "metadata": {},
   "outputs": [],
   "source": [
    "class Net(torch.nn.Module):\n",
    "    def __init__(self, n_feature, n_hidden, n_output):\n",
    "        super(Net, self).__init__()\n",
    "        self.hidden = torch.nn.Linear(n_feature, n_hidden)   # hidden layer\n",
    "        self.predict = torch.nn.Linear(n_hidden, n_output)   # output layer\n",
    "\n",
    "    def forward(self, x):\n",
    "        x = F.relu(self.hidden(x))      # activation function for hidden layer\n",
    "        x = self.predict(x)             # linear output\n",
    "        return x"
   ]
  },
  {
   "cell_type": "markdown",
   "metadata": {},
   "source": [
    "<span style=\"font-size: 140%;color:#0c343d;background:#fff2cc\">Definition of the shape of the network"
   ]
  },
  {
   "cell_type": "code",
   "execution_count": 41,
   "metadata": {},
   "outputs": [],
   "source": [
    "N, D_in = Xtrain.shape\n",
    "N, D_out = ytrain.shape\n",
    "\n",
    "H = 500                            ## the number of dimensions of the inner layer\n",
    "device = torch.device('cuda')"
   ]
  },
  {
   "cell_type": "code",
   "execution_count": 42,
   "metadata": {},
   "outputs": [],
   "source": [
    "net = torch.nn.Sequential(\n",
    "        torch.nn.Linear(D_in,  H),   # INPUT layer\n",
    "        torch.nn.LeakyReLU(),\n",
    "        torch.nn.Linear(H, H),        # inner layer\n",
    "        torch.nn.LeakyReLU(),\n",
    "        torch.nn.Linear(H, D_out),    # output layer\n",
    "    ).to(device)  "
   ]
  },
  {
   "cell_type": "code",
   "execution_count": 43,
   "metadata": {},
   "outputs": [
    {
     "data": {
      "text/plain": [
       "tensor([[ 0.0656],\n",
       "        [ 0.0207],\n",
       "        [ 0.0784],\n",
       "        ...,\n",
       "        [-0.0010],\n",
       "        [-0.0125],\n",
       "        [-0.0355]], device='cuda:0', grad_fn=<AddmmBackward>)"
      ]
     },
     "execution_count": 43,
     "metadata": {},
     "output_type": "execute_result"
    }
   ],
   "source": [
    "net(Xtrain)"
   ]
  },
  {
   "cell_type": "markdown",
   "metadata": {},
   "source": [
    "<span style=\"font-size: 160%;color:#0c343d;background:#fff2cc\"> Optimizer\n",
    "\n",
    "\n",
    "<span style=\"font-size: 110%;color:#0c343d;background:#fff2cc\">lr: Speed of learning -> The speed at which our model updates the weights in the cells each time backward propagation is carried out\n"
   ]
  },
  {
   "cell_type": "code",
   "execution_count": 44,
   "metadata": {},
   "outputs": [],
   "source": [
    "#optimizer = torch.optim.SGD(net.parameters(), lr=0.01, momentum=0, dampening=0, weight_decay=0, nesterov=False) #-2.401\n",
    "#optimizer = torch.optim.SGD(net.parameters(), lr=0.1) #-4.086\n",
    "#optimizer = torch.optim.Adam(net.parameters(), lr=0.01) #-5.298\n",
    "#optimizer = torch.optim.Adamax(net.parameters(), lr=0.01) #-6.610\n",
    "optimizer = torch.optim.ASGD(net.parameters(), lr=0.01, lambd=0.0001, alpha=0.15, t0=000000.0) #-2.315\n",
    "#optimizer = torch.optim.LBFGS(net.parameters(), lr=0.01, max_iter=20, max_eval=None, tolerance_grad=1e-05, tolerance_change=1e-09, history_size=100, line_search_fn=None)\n",
    "#optimizer = torch.optim.RMSprop(net.parameters(), lr=0.01, alpha=0.99, eps=1e-08) #-5.152\n",
    "#optimizer = torch.optim.Rprop(net.parameters(), lr=0.01, etas=(0.5, 1.2), step_sizes=(1e-06, 50))  #R2:-7.388"
   ]
  },
  {
   "cell_type": "markdown",
   "metadata": {},
   "source": [
    "<span style=\"font-size: 160%;color:#0c343d;background:#fff2cc\">Loss function"
   ]
  },
  {
   "cell_type": "code",
   "execution_count": 45,
   "metadata": {},
   "outputs": [],
   "source": [
    "#loss_func = torch.nn.MSELoss() #89\n",
    "loss_func = torch.nn.L1Loss() #90\n",
    "#loss_func = torch.nn.CTCLoss(blank=0, reduction='mean', zero_infinity=False)\n",
    "#loss_func =torch.nn.NLLLoss(weight=None, size_average=None, ignore_index=-100, reduce=None, reduction='mean')\n",
    "#loss_func =torch.nn.PoissonNLLLoss(log_input=True, full=False, size_average=None, eps=1e-08, reduce=None, reduction='mean')\n",
    "#loss_func =torch.nn.KLDivLoss(size_average=None, reduce=None, reduction='mean', log_target=False)\n",
    "#loss_func =torch.nn.BCELoss(weight=None, size_average=None, reduce=None, reduction='mean')\n",
    "#loss_func =torch.nn.BCEWithLogitsLoss(weight=None, size_average=None, reduce=None, reduction='mean', pos_weight=None)\n",
    "#loss_func =torch.nn.MarginRankingLoss(margin=0.0, size_average=None, reduce=None, reduction='mean')\n",
    "#loss_func =torch.nn.HingeEmbeddingLoss(margin=1.0, size_average=None, reduce=None, reduction='mean')\n",
    "#loss_func =torch.nn.HuberLoss(reduction='mean', delta=1.0)\n",
    "#loss_func = torch.nn.Flatten(start_dim=1, end_dim=-1)"
   ]
  },
  {
   "cell_type": "markdown",
   "metadata": {},
   "source": [
    "<span style=\"font-size: 160%;color:#0c343d;background:#fff2cc\">Defining the learning process and learning"
   ]
  },
  {
   "cell_type": "code",
   "execution_count": 46,
   "metadata": {},
   "outputs": [
    {
     "name": "stdout",
     "output_type": "stream",
     "text": [
      "0 0.06355024874210358\n",
      "400 0.03144383803009987\n",
      "800 0.026504244655370712\n",
      "1200 0.02464953064918518\n",
      "1600 0.0236049797385931\n",
      "2000 0.022865546867251396\n",
      "2400 0.02241097390651703\n",
      "2800 0.022179679945111275\n",
      "3200 0.021955741569399834\n",
      "3600 0.021865205839276314\n",
      "4000 0.021688012406229973\n",
      "4400 0.021597525104880333\n",
      "4800 0.0215599425137043\n",
      "5200 0.02142387628555298\n",
      "5600 0.021396420896053314\n"
     ]
    }
   ],
   "source": [
    "inputs = Xtrain                          #1. deklarujemy x i y do nauki\n",
    "outputs = ytrain\n",
    "for i in range(6000):                          #2. pętla 4000 powtórzeń (epok)\n",
    "   prediction = net(inputs)\n",
    "   loss = loss_func(prediction, outputs) \n",
    "   optimizer.zero_grad()\n",
    "   loss.backward()        \n",
    "   optimizer.step()       \n",
    "\n",
    "   if i % 400 == 0:  \n",
    "      print(i, loss.item())     # <=# y values, and the loss function returns the Tensor containing the loss."
   ]
  },
  {
   "cell_type": "markdown",
   "metadata": {},
   "source": [
    "###  Forecast based on the model\n",
    "-  substitute the same equations that were in the model\n",
    "-  The following loss result shows the last model sequence\n",
    "-  Loss shows how much the model is wrong (loss = sum of error squares) after the last learning sequence"
   ]
  },
  {
   "cell_type": "code",
   "execution_count": 47,
   "metadata": {},
   "outputs": [
    {
     "name": "stdout",
     "output_type": "stream",
     "text": [
      "tensor([[0.0700],\n",
      "        [0.0400],\n",
      "        [0.1400]], device='cuda:0')\n"
     ]
    }
   ],
   "source": [
    "ytest = torch.tensor(ytest).cuda()\n",
    "print(ytest[:3])"
   ]
  },
  {
   "cell_type": "code",
   "execution_count": 48,
   "metadata": {},
   "outputs": [
    {
     "name": "stdout",
     "output_type": "stream",
     "text": [
      "Loss train_set: 1.01318526\n"
     ]
    }
   ],
   "source": [
    "with torch.no_grad():\n",
    "    y_pred = net(Xtest)  \n",
    "    loss = (y_pred - ytest).pow(2).sum()\n",
    "\n",
    "    print(f'Loss train_set: {loss:.8f}')"
   ]
  },
  {
   "cell_type": "markdown",
   "metadata": {},
   "source": [
    "<span style=\"font-size: 160%;color:#0c343d;background:#fff2cc\"> We save the whole model"
   ]
  },
  {
   "cell_type": "code",
   "execution_count": 49,
   "metadata": {},
   "outputs": [],
   "source": [
    "torch.save(net,'/home/wojciech/Pulpit/7/byk15.pb')"
   ]
  },
  {
   "cell_type": "markdown",
   "metadata": {},
   "source": [
    "<span style=\"font-size: 160%;color:#0c343d;background:#fff2cc\"> We play the whole model\n",
    "    \n",
    "    The model is now not called 'net' but 'KOT'"
   ]
  },
  {
   "cell_type": "code",
   "execution_count": 50,
   "metadata": {},
   "outputs": [
    {
     "data": {
      "text/plain": [
       "Sequential(\n",
       "  (0): Linear(in_features=16, out_features=500, bias=True)\n",
       "  (1): LeakyReLU(negative_slope=0.01)\n",
       "  (2): Linear(in_features=500, out_features=500, bias=True)\n",
       "  (3): LeakyReLU(negative_slope=0.01)\n",
       "  (4): Linear(in_features=500, out_features=1, bias=True)\n",
       ")"
      ]
     },
     "execution_count": 50,
     "metadata": {},
     "output_type": "execute_result"
    }
   ],
   "source": [
    "KOT = torch.load('/home/wojciech/Pulpit/7/byk15.pb')\n",
    "KOT"
   ]
  },
  {
   "cell_type": "code",
   "execution_count": 51,
   "metadata": {},
   "outputs": [
    {
     "name": "stdout",
     "output_type": "stream",
     "text": [
      "Loss train_set: 0.00124930\n"
     ]
    }
   ],
   "source": [
    "with torch.no_grad():\n",
    "    y_interp = KOT(Xtest)  \n",
    "    loss = (y_interp - ytest).pow(2).mean()\n",
    "\n",
    "    print(f'Loss train_set: {loss:.8f}')"
   ]
  },
  {
   "cell_type": "code",
   "execution_count": 52,
   "metadata": {},
   "outputs": [
    {
     "data": {
      "text/plain": [
       "tensor([[ 8.2895e-02],\n",
       "        [ 3.8474e-02],\n",
       "        [ 6.7902e-02],\n",
       "        [ 8.2672e-02],\n",
       "        [ 6.9841e-02],\n",
       "        [ 2.7238e-02],\n",
       "        [ 4.9631e-02],\n",
       "        [ 8.5315e-02],\n",
       "        [ 8.1218e-02],\n",
       "        [ 1.8283e-01],\n",
       "        [ 8.2363e-02],\n",
       "        [ 3.1362e-02],\n",
       "        [ 6.9127e-02],\n",
       "        [ 1.0431e-01],\n",
       "        [ 3.3480e-01],\n",
       "        [ 3.3561e-01],\n",
       "        [ 3.5388e-01],\n",
       "        [ 3.2361e-01],\n",
       "        [ 3.1384e-01],\n",
       "        [ 7.4084e-02],\n",
       "        [ 8.6208e-02],\n",
       "        [ 7.0424e-02],\n",
       "        [ 4.3726e-02],\n",
       "        [ 3.9504e-01],\n",
       "        [ 3.0388e-01],\n",
       "        [ 8.1776e-02],\n",
       "        [ 3.5943e-01],\n",
       "        [ 3.5038e-01],\n",
       "        [ 9.7514e-02],\n",
       "        [ 2.6594e-01],\n",
       "        [ 9.0990e-02],\n",
       "        [ 6.3902e-02],\n",
       "        [ 7.2463e-02],\n",
       "        [ 3.2517e-01],\n",
       "        [ 3.7055e-01],\n",
       "        [ 3.0958e-01],\n",
       "        [ 3.5539e-01],\n",
       "        [ 3.0365e-01],\n",
       "        [ 3.2779e-01],\n",
       "        [ 3.0761e-01],\n",
       "        [ 3.4159e-01],\n",
       "        [ 3.3075e-01],\n",
       "        [ 3.9906e-01],\n",
       "        [ 3.1707e-01],\n",
       "        [ 3.3741e-01],\n",
       "        [ 3.4511e-01],\n",
       "        [ 3.5313e-01],\n",
       "        [ 3.5396e-01],\n",
       "        [ 3.2758e-01],\n",
       "        [ 8.2847e-02],\n",
       "        [ 1.9945e-01],\n",
       "        [ 3.2257e-01],\n",
       "        [ 3.0417e-02],\n",
       "        [ 3.3787e-01],\n",
       "        [ 2.7391e-01],\n",
       "        [ 3.1835e-01],\n",
       "        [ 3.2752e-01],\n",
       "        [ 3.0671e-01],\n",
       "        [ 9.1759e-02],\n",
       "        [ 2.6762e-01],\n",
       "        [ 2.9299e-01],\n",
       "        [ 1.4147e-01],\n",
       "        [ 3.5280e-01],\n",
       "        [ 2.8406e-01],\n",
       "        [ 7.8505e-02],\n",
       "        [ 3.8251e-01],\n",
       "        [ 2.9825e-01],\n",
       "        [ 7.3718e-02],\n",
       "        [ 3.0506e-01],\n",
       "        [ 2.9296e-01],\n",
       "        [ 8.1537e-02],\n",
       "        [ 3.5962e-01],\n",
       "        [ 3.0550e-01],\n",
       "        [ 7.3883e-02],\n",
       "        [ 3.5483e-01],\n",
       "        [ 3.0967e-01],\n",
       "        [ 4.2210e-02],\n",
       "        [ 2.8936e-01],\n",
       "        [ 2.9595e-01],\n",
       "        [ 2.9635e-01],\n",
       "        [ 7.3641e-02],\n",
       "        [ 8.9338e-02],\n",
       "        [ 3.5042e-01],\n",
       "        [ 3.0000e-01],\n",
       "        [ 2.5550e-01],\n",
       "        [ 3.3855e-01],\n",
       "        [ 3.2627e-01],\n",
       "        [ 2.7950e-01],\n",
       "        [ 3.1858e-01],\n",
       "        [ 2.9513e-01],\n",
       "        [ 6.7936e-02],\n",
       "        [ 3.5026e-01],\n",
       "        [ 1.0607e-01],\n",
       "        [ 7.7944e-02],\n",
       "        [ 9.3479e-02],\n",
       "        [ 3.0932e-01],\n",
       "        [ 3.1826e-01],\n",
       "        [ 4.3928e-02],\n",
       "        [ 8.0329e-02],\n",
       "        [ 1.0400e-01],\n",
       "        [ 3.3957e-01],\n",
       "        [ 3.2161e-01],\n",
       "        [ 1.0439e-01],\n",
       "        [ 3.3450e-02],\n",
       "        [ 1.9274e-02],\n",
       "        [ 9.7772e-02],\n",
       "        [ 1.5246e-01],\n",
       "        [ 3.8390e-02],\n",
       "        [ 8.2287e-02],\n",
       "        [ 9.3168e-02],\n",
       "        [ 6.5876e-02],\n",
       "        [ 3.3725e-01],\n",
       "        [ 3.2126e-01],\n",
       "        [ 1.1827e-01],\n",
       "        [ 8.5424e-02],\n",
       "        [ 6.7842e-02],\n",
       "        [ 2.5980e-02],\n",
       "        [ 6.1087e-02],\n",
       "        [ 3.2797e-01],\n",
       "        [ 3.3276e-01],\n",
       "        [ 7.3071e-02],\n",
       "        [ 9.5642e-02],\n",
       "        [ 2.3741e-02],\n",
       "        [ 3.5080e-02],\n",
       "        [ 4.6695e-02],\n",
       "        [ 3.1985e-02],\n",
       "        [ 2.4112e-02],\n",
       "        [ 3.9628e-01],\n",
       "        [ 3.3488e-01],\n",
       "        [ 3.2809e-01],\n",
       "        [ 3.0150e-01],\n",
       "        [ 3.4057e-01],\n",
       "        [ 3.4970e-01],\n",
       "        [ 3.7718e-01],\n",
       "        [ 3.6978e-01],\n",
       "        [ 3.6021e-01],\n",
       "        [ 3.6537e-01],\n",
       "        [ 2.9099e-01],\n",
       "        [ 2.8833e-01],\n",
       "        [ 3.0970e-01],\n",
       "        [ 3.0426e-01],\n",
       "        [ 2.6098e-01],\n",
       "        [ 2.9149e-01],\n",
       "        [ 8.8459e-02],\n",
       "        [ 7.9241e-02],\n",
       "        [ 7.4146e-02],\n",
       "        [ 1.0387e-01],\n",
       "        [ 4.5043e-02],\n",
       "        [ 8.0432e-02],\n",
       "        [ 3.9329e-02],\n",
       "        [ 3.1726e-02],\n",
       "        [ 8.0589e-02],\n",
       "        [ 7.0261e-02],\n",
       "        [ 6.2909e-02],\n",
       "        [ 3.0561e-02],\n",
       "        [ 3.1463e-02],\n",
       "        [ 8.2052e-02],\n",
       "        [ 2.7205e-02],\n",
       "        [ 3.2196e-02],\n",
       "        [ 7.9174e-02],\n",
       "        [ 3.9514e-02],\n",
       "        [ 6.3471e-02],\n",
       "        [ 2.6568e-02],\n",
       "        [ 7.8653e-02],\n",
       "        [ 9.2552e-02],\n",
       "        [ 8.1312e-02],\n",
       "        [ 2.9177e-01],\n",
       "        [ 2.8772e-01],\n",
       "        [ 2.9611e-01],\n",
       "        [ 3.8848e-01],\n",
       "        [ 8.0946e-02],\n",
       "        [ 2.8123e-01],\n",
       "        [ 3.6101e-01],\n",
       "        [ 4.0036e-01],\n",
       "        [ 3.0762e-01],\n",
       "        [ 2.6096e-01],\n",
       "        [ 2.7850e-01],\n",
       "        [ 3.6987e-01],\n",
       "        [ 3.5335e-01],\n",
       "        [ 3.1716e-01],\n",
       "        [ 3.3163e-01],\n",
       "        [ 3.3691e-01],\n",
       "        [ 2.7229e-01],\n",
       "        [ 2.9182e-01],\n",
       "        [ 3.5446e-01],\n",
       "        [ 3.0449e-01],\n",
       "        [ 3.3391e-01],\n",
       "        [ 3.4926e-01],\n",
       "        [ 2.6859e-01],\n",
       "        [ 3.7368e-01],\n",
       "        [ 3.3636e-01],\n",
       "        [ 3.1165e-01],\n",
       "        [ 3.2720e-01],\n",
       "        [ 3.1556e-01],\n",
       "        [ 3.5765e-02],\n",
       "        [ 3.1747e-01],\n",
       "        [ 9.4047e-02],\n",
       "        [ 7.9310e-02],\n",
       "        [ 2.4169e-02],\n",
       "        [ 1.6414e-01],\n",
       "        [ 3.2332e-02],\n",
       "        [ 1.2917e-01],\n",
       "        [ 5.5402e-02],\n",
       "        [ 2.1387e-02],\n",
       "        [ 8.2015e-02],\n",
       "        [ 2.6056e-02],\n",
       "        [ 4.6848e-02],\n",
       "        [ 2.7786e-01],\n",
       "        [ 7.0785e-02],\n",
       "        [ 1.0977e-01],\n",
       "        [ 8.8354e-02],\n",
       "        [ 8.9392e-03],\n",
       "        [ 5.9376e-03],\n",
       "        [ 5.8663e-03],\n",
       "        [-2.6011e-03],\n",
       "        [ 5.8629e-03],\n",
       "        [-2.5357e-03],\n",
       "        [-1.2516e-03],\n",
       "        [-1.7637e-04],\n",
       "        [ 3.1128e-03],\n",
       "        [ 9.7371e-04],\n",
       "        [ 1.3839e-03],\n",
       "        [-7.1376e-04],\n",
       "        [ 1.2676e-03],\n",
       "        [-1.6896e-03],\n",
       "        [-1.0249e-03],\n",
       "        [-2.4020e-03],\n",
       "        [-2.2838e-03],\n",
       "        [ 5.9769e-04],\n",
       "        [-2.4135e-03],\n",
       "        [ 6.5111e-05],\n",
       "        [-2.1916e-03],\n",
       "        [-2.1685e-03],\n",
       "        [-2.1458e-03],\n",
       "        [-2.1231e-03],\n",
       "        [ 1.1811e-04],\n",
       "        [-2.0777e-03],\n",
       "        [ 4.5742e-04],\n",
       "        [ 1.2557e-04],\n",
       "        [-5.6855e-04],\n",
       "        [-1.1346e-03],\n",
       "        [-1.8063e-03],\n",
       "        [-1.9489e-03],\n",
       "        [ 7.7105e-04],\n",
       "        [-1.9154e-03],\n",
       "        [-6.5260e-04],\n",
       "        [ 1.1344e-03],\n",
       "        [-1.8682e-03],\n",
       "        [-9.9817e-04],\n",
       "        [-1.8404e-03],\n",
       "        [-1.8279e-03],\n",
       "        [-1.4634e-03],\n",
       "        [-2.2668e-03],\n",
       "        [-1.7916e-03],\n",
       "        [ 1.2798e-02],\n",
       "        [-2.2230e-03],\n",
       "        [ 5.1258e-03],\n",
       "        [-1.7134e-03],\n",
       "        [-1.7012e-03],\n",
       "        [-1.6891e-03],\n",
       "        [ 1.6209e-01],\n",
       "        [ 2.9837e-01],\n",
       "        [ 1.8001e-01],\n",
       "        [ 7.1322e-02],\n",
       "        [ 2.0396e-02],\n",
       "        [ 6.1591e-02],\n",
       "        [ 9.7682e-02],\n",
       "        [ 1.6459e-01],\n",
       "        [ 1.4243e-01],\n",
       "        [ 1.8847e-01],\n",
       "        [ 3.0004e-02],\n",
       "        [ 1.8747e-03],\n",
       "        [ 1.0467e-04],\n",
       "        [-1.4151e-03],\n",
       "        [ 7.0738e-04],\n",
       "        [-1.3682e-03],\n",
       "        [ 2.5219e-03],\n",
       "        [ 1.8259e-04],\n",
       "        [-9.4534e-04],\n",
       "        [-1.2743e-03],\n",
       "        [ 3.0681e-03],\n",
       "        [ 5.5264e-03],\n",
       "        [ 9.1830e-04],\n",
       "        [ 1.7100e-01],\n",
       "        [ 7.1702e-02],\n",
       "        [ 1.3060e-01],\n",
       "        [ 6.6053e-03],\n",
       "        [ 1.0079e-02],\n",
       "        [ 5.2533e-03],\n",
       "        [ 3.2378e-03],\n",
       "        [ 1.9381e-02],\n",
       "        [ 3.1102e-02],\n",
       "        [ 1.9539e-02],\n",
       "        [ 7.7371e-02],\n",
       "        [ 4.4761e-02],\n",
       "        [ 3.9949e-02],\n",
       "        [ 2.9202e-02],\n",
       "        [ 2.5147e-02],\n",
       "        [ 8.5571e-02],\n",
       "        [ 3.6932e-02],\n",
       "        [ 3.7204e-02],\n",
       "        [ 3.8843e-02],\n",
       "        [ 1.8634e-02],\n",
       "        [ 7.5040e-02],\n",
       "        [ 4.0051e-02],\n",
       "        [ 2.3970e-02],\n",
       "        [ 3.5752e-02],\n",
       "        [ 4.6772e-02],\n",
       "        [ 9.6473e-02],\n",
       "        [ 5.6885e-02],\n",
       "        [ 2.6121e-02],\n",
       "        [ 2.9153e-02],\n",
       "        [ 4.2253e-02],\n",
       "        [ 7.7828e-02],\n",
       "        [ 3.4955e-02],\n",
       "        [ 3.7198e-02],\n",
       "        [ 3.6570e-02],\n",
       "        [ 3.5438e-02],\n",
       "        [ 9.8936e-02],\n",
       "        [ 3.3758e-02],\n",
       "        [ 2.8250e-02],\n",
       "        [ 1.7295e-02],\n",
       "        [ 3.8860e-02],\n",
       "        [ 7.5661e-02],\n",
       "        [ 2.6849e-02],\n",
       "        [ 1.7925e-02],\n",
       "        [ 4.2267e-02],\n",
       "        [ 1.9868e-02],\n",
       "        [ 4.3876e-02],\n",
       "        [ 3.7483e-02],\n",
       "        [ 3.1390e-02],\n",
       "        [ 7.2985e-02],\n",
       "        [ 5.8485e-02],\n",
       "        [ 7.3560e-02],\n",
       "        [ 3.1813e-02],\n",
       "        [ 2.0730e-02],\n",
       "        [ 3.5506e-02],\n",
       "        [ 2.0533e-02],\n",
       "        [ 7.7062e-03],\n",
       "        [ 4.6133e-03],\n",
       "        [ 1.9035e-02],\n",
       "        [ 1.7328e-02],\n",
       "        [ 1.4500e-02],\n",
       "        [ 1.9738e-02],\n",
       "        [ 1.2682e-02],\n",
       "        [ 4.3268e-03],\n",
       "        [ 5.3813e-03],\n",
       "        [ 2.8115e-03],\n",
       "        [ 9.9781e-04],\n",
       "        [-9.3096e-04],\n",
       "        [-1.2055e-03],\n",
       "        [-7.2674e-04],\n",
       "        [ 9.9631e-04],\n",
       "        [-1.2311e-03],\n",
       "        [ 2.8346e-02],\n",
       "        [ 2.3002e-02],\n",
       "        [ 9.4295e-03],\n",
       "        [ 4.0634e-02],\n",
       "        [ 9.3885e-03],\n",
       "        [ 8.1972e-03],\n",
       "        [ 8.3075e-03],\n",
       "        [ 7.6267e-03],\n",
       "        [ 1.0014e-01],\n",
       "        [ 2.8501e-02],\n",
       "        [ 2.2023e-02],\n",
       "        [ 3.5886e-02],\n",
       "        [ 4.1573e-02],\n",
       "        [ 3.0122e-02],\n",
       "        [ 2.3775e-02],\n",
       "        [ 9.6302e-03],\n",
       "        [ 2.5839e-02],\n",
       "        [ 1.7434e-02],\n",
       "        [ 9.3552e-03],\n",
       "        [ 5.7319e-03],\n",
       "        [ 1.7311e-03],\n",
       "        [ 7.0167e-03],\n",
       "        [ 8.4615e-03],\n",
       "        [ 2.6512e-03],\n",
       "        [-1.6249e-03],\n",
       "        [-1.6271e-03],\n",
       "        [-2.8478e-04],\n",
       "        [-1.4296e-03],\n",
       "        [-5.0169e-04],\n",
       "        [-1.6521e-03],\n",
       "        [ 2.4504e-02],\n",
       "        [ 2.6966e-02],\n",
       "        [ 1.6955e-02],\n",
       "        [ 2.3818e-02],\n",
       "        [ 1.7291e-02],\n",
       "        [ 5.4813e-02],\n",
       "        [ 3.3999e-03],\n",
       "        [ 1.9803e-02],\n",
       "        [ 1.2098e-02],\n",
       "        [ 1.9577e-02],\n",
       "        [ 7.4071e-02],\n",
       "        [ 9.4396e-02],\n",
       "        [ 1.0347e-01],\n",
       "        [ 1.5138e-01],\n",
       "        [ 3.2841e-02],\n",
       "        [ 2.9365e-02],\n",
       "        [ 1.5490e-01],\n",
       "        [ 7.8195e-02],\n",
       "        [ 1.6471e-01],\n",
       "        [ 1.2021e-01],\n",
       "        [ 1.7217e-01],\n",
       "        [ 1.1211e-01],\n",
       "        [ 3.8940e-01],\n",
       "        [ 1.4638e-01],\n",
       "        [ 1.6039e-01],\n",
       "        [ 3.0427e-02],\n",
       "        [ 7.7676e-02],\n",
       "        [ 4.0159e-02],\n",
       "        [ 1.4384e-02],\n",
       "        [ 6.6689e-03],\n",
       "        [ 1.2410e-04],\n",
       "        [ 2.7425e-03],\n",
       "        [-1.1295e-03],\n",
       "        [-1.6201e-03],\n",
       "        [-5.0649e-04],\n",
       "        [ 9.5083e-04],\n",
       "        [-7.6211e-04],\n",
       "        [-4.1281e-04],\n",
       "        [-7.6143e-04],\n",
       "        [-1.5522e-03],\n",
       "        [-4.9999e-04],\n",
       "        [-1.5356e-03],\n",
       "        [ 6.5762e-02],\n",
       "        [ 1.1563e-01],\n",
       "        [ 4.9679e-02],\n",
       "        [ 7.6023e-02],\n",
       "        [ 3.8285e-02],\n",
       "        [ 1.7387e-02],\n",
       "        [ 1.0715e-01],\n",
       "        [ 5.7213e-02],\n",
       "        [ 6.3281e-02],\n",
       "        [ 1.1050e-03],\n",
       "        [ 1.7204e-03],\n",
       "        [ 3.4175e-03],\n",
       "        [-9.9707e-04],\n",
       "        [ 3.2141e-03],\n",
       "        [ 3.1587e-04],\n",
       "        [-1.3410e-03],\n",
       "        [-1.3305e-03],\n",
       "        [-7.6167e-04],\n",
       "        [ 2.4280e-04],\n",
       "        [-3.7707e-05],\n",
       "        [ 7.8483e-04],\n",
       "        [-7.5564e-04],\n",
       "        [ 3.3450e-03],\n",
       "        [-1.2622e-03],\n",
       "        [ 5.7636e-04],\n",
       "        [ 5.4891e-04],\n",
       "        [ 1.2557e-03],\n",
       "        [ 1.8248e-03],\n",
       "        [-1.1523e-03],\n",
       "        [-8.3825e-04],\n",
       "        [ 8.1227e-03],\n",
       "        [ 2.1366e-03],\n",
       "        [ 4.6087e-04],\n",
       "        [-9.6194e-04],\n",
       "        [-2.1291e-03],\n",
       "        [-9.6129e-04],\n",
       "        [-1.1307e-03],\n",
       "        [-1.1215e-03],\n",
       "        [-9.8775e-04],\n",
       "        [-1.1046e-03],\n",
       "        [-1.1007e-03],\n",
       "        [-1.0968e-03],\n",
       "        [-1.0906e-03],\n",
       "        [-9.1400e-04],\n",
       "        [-1.0773e-03],\n",
       "        [-1.0733e-03],\n",
       "        [ 2.0392e-02],\n",
       "        [ 9.7875e-03],\n",
       "        [ 1.6022e-02],\n",
       "        [ 8.8698e-03],\n",
       "        [ 3.1373e-04],\n",
       "        [ 2.1559e-03],\n",
       "        [ 1.2470e-03],\n",
       "        [ 6.4242e-04],\n",
       "        [-2.6577e-03],\n",
       "        [ 2.7134e-02],\n",
       "        [ 7.2768e-02],\n",
       "        [ 1.8157e-01],\n",
       "        [ 1.0253e-01],\n",
       "        [ 8.5127e-02],\n",
       "        [ 3.3205e-02],\n",
       "        [ 7.8368e-02],\n",
       "        [ 1.7315e-01],\n",
       "        [ 9.1305e-02],\n",
       "        [ 1.1957e-01],\n",
       "        [ 7.0362e-02],\n",
       "        [ 1.5875e-01],\n",
       "        [ 6.7461e-02],\n",
       "        [ 3.8768e-02],\n",
       "        [ 2.8871e-02],\n",
       "        [ 6.2007e-02],\n",
       "        [ 4.0822e-02],\n",
       "        [ 2.5581e-02],\n",
       "        [ 1.1785e-01],\n",
       "        [ 1.4309e-01],\n",
       "        [ 8.1875e-02],\n",
       "        [ 1.6438e-01],\n",
       "        [ 9.5327e-02],\n",
       "        [ 1.3875e-01],\n",
       "        [ 7.5729e-02],\n",
       "        [ 5.1907e-02],\n",
       "        [ 4.7532e-02],\n",
       "        [ 2.1884e-01],\n",
       "        [ 1.4619e-01],\n",
       "        [ 1.6046e-01],\n",
       "        [ 9.4826e-02],\n",
       "        [ 6.2919e-02],\n",
       "        [ 1.8030e-01],\n",
       "        [ 1.0066e-01],\n",
       "        [ 6.1550e-02],\n",
       "        [ 1.7478e-01],\n",
       "        [ 7.7851e-02],\n",
       "        [ 1.1746e-01],\n",
       "        [ 9.9652e-02],\n",
       "        [ 9.3723e-02],\n",
       "        [ 7.4992e-02],\n",
       "        [ 9.7469e-02],\n",
       "        [ 1.1573e-01],\n",
       "        [ 9.9826e-02],\n",
       "        [ 8.9173e-02],\n",
       "        [ 1.0464e-01],\n",
       "        [ 1.5561e-01],\n",
       "        [ 5.4502e-02],\n",
       "        [ 7.5447e-02],\n",
       "        [ 2.1237e-01],\n",
       "        [ 6.1243e-02],\n",
       "        [ 1.5787e-01],\n",
       "        [ 9.5419e-02],\n",
       "        [ 1.5661e-01],\n",
       "        [ 8.5445e-02],\n",
       "        [ 6.0228e-02],\n",
       "        [ 1.6379e-01],\n",
       "        [ 8.0736e-02],\n",
       "        [ 1.0392e-01],\n",
       "        [ 9.6210e-02],\n",
       "        [ 8.5665e-02],\n",
       "        [ 1.2379e-01],\n",
       "        [ 1.0966e-01],\n",
       "        [ 7.8334e-02],\n",
       "        [ 2.8386e-01],\n",
       "        [ 2.6424e-01],\n",
       "        [ 7.5133e-02],\n",
       "        [ 6.0011e-02],\n",
       "        [ 7.1551e-02],\n",
       "        [ 3.4988e-02],\n",
       "        [ 1.7024e-01],\n",
       "        [ 6.8341e-02],\n",
       "        [ 1.2454e-01],\n",
       "        [ 1.9293e-01],\n",
       "        [ 7.6834e-02],\n",
       "        [ 9.7112e-02],\n",
       "        [ 8.7589e-02],\n",
       "        [ 1.7819e-02],\n",
       "        [ 3.5200e-02],\n",
       "        [ 6.5745e-02],\n",
       "        [ 1.1517e-01],\n",
       "        [ 9.3891e-02],\n",
       "        [ 1.6813e-01],\n",
       "        [ 2.5164e-02],\n",
       "        [ 1.8247e-02],\n",
       "        [ 2.3125e-02],\n",
       "        [ 1.8202e-02],\n",
       "        [ 4.4200e-02],\n",
       "        [ 1.3285e-02],\n",
       "        [ 2.3034e-02],\n",
       "        [ 6.0313e-03],\n",
       "        [ 3.6494e-03],\n",
       "        [-2.4934e-03],\n",
       "        [ 6.1499e-03],\n",
       "        [-1.7541e-03],\n",
       "        [-9.5020e-04],\n",
       "        [ 3.2083e-02],\n",
       "        [ 1.5737e-02],\n",
       "        [ 1.9746e-02],\n",
       "        [ 1.5963e-02],\n",
       "        [ 1.8529e-02],\n",
       "        [ 1.0770e-02],\n",
       "        [ 3.8483e-02],\n",
       "        [ 3.5987e-02],\n",
       "        [ 1.3498e-02],\n",
       "        [ 1.0538e-02],\n",
       "        [ 3.2547e-02],\n",
       "        [ 2.1587e-02],\n",
       "        [ 7.1114e-03],\n",
       "        [ 3.0548e-02],\n",
       "        [ 1.8555e-02],\n",
       "        [ 1.2717e-02],\n",
       "        [ 4.0268e-02],\n",
       "        [ 9.6298e-03],\n",
       "        [ 1.0778e-01],\n",
       "        [ 3.8619e-02],\n",
       "        [ 1.4794e-02],\n",
       "        [ 2.3076e-02],\n",
       "        [ 1.5278e-03],\n",
       "        [ 1.8492e-03],\n",
       "        [-2.2903e-03],\n",
       "        [ 9.8652e-03],\n",
       "        [-1.2676e-03],\n",
       "        [ 3.2271e-04],\n",
       "        [-1.1427e-03],\n",
       "        [ 1.7273e-02],\n",
       "        [ 2.3403e-02],\n",
       "        [ 3.8614e-02],\n",
       "        [ 7.9983e-02],\n",
       "        [ 2.0074e-01],\n",
       "        [ 4.6928e-02],\n",
       "        [ 2.4185e-01],\n",
       "        [ 4.4930e-02],\n",
       "        [ 3.0523e-01],\n",
       "        [ 2.7167e-01],\n",
       "        [ 2.8565e-01],\n",
       "        [ 2.7292e-01],\n",
       "        [ 2.8182e-01],\n",
       "        [ 3.3452e-01],\n",
       "        [ 3.7232e-01],\n",
       "        [ 9.1300e-02],\n",
       "        [ 8.9659e-02],\n",
       "        [ 8.5054e-02],\n",
       "        [ 7.2234e-02],\n",
       "        [ 8.8291e-02],\n",
       "        [ 8.1679e-02],\n",
       "        [ 6.2439e-02],\n",
       "        [ 5.8724e-02],\n",
       "        [ 8.5473e-02],\n",
       "        [ 6.0863e-02],\n",
       "        [ 6.7055e-02],\n",
       "        [ 7.8344e-02],\n",
       "        [ 7.6093e-02],\n",
       "        [ 3.6875e-02],\n",
       "        [ 8.8252e-02],\n",
       "        [-2.2554e-03],\n",
       "        [ 1.5138e-01],\n",
       "        [ 1.6646e-02],\n",
       "        [ 1.9425e-02],\n",
       "        [-2.2446e-03],\n",
       "        [-9.5281e-04],\n",
       "        [-2.2300e-03],\n",
       "        [-2.2208e-03],\n",
       "        [-1.8848e-03],\n",
       "        [-2.1965e-03],\n",
       "        [-1.8576e-03],\n",
       "        [-9.1840e-05],\n",
       "        [ 1.2980e-03],\n",
       "        [-2.1840e-03],\n",
       "        [-2.1866e-03],\n",
       "        [-2.1876e-03],\n",
       "        [-1.3762e-03],\n",
       "        [-1.2143e-03],\n",
       "        [-5.7266e-04],\n",
       "        [-2.0537e-03],\n",
       "        [-2.1516e-03],\n",
       "        [-1.9843e-03],\n",
       "        [ 4.1898e-04],\n",
       "        [ 1.5781e-03],\n",
       "        [-1.9007e-03],\n",
       "        [-2.5804e-03],\n",
       "        [-1.1951e-03],\n",
       "        [-2.0731e-03],\n",
       "        [-2.0638e-03],\n",
       "        [ 4.5061e-03],\n",
       "        [ 2.5427e-04],\n",
       "        [ 2.6120e-03],\n",
       "        [ 2.8631e-02],\n",
       "        [ 6.3140e-02],\n",
       "        [ 5.3848e-02],\n",
       "        [ 2.4030e-02],\n",
       "        [-2.0047e-03],\n",
       "        [-2.2634e-03],\n",
       "        [-2.0159e-03],\n",
       "        [-2.0211e-03],\n",
       "        [-5.3570e-05],\n",
       "        [-2.0224e-03],\n",
       "        [-2.2964e-03],\n",
       "        [-2.6195e-03],\n",
       "        [-7.9833e-04],\n",
       "        [ 2.6497e-02],\n",
       "        [ 8.6710e-03],\n",
       "        [ 1.7445e-03],\n",
       "        [-1.2222e-03],\n",
       "        [ 3.4191e-03],\n",
       "        [-1.0840e-03],\n",
       "        [ 1.6134e-02],\n",
       "        [ 1.6531e-02],\n",
       "        [ 1.4251e-03],\n",
       "        [-3.5886e-04],\n",
       "        [-1.9647e-03],\n",
       "        [ 2.9900e-04],\n",
       "        [ 1.0050e-02],\n",
       "        [ 2.5557e-03],\n",
       "        [ 9.6098e-03],\n",
       "        [ 2.7028e-02],\n",
       "        [ 3.9000e-02],\n",
       "        [ 3.6594e-02],\n",
       "        [ 6.6411e-03],\n",
       "        [ 1.3942e-02],\n",
       "        [ 2.3399e-03],\n",
       "        [ 9.2691e-03],\n",
       "        [-1.7777e-03],\n",
       "        [-1.2585e-03],\n",
       "        [-1.7553e-03],\n",
       "        [-1.2655e-03],\n",
       "        [-1.7411e-03],\n",
       "        [-1.7311e-03],\n",
       "        [-1.7211e-03],\n",
       "        [-3.1107e-03],\n",
       "        [ 2.1007e-03],\n",
       "        [-8.4307e-05],\n",
       "        [-1.6849e-03],\n",
       "        [-1.6781e-03],\n",
       "        [-1.6741e-03],\n",
       "        [-6.6354e-04],\n",
       "        [ 1.0453e-02],\n",
       "        [ 3.1899e-02],\n",
       "        [ 6.5857e-03],\n",
       "        [-3.4065e-03],\n",
       "        [-1.7362e-03],\n",
       "        [-1.7593e-03],\n",
       "        [ 1.7219e-02],\n",
       "        [ 6.3848e-03],\n",
       "        [-4.8261e-03],\n",
       "        [ 1.6356e-03],\n",
       "        [ 1.1249e-02],\n",
       "        [ 2.5198e-02],\n",
       "        [ 2.9472e-03],\n",
       "        [-1.0326e-03],\n",
       "        [ 4.5219e-04],\n",
       "        [-1.0343e-03],\n",
       "        [ 8.6563e-03],\n",
       "        [ 7.7654e-03],\n",
       "        [ 2.7457e-03],\n",
       "        [ 4.8067e-02],\n",
       "        [ 3.9844e-03],\n",
       "        [ 2.2174e-02],\n",
       "        [ 7.4461e-04],\n",
       "        [ 5.6448e-03],\n",
       "        [ 3.2266e-03],\n",
       "        [ 1.5164e-03],\n",
       "        [ 1.1738e-02],\n",
       "        [ 4.2485e-03],\n",
       "        [ 5.7400e-03],\n",
       "        [ 8.8530e-04],\n",
       "        [ 4.4474e-04],\n",
       "        [ 4.4023e-04],\n",
       "        [-3.7033e-03],\n",
       "        [ 2.6288e-04],\n",
       "        [-2.3916e-03],\n",
       "        [-2.3999e-03],\n",
       "        [ 1.5928e-02],\n",
       "        [-2.4165e-03],\n",
       "        [ 3.2307e-02],\n",
       "        [ 7.5240e-04],\n",
       "        [ 2.5085e-03],\n",
       "        [ 5.5763e-03],\n",
       "        [ 2.7221e-02],\n",
       "        [ 1.0311e-02],\n",
       "        [-2.4508e-03],\n",
       "        [-6.9136e-04],\n",
       "        [-1.6552e-03],\n",
       "        [-8.4856e-04],\n",
       "        [-1.6604e-03],\n",
       "        [-9.9590e-04],\n",
       "        [ 3.0683e-03],\n",
       "        [-3.4229e-03],\n",
       "        [-1.1282e-03],\n",
       "        [-8.9277e-04],\n",
       "        [-2.5539e-03],\n",
       "        [ 1.7072e-01],\n",
       "        [ 2.9713e-02],\n",
       "        [ 8.8388e-02],\n",
       "        [ 2.8960e-02],\n",
       "        [ 1.8307e-02],\n",
       "        [ 1.3000e-02],\n",
       "        [ 1.6545e-02],\n",
       "        [ 3.3335e-02],\n",
       "        [ 1.4057e-02],\n",
       "        [ 1.3208e-02],\n",
       "        [ 4.5677e-02],\n",
       "        [ 8.3549e-03],\n",
       "        [ 2.5478e-02],\n",
       "        [ 1.3304e-03],\n",
       "        [-1.8390e-03],\n",
       "        [ 1.9244e-02],\n",
       "        [ 2.0112e-02],\n",
       "        [ 2.0215e-02],\n",
       "        [ 3.4999e-02],\n",
       "        [ 1.9638e-02],\n",
       "        [ 2.9674e-02],\n",
       "        [-3.0064e-03],\n",
       "        [ 3.2069e-02],\n",
       "        [ 2.7319e-02],\n",
       "        [ 1.3854e-02],\n",
       "        [ 4.8774e-02],\n",
       "        [ 1.1005e-02],\n",
       "        [ 3.4891e-02],\n",
       "        [ 2.0638e-03],\n",
       "        [ 2.6197e-03],\n",
       "        [ 1.4799e-02],\n",
       "        [ 7.6028e-03],\n",
       "        [ 1.2332e-02],\n",
       "        [ 4.2726e-02],\n",
       "        [ 1.6706e-03],\n",
       "        [ 4.0390e-02],\n",
       "        [-7.4503e-04],\n",
       "        [-2.8087e-03],\n",
       "        [ 6.4876e-03]], device='cuda:0')"
      ]
     },
     "execution_count": 52,
     "metadata": {},
     "output_type": "execute_result"
    }
   ],
   "source": [
    "y_interp"
   ]
  },
  {
   "cell_type": "markdown",
   "metadata": {},
   "source": [
    "<span style=\"font-size: 110%;color:#0c343d;background:#fff2cc\"> By substituting other independent variables, you can get a vector of output variables\n",
    "We choose a random record from the tensor"
   ]
  },
  {
   "cell_type": "code",
   "execution_count": 53,
   "metadata": {},
   "outputs": [
    {
     "data": {
      "text/plain": [
       "0    8.0\n",
       "1    4.0\n",
       "2    7.0\n",
       "Name: y_interp, dtype: float32"
      ]
     },
     "execution_count": 53,
     "metadata": {},
     "output_type": "execute_result"
    }
   ],
   "source": [
    "y_interp = y_interp*100\n",
    "foka = y_interp.cpu().detach().numpy()\n",
    "df11 = pd.DataFrame(foka)\n",
    "df11.columns = ['y_interp']\n",
    "df11=np.round(df11.y_interp)\n",
    "df11.head(3)"
   ]
  },
  {
   "cell_type": "code",
   "execution_count": 54,
   "metadata": {},
   "outputs": [
    {
     "data": {
      "text/html": [
       "<div>\n",
       "<style scoped>\n",
       "    .dataframe tbody tr th:only-of-type {\n",
       "        vertical-align: middle;\n",
       "    }\n",
       "\n",
       "    .dataframe tbody tr th {\n",
       "        vertical-align: top;\n",
       "    }\n",
       "\n",
       "    .dataframe thead th {\n",
       "        text-align: right;\n",
       "    }\n",
       "</style>\n",
       "<table border=\"1\" class=\"dataframe\">\n",
       "  <thead>\n",
       "    <tr style=\"text-align: right;\">\n",
       "      <th></th>\n",
       "      <th>y</th>\n",
       "    </tr>\n",
       "  </thead>\n",
       "  <tbody>\n",
       "    <tr>\n",
       "      <td>0</td>\n",
       "      <td>7.0</td>\n",
       "    </tr>\n",
       "    <tr>\n",
       "      <td>1</td>\n",
       "      <td>4.0</td>\n",
       "    </tr>\n",
       "    <tr>\n",
       "      <td>2</td>\n",
       "      <td>14.0</td>\n",
       "    </tr>\n",
       "  </tbody>\n",
       "</table>\n",
       "</div>"
      ],
      "text/plain": [
       "      y\n",
       "0   7.0\n",
       "1   4.0\n",
       "2  14.0"
      ]
     },
     "execution_count": 54,
     "metadata": {},
     "output_type": "execute_result"
    }
   ],
   "source": [
    "ytest = ytest*100\n",
    "foka = ytest.cpu().detach().numpy()\n",
    "df_t = pd.DataFrame(foka)\n",
    "df_t.columns = ['y']\n",
    "df_t.head(3)"
   ]
  },
  {
   "cell_type": "code",
   "execution_count": 55,
   "metadata": {},
   "outputs": [
    {
     "data": {
      "text/html": [
       "<div>\n",
       "<style scoped>\n",
       "    .dataframe tbody tr th:only-of-type {\n",
       "        vertical-align: middle;\n",
       "    }\n",
       "\n",
       "    .dataframe tbody tr th {\n",
       "        vertical-align: top;\n",
       "    }\n",
       "\n",
       "    .dataframe thead th {\n",
       "        text-align: right;\n",
       "    }\n",
       "</style>\n",
       "<table border=\"1\" class=\"dataframe\">\n",
       "  <thead>\n",
       "    <tr style=\"text-align: right;\">\n",
       "      <th></th>\n",
       "      <th>y</th>\n",
       "      <th>y_interp</th>\n",
       "    </tr>\n",
       "  </thead>\n",
       "  <tbody>\n",
       "    <tr>\n",
       "      <td>808</td>\n",
       "      <td>0.0</td>\n",
       "      <td>-0.0</td>\n",
       "    </tr>\n",
       "    <tr>\n",
       "      <td>809</td>\n",
       "      <td>0.0</td>\n",
       "      <td>-0.0</td>\n",
       "    </tr>\n",
       "    <tr>\n",
       "      <td>810</td>\n",
       "      <td>0.0</td>\n",
       "      <td>1.0</td>\n",
       "    </tr>\n",
       "  </tbody>\n",
       "</table>\n",
       "</div>"
      ],
      "text/plain": [
       "       y  y_interp\n",
       "808  0.0      -0.0\n",
       "809  0.0      -0.0\n",
       "810  0.0       1.0"
      ]
     },
     "execution_count": 55,
     "metadata": {},
     "output_type": "execute_result"
    }
   ],
   "source": [
    "NOWA = pd.merge(df_t,df11, how='inner', left_index=True, right_index=True)\n",
    "NOWA.tail(3)"
   ]
  },
  {
   "cell_type": "code",
   "execution_count": 56,
   "metadata": {},
   "outputs": [],
   "source": [
    "NOWA.to_csv('/home/wojciech/Pulpit/7/NOWA.csv')"
   ]
  },
  {
   "cell_type": "code",
   "execution_count": 57,
   "metadata": {},
   "outputs": [
    {
     "data": {
      "text/plain": [
       "Text(0.5, 1.0, 'COURSE OF THE PROJECTING PROCESS ON THE TEST SET')"
      ]
     },
     "execution_count": 57,
     "metadata": {},
     "output_type": "execute_result"
    },
    {
     "data": {
      "image/png": "[encoded data removed]",
      "text/plain": [
       "<Figure size 1152x144 with 1 Axes>"
      ]
     },
     "metadata": {
      "needs_background": "light"
     },
     "output_type": "display_data"
    }
   ],
   "source": [
    "fig, ax = plt.subplots( figsize=(16, 2))\n",
    "for ewa in ['y', 'y_interp']:\n",
    "    ax.plot(NOWA, label=ewa)\n",
    "    \n",
    "ax.set_xlim(13, 150)\n",
    "#ax.legend()\n",
    "ax.set_ylabel('Parameter')\n",
    "ax.set_title('COURSE OF THE PROJECTING PROCESS ON THE TEST SET')"
   ]
  },
  {
   "cell_type": "code",
   "execution_count": 58,
   "metadata": {},
   "outputs": [
    {
     "data": {
      "text/plain": [
       "<seaborn.axisgrid.FacetGrid at 0x7f3729f85790>"
      ]
     },
     "execution_count": 58,
     "metadata": {},
     "output_type": "execute_result"
    },
    {
     "data": {
      "text/plain": [
       "<Figure size 432x288 with 0 Axes>"
      ]
     },
     "metadata": {},
     "output_type": "display_data"
    },
    {
     "data": {
      "image/png": "[encoded data removed]",
      "text/plain": [
       "<Figure size 1152x360 with 2 Axes>"
      ]
     },
     "metadata": {
      "needs_background": "light"
     },
     "output_type": "display_data"
    },
    {
     "data": {
      "image/png": "[encoded data removed]",
      "text/plain": [
       "<Figure size 360x360 with 1 Axes>"
      ]
     },
     "metadata": {
      "needs_background": "light"
     },
     "output_type": "display_data"
    }
   ],
   "source": [
    "## marginesy\n",
    "plt.subplots_adjust( left = None , bottom = None , right = None , top = None , wspace = None , hspace = None )\n",
    "plt.figure(figsize=(16,5))\n",
    "ax = plt.subplot(1, 2, 1)\n",
    "NOWA.plot.kde(ax=ax, legend=True, title='Histogram: y vs. y_interp')\n",
    "NOWA.plot.hist(density=True,bins=40, ax=ax, alpha=0.3)\n",
    "ax.set_title(\"Dystributions\")\n",
    "\n",
    "ax = plt.subplot(1, 2, 2)\n",
    "sns.boxplot(data = NOWA)\n",
    "plt.xticks(rotation=-90)\n",
    "ax.set_title(\"Boxes\")\n",
    "\n",
    "\n",
    "sns.lmplot(data=NOWA, x='y', y='y_interp')"
   ]
  },
  {
   "cell_type": "markdown",
   "metadata": {},
   "source": [
    "<span style=\"font-size: 160%;color:#0c343d;background:#fff2cc\"> Regression_Assessment"
   ]
  },
  {
   "cell_type": "code",
   "execution_count": 59,
   "metadata": {},
   "outputs": [],
   "source": [
    "## Robi ocenę tylko dla jednej zmiennej\n",
    "\n",
    "def Regression_Assessment(y, y_pred):\n",
    "    \n",
    "    from sklearn.metrics import r2_score \n",
    "    import scipy.stats as stats\n",
    "    from statsmodels.graphics.gofplots import qqplot\n",
    "    from matplotlib import pyplot\n",
    "       \n",
    "    print('-----two methods--------------')\n",
    "    SS_Residual = sum((y-y_pred)**2)       \n",
    "    SS_Total = sum((y-np.mean(y))**2)     \n",
    "    r_squared = 1 - (float(SS_Residual))/SS_Total\n",
    "    adjusted_r_squared = 1 - (1-r_squared)*(len(y)-1)/(len(y)-Xtrain.shape[1]-1)\n",
    "    print('r2_score:           %0.3f' % r_squared)\n",
    "    #print('adjusted_r_squared: %0.3f' % adjusted_r_squared)\n",
    "    #print('----r2_score------secound-method--------')  \n",
    "    print('r2_score:           %0.3f' % r2_score(y, y_pred))  \n",
    "    print()\n",
    "    print('-------------------------------')\n",
    "    MAE = (abs(y-y_pred)).mean()\n",
    "    print('Mean absolute error     MAE:  %0.2f ' %  MAE)\n",
    "    RMSE = np.sqrt(((y-y_pred)**2).mean())\n",
    "    print('Root mean squared error RMSE: %0.2f ' %  RMSE)\n",
    "    pt = (100*(y-y_pred))/y\n",
    "    MAPE = (abs(pt)).mean()\n",
    "    print('Mean absolute error     MAPE: %0.2f ' %  MAPE)\n",
    "    print('-------------------------------')\n",
    "    \n",
    "    stat,pvalue0 = stats.ttest_1samp(a=(y-y_pred),popmean=0.0)\n",
    "\n",
    "    if pvalue0 > 0.01:\n",
    "        print('t-test H0: the sum of the model residuals is zero')\n",
    "        print('OKAY! Model remains do not differ from zero - pvalue:% 0.4f> 0.01 (we do NOT reject H0)'% pvalue0) \n",
    "    else:     \n",
    "        print('Bad - Model remains DIFFERENT FROM ZERO - pvalue:% 0.4f <0.01 (We reject H0)'% pvalue0)  \n",
    "    print('--------------------------------------------------------------------------------------------') \n",
    "  \n",
    "       \n",
    "    stat,pvalue2_1 = stats.shapiro(y)\n",
    "    stat,pvalue2_2 = stats.shapiro(y_pred)\n",
    "\n",
    "    if pvalue2_1 > 0.01:\n",
    "        #print('Shapiro-Wilk H0: y have normal distribution?--------------------------------')\n",
    "        print('OK Shapiro-Wolf! y have normal distribution - pvalue:% 0.4f> 0.01 (we do NOT reject H0)'% pvalue2_1) \n",
    "    else:     \n",
    "        print('Bad Shapiro-Wilk - y NO NORMAL DISTRIBUTION - pvalue:% 0.4f <0.01 (We reject H0)'% pvalue2_1)  \n",
    "        print('--------------------------------------------------------------------------------------------')\n",
    "    if pvalue2_2 > 0.01:\n",
    "        #print('Shapiro-Wilk: y_pred have a normal distribution?--')\n",
    "        print('OK Shapiro-Wolf! y_pred has a normal distribution - pvalue:% 0.4f> 0.01 (we do NOT reject h0)'% pvalue2_2) \n",
    "    else:     \n",
    "        print('Bad Shapiro-Wilk y_pred NO NORMAL DISTRIBUTION - pvalue:% 0.4f <0.01 (We reject H0)'% pvalue2_2)  \n",
    "    \n",
    "    qqplot(y, line='s')\n",
    "    pyplot.show()\n",
    "\n",
    "    qqplot(y_pred, line='s')\n",
    "    pyplot.show()\n",
    "       \n",
    "    print('--------------------------------------------------------------------------------------------')\n",
    "        \n",
    "    stat,pvalue3 = stats.kruskal(y_pred,y)\n",
    "    stat,pvalue4 = stats.f_oneway(y_pred,y)\n",
    "\n",
    "    if pvalue2_1 < 0.01 or pvalue2_2 < 0.01:\n",
    "        print('Shapiro-Vilk: Variables are not normally distributed! Cant do ANOV analysis')\n",
    "     \n",
    "        if pvalue3 > 0.01:\n",
    "            print('Kruskal-Wallis NON-PARAMETRIC TEST: whether empirical forecast and observations. have equal means?')\n",
    "            print('OKAY! Kruskal-Wallis H0: forecast and observations empir. have equal means - pvalue:% 0.4f> 0.01 (we do NOT reject H0)'% pvalue3) \n",
    "        else:     \n",
    "            print('Bad - Kruskal-Wallis: forecast and observations empir. DO NOT HAVE EQUAL Averages - pvalue:% 0.4f <0.01 (We reject H0)'% pvalue3)  \n",
    "    \n",
    "    else:\n",
    "\n",
    "        if pvalue4 > 0.01:\n",
    "            print('F-test (ANOVA): whether empirical forecast and observations. have equal means?--------------------------------')\n",
    "            print('OKAY! forecast and observations empir. have equal means - pvalue:% 0.4f> 0.01 (we do NOT reject H0)'% pvalue4) \n",
    "        else:     \n",
    "            print('Bad - forecast and observations empir. DO NOT HAVE EQUAL Averages - pvalue:% 0.4f <0.01 (We reject H0)'% pvalue4)  \n",
    "    print('--------------------------------------------------------------------------------------------')"
   ]
  },
  {
   "cell_type": "code",
   "execution_count": 60,
   "metadata": {},
   "outputs": [
    {
     "name": "stdout",
     "output_type": "stream",
     "text": [
      "-----two methods--------------\n",
      "r2_score:           0.900\n",
      "r2_score:           0.900\n",
      "\n",
      "-------------------------------\n",
      "Mean absolute error     MAE:  2.15 \n",
      "Root mean squared error RMSE: 3.55 \n",
      "Mean absolute error     MAPE: inf \n",
      "-------------------------------\n",
      "t-test H0: the sum of the model residuals is zero\n",
      "OKAY! Model remains do not differ from zero - pvalue: 0.0395> 0.01 (we do NOT reject H0)\n",
      "--------------------------------------------------------------------------------------------\n",
      "Bad Shapiro-Wilk - y NO NORMAL DISTRIBUTION - pvalue: 0.0000 <0.01 (We reject H0)\n",
      "--------------------------------------------------------------------------------------------\n",
      "Bad Shapiro-Wilk y_pred NO NORMAL DISTRIBUTION - pvalue: 0.0000 <0.01 (We reject H0)\n"
     ]
    },
    {
     "data": {
      "image/png": "[encoded data removed]",
      "text/plain": [
       "<Figure size 432x288 with 1 Axes>"
      ]
     },
     "metadata": {
      "needs_background": "light"
     },
     "output_type": "display_data"
    },
    {
     "data": {
      "image/png": "[encoded data removed]",
      "text/plain": [
       "<Figure size 432x288 with 1 Axes>"
      ]
     },
     "metadata": {
      "needs_background": "light"
     },
     "output_type": "display_data"
    },
    {
     "name": "stdout",
     "output_type": "stream",
     "text": [
      "--------------------------------------------------------------------------------------------\n",
      "Shapiro-Vilk: Variables are not normally distributed! Cant do ANOV analysis\n",
      "Kruskal-Wallis NON-PARAMETRIC TEST: whether empirical forecast and observations. have equal means?\n",
      "OKAY! Kruskal-Wallis H0: forecast and observations empir. have equal means - pvalue: 0.4208> 0.01 (we do NOT reject H0)\n",
      "--------------------------------------------------------------------------------------------\n"
     ]
    }
   ],
   "source": [
    "y = NOWA['y']\n",
    "y_interp = NOWA['y_interp']\n",
    "\n",
    "Regression_Assessment(y, y_interp)"
   ]
  },
  {
   "cell_type": "markdown",
   "metadata": {},
   "source": [
    "<span style=\"font-size: 160%;color:#0c343d;background:#fff2cc\"> I choose quotes from the period 46-52 weeks is a super test period (7 weeks)\n"
   ]
  },
  {
   "cell_type": "code",
   "execution_count": 61,
   "metadata": {},
   "outputs": [
    {
     "data": {
      "text/html": [
       "<div>\n",
       "<style scoped>\n",
       "    .dataframe tbody tr th:only-of-type {\n",
       "        vertical-align: middle;\n",
       "    }\n",
       "\n",
       "    .dataframe tbody tr th {\n",
       "        vertical-align: top;\n",
       "    }\n",
       "\n",
       "    .dataframe thead th {\n",
       "        text-align: right;\n",
       "    }\n",
       "</style>\n",
       "<table border=\"1\" class=\"dataframe\">\n",
       "  <thead>\n",
       "    <tr style=\"text-align: right;\">\n",
       "      <th></th>\n",
       "      <th>Product_Code</th>\n",
       "      <th>Week</th>\n",
       "      <th>Sales</th>\n",
       "      <th>Sales_last_1_week</th>\n",
       "      <th>Sales_last_2_week</th>\n",
       "      <th>Sales_last_3_week</th>\n",
       "      <th>Sales_last_4_week</th>\n",
       "      <th>Sales_last_5_week</th>\n",
       "      <th>Sales_last_6_week</th>\n",
       "      <th>Sales_last_7_week</th>\n",
       "      <th>Diff_sales_last_1_week</th>\n",
       "      <th>Diff_sales_last_2_week</th>\n",
       "      <th>Diff_sales_last_3_week</th>\n",
       "      <th>Diff_sales_last_4_week</th>\n",
       "      <th>Diff_sales_last_5_week</th>\n",
       "      <th>Diff_sales_last_6_week</th>\n",
       "      <th>Diff_sales_last_7_week</th>\n",
       "    </tr>\n",
       "  </thead>\n",
       "  <tbody>\n",
       "    <tr>\n",
       "      <td>36495</td>\n",
       "      <td>1</td>\n",
       "      <td>45</td>\n",
       "      <td>10</td>\n",
       "      <td>8.0</td>\n",
       "      <td>7.0</td>\n",
       "      <td>4.0</td>\n",
       "      <td>11.0</td>\n",
       "      <td>7.0</td>\n",
       "      <td>17.0</td>\n",
       "      <td>12.0</td>\n",
       "      <td>1.0</td>\n",
       "      <td>3.0</td>\n",
       "      <td>-7.0</td>\n",
       "      <td>4.0</td>\n",
       "      <td>-10.0</td>\n",
       "      <td>5.0</td>\n",
       "      <td>3.0</td>\n",
       "    </tr>\n",
       "    <tr>\n",
       "      <td>36496</td>\n",
       "      <td>2</td>\n",
       "      <td>45</td>\n",
       "      <td>1</td>\n",
       "      <td>5.0</td>\n",
       "      <td>4.0</td>\n",
       "      <td>2.0</td>\n",
       "      <td>5.0</td>\n",
       "      <td>2.0</td>\n",
       "      <td>3.0</td>\n",
       "      <td>7.0</td>\n",
       "      <td>1.0</td>\n",
       "      <td>2.0</td>\n",
       "      <td>-3.0</td>\n",
       "      <td>3.0</td>\n",
       "      <td>-1.0</td>\n",
       "      <td>-4.0</td>\n",
       "      <td>5.0</td>\n",
       "    </tr>\n",
       "    <tr>\n",
       "      <td>36497</td>\n",
       "      <td>3</td>\n",
       "      <td>45</td>\n",
       "      <td>5</td>\n",
       "      <td>5.0</td>\n",
       "      <td>14.0</td>\n",
       "      <td>6.0</td>\n",
       "      <td>5.0</td>\n",
       "      <td>3.0</td>\n",
       "      <td>9.0</td>\n",
       "      <td>12.0</td>\n",
       "      <td>-9.0</td>\n",
       "      <td>8.0</td>\n",
       "      <td>1.0</td>\n",
       "      <td>2.0</td>\n",
       "      <td>-6.0</td>\n",
       "      <td>-3.0</td>\n",
       "      <td>0.0</td>\n",
       "    </tr>\n",
       "    <tr>\n",
       "      <td>36498</td>\n",
       "      <td>4</td>\n",
       "      <td>45</td>\n",
       "      <td>4</td>\n",
       "      <td>3.0</td>\n",
       "      <td>10.0</td>\n",
       "      <td>9.0</td>\n",
       "      <td>6.0</td>\n",
       "      <td>12.0</td>\n",
       "      <td>8.0</td>\n",
       "      <td>8.0</td>\n",
       "      <td>-7.0</td>\n",
       "      <td>1.0</td>\n",
       "      <td>3.0</td>\n",
       "      <td>-6.0</td>\n",
       "      <td>4.0</td>\n",
       "      <td>0.0</td>\n",
       "      <td>2.0</td>\n",
       "    </tr>\n",
       "  </tbody>\n",
       "</table>\n",
       "</div>"
      ],
      "text/plain": [
       "       Product_Code  Week  Sales  Sales_last_1_week  Sales_last_2_week  \\\n",
       "36495             1    45     10                8.0                7.0   \n",
       "36496             2    45      1                5.0                4.0   \n",
       "36497             3    45      5                5.0               14.0   \n",
       "36498             4    45      4                3.0               10.0   \n",
       "\n",
       "       Sales_last_3_week  Sales_last_4_week  Sales_last_5_week  \\\n",
       "36495                4.0               11.0                7.0   \n",
       "36496                2.0                5.0                2.0   \n",
       "36497                6.0                5.0                3.0   \n",
       "36498                9.0                6.0               12.0   \n",
       "\n",
       "       Sales_last_6_week  Sales_last_7_week  Diff_sales_last_1_week  \\\n",
       "36495               17.0               12.0                     1.0   \n",
       "36496                3.0                7.0                     1.0   \n",
       "36497                9.0               12.0                    -9.0   \n",
       "36498                8.0                8.0                    -7.0   \n",
       "\n",
       "       Diff_sales_last_2_week  Diff_sales_last_3_week  Diff_sales_last_4_week  \\\n",
       "36495                     3.0                    -7.0                     4.0   \n",
       "36496                     2.0                    -3.0                     3.0   \n",
       "36497                     8.0                     1.0                     2.0   \n",
       "36498                     1.0                     3.0                    -6.0   \n",
       "\n",
       "       Diff_sales_last_5_week  Diff_sales_last_6_week  Diff_sales_last_7_week  \n",
       "36495                   -10.0                     5.0                     3.0  \n",
       "36496                    -1.0                    -4.0                     5.0  \n",
       "36497                    -6.0                    -3.0                     0.0  \n",
       "36498                     4.0                     0.0                     2.0  "
      ]
     },
     "execution_count": 61,
     "metadata": {},
     "output_type": "execute_result"
    }
   ],
   "source": [
    "SuperTest = df2[df2.Week.isin([45,46,47,48,49,50,51,52])] \n",
    "SuperTest.head(4)"
   ]
  },
  {
   "cell_type": "markdown",
   "metadata": {},
   "source": [
    "<span style=\"font-size: 140%;background: white;font-weight:normal;color:#1155cc\">Only the first 10 products"
   ]
  },
  {
   "cell_type": "code",
   "execution_count": 62,
   "metadata": {},
   "outputs": [
    {
     "data": {
      "text/html": [
       "<div>\n",
       "<style scoped>\n",
       "    .dataframe tbody tr th:only-of-type {\n",
       "        vertical-align: middle;\n",
       "    }\n",
       "\n",
       "    .dataframe tbody tr th {\n",
       "        vertical-align: top;\n",
       "    }\n",
       "\n",
       "    .dataframe thead th {\n",
       "        text-align: right;\n",
       "    }\n",
       "</style>\n",
       "<table border=\"1\" class=\"dataframe\">\n",
       "  <thead>\n",
       "    <tr style=\"text-align: right;\">\n",
       "      <th></th>\n",
       "      <th>Product_Code</th>\n",
       "      <th>Week</th>\n",
       "      <th>Sales</th>\n",
       "      <th>Sales_last_1_week</th>\n",
       "      <th>Sales_last_2_week</th>\n",
       "      <th>Sales_last_3_week</th>\n",
       "      <th>Sales_last_4_week</th>\n",
       "      <th>Sales_last_5_week</th>\n",
       "      <th>Sales_last_6_week</th>\n",
       "      <th>Sales_last_7_week</th>\n",
       "      <th>Diff_sales_last_1_week</th>\n",
       "      <th>Diff_sales_last_2_week</th>\n",
       "      <th>Diff_sales_last_3_week</th>\n",
       "      <th>Diff_sales_last_4_week</th>\n",
       "      <th>Diff_sales_last_5_week</th>\n",
       "      <th>Diff_sales_last_6_week</th>\n",
       "      <th>Diff_sales_last_7_week</th>\n",
       "    </tr>\n",
       "  </thead>\n",
       "  <tbody>\n",
       "    <tr>\n",
       "      <td>36495</td>\n",
       "      <td>1</td>\n",
       "      <td>45</td>\n",
       "      <td>10</td>\n",
       "      <td>8.0</td>\n",
       "      <td>7.0</td>\n",
       "      <td>4.0</td>\n",
       "      <td>11.0</td>\n",
       "      <td>7.0</td>\n",
       "      <td>17.0</td>\n",
       "      <td>12.0</td>\n",
       "      <td>1.0</td>\n",
       "      <td>3.0</td>\n",
       "      <td>-7.0</td>\n",
       "      <td>4.0</td>\n",
       "      <td>-10.0</td>\n",
       "      <td>5.0</td>\n",
       "      <td>3.0</td>\n",
       "    </tr>\n",
       "    <tr>\n",
       "      <td>36496</td>\n",
       "      <td>2</td>\n",
       "      <td>45</td>\n",
       "      <td>1</td>\n",
       "      <td>5.0</td>\n",
       "      <td>4.0</td>\n",
       "      <td>2.0</td>\n",
       "      <td>5.0</td>\n",
       "      <td>2.0</td>\n",
       "      <td>3.0</td>\n",
       "      <td>7.0</td>\n",
       "      <td>1.0</td>\n",
       "      <td>2.0</td>\n",
       "      <td>-3.0</td>\n",
       "      <td>3.0</td>\n",
       "      <td>-1.0</td>\n",
       "      <td>-4.0</td>\n",
       "      <td>5.0</td>\n",
       "    </tr>\n",
       "    <tr>\n",
       "      <td>36497</td>\n",
       "      <td>3</td>\n",
       "      <td>45</td>\n",
       "      <td>5</td>\n",
       "      <td>5.0</td>\n",
       "      <td>14.0</td>\n",
       "      <td>6.0</td>\n",
       "      <td>5.0</td>\n",
       "      <td>3.0</td>\n",
       "      <td>9.0</td>\n",
       "      <td>12.0</td>\n",
       "      <td>-9.0</td>\n",
       "      <td>8.0</td>\n",
       "      <td>1.0</td>\n",
       "      <td>2.0</td>\n",
       "      <td>-6.0</td>\n",
       "      <td>-3.0</td>\n",
       "      <td>0.0</td>\n",
       "    </tr>\n",
       "    <tr>\n",
       "      <td>36498</td>\n",
       "      <td>4</td>\n",
       "      <td>45</td>\n",
       "      <td>4</td>\n",
       "      <td>3.0</td>\n",
       "      <td>10.0</td>\n",
       "      <td>9.0</td>\n",
       "      <td>6.0</td>\n",
       "      <td>12.0</td>\n",
       "      <td>8.0</td>\n",
       "      <td>8.0</td>\n",
       "      <td>-7.0</td>\n",
       "      <td>1.0</td>\n",
       "      <td>3.0</td>\n",
       "      <td>-6.0</td>\n",
       "      <td>4.0</td>\n",
       "      <td>0.0</td>\n",
       "      <td>2.0</td>\n",
       "    </tr>\n",
       "  </tbody>\n",
       "</table>\n",
       "</div>"
      ],
      "text/plain": [
       "       Product_Code  Week  Sales  Sales_last_1_week  Sales_last_2_week  \\\n",
       "36495             1    45     10                8.0                7.0   \n",
       "36496             2    45      1                5.0                4.0   \n",
       "36497             3    45      5                5.0               14.0   \n",
       "36498             4    45      4                3.0               10.0   \n",
       "\n",
       "       Sales_last_3_week  Sales_last_4_week  Sales_last_5_week  \\\n",
       "36495                4.0               11.0                7.0   \n",
       "36496                2.0                5.0                2.0   \n",
       "36497                6.0                5.0                3.0   \n",
       "36498                9.0                6.0               12.0   \n",
       "\n",
       "       Sales_last_6_week  Sales_last_7_week  Diff_sales_last_1_week  \\\n",
       "36495               17.0               12.0                     1.0   \n",
       "36496                3.0                7.0                     1.0   \n",
       "36497                9.0               12.0                    -9.0   \n",
       "36498                8.0                8.0                    -7.0   \n",
       "\n",
       "       Diff_sales_last_2_week  Diff_sales_last_3_week  Diff_sales_last_4_week  \\\n",
       "36495                     3.0                    -7.0                     4.0   \n",
       "36496                     2.0                    -3.0                     3.0   \n",
       "36497                     8.0                     1.0                     2.0   \n",
       "36498                     1.0                     3.0                    -6.0   \n",
       "\n",
       "       Diff_sales_last_5_week  Diff_sales_last_6_week  Diff_sales_last_7_week  \n",
       "36495                   -10.0                     5.0                     3.0  \n",
       "36496                    -1.0                    -4.0                     5.0  \n",
       "36497                    -6.0                    -3.0                     0.0  \n",
       "36498                     4.0                     0.0                     2.0  "
      ]
     },
     "execution_count": 62,
     "metadata": {},
     "output_type": "execute_result"
    }
   ],
   "source": [
    "SuperTest = SuperTest[SuperTest['Product_Code']<=10]\n",
    "SuperTest.head(4)"
   ]
  },
  {
   "cell_type": "code",
   "execution_count": 63,
   "metadata": {},
   "outputs": [],
   "source": [
    "X12 = SuperTest.drop(['Sales'],1)\n",
    "y12 = SuperTest['Sales']"
   ]
  },
  {
   "cell_type": "code",
   "execution_count": 64,
   "metadata": {},
   "outputs": [
    {
     "name": "stdout",
     "output_type": "stream",
     "text": [
      "1.0 0.0\n"
     ]
    }
   ],
   "source": [
    "from sklearn.preprocessing import StandardScaler\n",
    "\n",
    "sc = StandardScaler()\n",
    "X12 = sc.fit_transform(X12)\n",
    "\n",
    "print(np.round(X12.std(), decimals=2), np.round(X12.mean(), decimals=2))"
   ]
  },
  {
   "cell_type": "code",
   "execution_count": 65,
   "metadata": {},
   "outputs": [
    {
     "name": "stdout",
     "output_type": "stream",
     "text": [
      "tensor([[-1.5667, -1.5000,  0.1181, -0.1114, -0.7443,  0.8469, -0.0588,  2.0706,\n",
      "          1.0159,  0.2390,  0.6188, -1.5582,  0.8636, -2.0934,  1.1355,  0.7781],\n",
      "        [-1.2185, -1.5000, -0.5179, -0.7272, -1.1839, -0.5372, -1.2027, -0.9626,\n",
      "         -0.1423,  0.2390,  0.4012, -0.6750,  0.6438, -0.1737, -0.8406,  1.2517],\n",
      "        [-0.8704, -1.5000, -0.5179,  1.3254, -0.3046, -0.5372, -0.9740,  0.3374,\n",
      "          1.0159, -1.9341,  1.7072,  0.2082,  0.4239, -1.2402, -0.6211,  0.0677]],\n",
      "       device='cuda:0')\n"
     ]
    }
   ],
   "source": [
    "X12 = torch.tensor(X12)\n",
    "X12 = X12.type(torch.FloatTensor).cuda()\n",
    "print(X12[:3])"
   ]
  },
  {
   "cell_type": "code",
   "execution_count": 66,
   "metadata": {},
   "outputs": [
    {
     "name": "stdout",
     "output_type": "stream",
     "text": [
      "---------------------\n",
      "0.05 0.08\n"
     ]
    }
   ],
   "source": [
    "y12 = (y12/ 100)  # max test score is 100\n",
    "#print(y.head(3))\n",
    "print('---------------------')\n",
    "print(np.round(y12.std(), decimals=2), np.round(y12.mean(), decimals=2))"
   ]
  },
  {
   "cell_type": "code",
   "execution_count": 67,
   "metadata": {},
   "outputs": [
    {
     "data": {
      "text/plain": [
       "(70,)"
      ]
     },
     "execution_count": 67,
     "metadata": {},
     "output_type": "execute_result"
    }
   ],
   "source": [
    "y12.shape"
   ]
  },
  {
   "cell_type": "code",
   "execution_count": 68,
   "metadata": {},
   "outputs": [],
   "source": [
    "y12 = y12.values"
   ]
  },
  {
   "cell_type": "code",
   "execution_count": 69,
   "metadata": {},
   "outputs": [
    {
     "name": "stdout",
     "output_type": "stream",
     "text": [
      "tensor([0.1000, 0.0100, 0.0500], device='cuda:0', dtype=torch.float64)\n"
     ]
    }
   ],
   "source": [
    "y12 = torch.tensor(y12).cuda()\n",
    "print(y12[:3])"
   ]
  },
  {
   "cell_type": "code",
   "execution_count": 70,
   "metadata": {},
   "outputs": [],
   "source": [
    "y12 = y12.type(torch.FloatTensor).cuda()"
   ]
  },
  {
   "cell_type": "code",
   "execution_count": 71,
   "metadata": {},
   "outputs": [
    {
     "name": "stdout",
     "output_type": "stream",
     "text": [
      "X12: torch.Size([70, 16])\n",
      "y12: torch.Size([70])\n"
     ]
    }
   ],
   "source": [
    "print('X12:',X12.shape)\n",
    "print('y12:',y12.shape)"
   ]
  },
  {
   "cell_type": "code",
   "execution_count": 72,
   "metadata": {},
   "outputs": [
    {
     "name": "stdout",
     "output_type": "stream",
     "text": [
      "X12: tensor([[-1.5667, -1.5000,  0.1181, -0.1114, -0.7443,  0.8469, -0.0588,  2.0706,\n",
      "          1.0159,  0.2390,  0.6188, -1.5582,  0.8636, -2.0934,  1.1355,  0.7781],\n",
      "        [-1.2185, -1.5000, -0.5179, -0.7272, -1.1839, -0.5372, -1.2027, -0.9626,\n",
      "         -0.1423,  0.2390,  0.4012, -0.6750,  0.6438, -0.1737, -0.8406,  1.2517],\n",
      "        [-0.8704, -1.5000, -0.5179,  1.3254, -0.3046, -0.5372, -0.9740,  0.3374,\n",
      "          1.0159, -1.9341,  1.7072,  0.2082,  0.4239, -1.2402, -0.6211,  0.0677]],\n",
      "       device='cuda:0')\n",
      "y12: tensor([0.1000, 0.0100, 0.0500], device='cuda:0')\n"
     ]
    }
   ],
   "source": [
    "print('X12:',X12[:3])\n",
    "print('y12:',y12[:3])"
   ]
  },
  {
   "cell_type": "code",
   "execution_count": 73,
   "metadata": {},
   "outputs": [
    {
     "name": "stdout",
     "output_type": "stream",
     "text": [
      "Loss train_set: 55.41877747\n"
     ]
    }
   ],
   "source": [
    "with torch.no_grad():\n",
    "    y_model = KOT(X12)  \n",
    "    loss = (y_model - y12).pow(2).sum()\n",
    "\n",
    "    print(f'Loss train_set: {loss:.8f}')"
   ]
  },
  {
   "cell_type": "code",
   "execution_count": 74,
   "metadata": {},
   "outputs": [
    {
     "data": {
      "text/plain": [
       "0    15.0\n",
       "1     0.0\n",
       "2    11.0\n",
       "Name: y_model, dtype: float32"
      ]
     },
     "execution_count": 74,
     "metadata": {},
     "output_type": "execute_result"
    }
   ],
   "source": [
    "y_model = y_model*100\n",
    "foka = y_model.cpu().detach().numpy()\n",
    "df11 = pd.DataFrame(foka)\n",
    "df11.columns = ['y_model']\n",
    "df11=np.round(df11.y_model)\n",
    "df11=df11.abs()\n",
    "df11.head(3)"
   ]
  },
  {
   "cell_type": "code",
   "execution_count": 75,
   "metadata": {},
   "outputs": [
    {
     "data": {
      "text/html": [
       "<div>\n",
       "<style scoped>\n",
       "    .dataframe tbody tr th:only-of-type {\n",
       "        vertical-align: middle;\n",
       "    }\n",
       "\n",
       "    .dataframe tbody tr th {\n",
       "        vertical-align: top;\n",
       "    }\n",
       "\n",
       "    .dataframe thead th {\n",
       "        text-align: right;\n",
       "    }\n",
       "</style>\n",
       "<table border=\"1\" class=\"dataframe\">\n",
       "  <thead>\n",
       "    <tr style=\"text-align: right;\">\n",
       "      <th></th>\n",
       "      <th>y_model</th>\n",
       "    </tr>\n",
       "  </thead>\n",
       "  <tbody>\n",
       "    <tr>\n",
       "      <td>0</td>\n",
       "      <td>15.0</td>\n",
       "    </tr>\n",
       "    <tr>\n",
       "      <td>1</td>\n",
       "      <td>0.0</td>\n",
       "    </tr>\n",
       "    <tr>\n",
       "      <td>2</td>\n",
       "      <td>11.0</td>\n",
       "    </tr>\n",
       "    <tr>\n",
       "      <td>3</td>\n",
       "      <td>10.0</td>\n",
       "    </tr>\n",
       "    <tr>\n",
       "      <td>4</td>\n",
       "      <td>8.0</td>\n",
       "    </tr>\n",
       "  </tbody>\n",
       "</table>\n",
       "</div>"
      ],
      "text/plain": [
       "   y_model\n",
       "0     15.0\n",
       "1      0.0\n",
       "2     11.0\n",
       "3     10.0\n",
       "4      8.0"
      ]
     },
     "execution_count": 75,
     "metadata": {},
     "output_type": "execute_result"
    }
   ],
   "source": [
    "df11 = pd.DataFrame(df11)\n",
    "df11.head(5)"
   ]
  },
  {
   "cell_type": "code",
   "execution_count": 76,
   "metadata": {},
   "outputs": [
    {
     "name": "stdout",
     "output_type": "stream",
     "text": [
      "tensor([0.1000, 0.0100, 0.0500], device='cuda:0')\n"
     ]
    }
   ],
   "source": [
    "print(y12[:3])"
   ]
  },
  {
   "cell_type": "code",
   "execution_count": 77,
   "metadata": {},
   "outputs": [
    {
     "name": "stdout",
     "output_type": "stream",
     "text": [
      "tensor([0.1000, 0.0100, 0.0500])\n"
     ]
    }
   ],
   "source": [
    "y12 = torch.tensor(y12,device='cpu')\n",
    "print(y12[:3])"
   ]
  },
  {
   "cell_type": "code",
   "execution_count": null,
   "metadata": {},
   "outputs": [],
   "source": []
  },
  {
   "cell_type": "code",
   "execution_count": 78,
   "metadata": {},
   "outputs": [
    {
     "data": {
      "text/html": [
       "<div>\n",
       "<style scoped>\n",
       "    .dataframe tbody tr th:only-of-type {\n",
       "        vertical-align: middle;\n",
       "    }\n",
       "\n",
       "    .dataframe tbody tr th {\n",
       "        vertical-align: top;\n",
       "    }\n",
       "\n",
       "    .dataframe thead th {\n",
       "        text-align: right;\n",
       "    }\n",
       "</style>\n",
       "<table border=\"1\" class=\"dataframe\">\n",
       "  <thead>\n",
       "    <tr style=\"text-align: right;\">\n",
       "      <th></th>\n",
       "      <th>y12</th>\n",
       "    </tr>\n",
       "  </thead>\n",
       "  <tbody>\n",
       "    <tr>\n",
       "      <td>0</td>\n",
       "      <td>10.0</td>\n",
       "    </tr>\n",
       "    <tr>\n",
       "      <td>1</td>\n",
       "      <td>1.0</td>\n",
       "    </tr>\n",
       "    <tr>\n",
       "      <td>2</td>\n",
       "      <td>5.0</td>\n",
       "    </tr>\n",
       "    <tr>\n",
       "      <td>3</td>\n",
       "      <td>4.0</td>\n",
       "    </tr>\n",
       "    <tr>\n",
       "      <td>4</td>\n",
       "      <td>12.0</td>\n",
       "    </tr>\n",
       "  </tbody>\n",
       "</table>\n",
       "</div>"
      ],
      "text/plain": [
       "    y12\n",
       "0  10.0\n",
       "1   1.0\n",
       "2   5.0\n",
       "3   4.0\n",
       "4  12.0"
      ]
     },
     "execution_count": 78,
     "metadata": {},
     "output_type": "execute_result"
    }
   ],
   "source": [
    "y12 = y12*100\n",
    "#y12 = np.round(y12)\n",
    "foka = y12.detach().numpy()\n",
    "df_t = pd.DataFrame(foka)\n",
    "df_t.columns = ['y12']\n",
    "df_t.head(5)"
   ]
  },
  {
   "cell_type": "code",
   "execution_count": 79,
   "metadata": {},
   "outputs": [
    {
     "data": {
      "text/html": [
       "<div>\n",
       "<style scoped>\n",
       "    .dataframe tbody tr th:only-of-type {\n",
       "        vertical-align: middle;\n",
       "    }\n",
       "\n",
       "    .dataframe tbody tr th {\n",
       "        vertical-align: top;\n",
       "    }\n",
       "\n",
       "    .dataframe thead th {\n",
       "        text-align: right;\n",
       "    }\n",
       "</style>\n",
       "<table border=\"1\" class=\"dataframe\">\n",
       "  <thead>\n",
       "    <tr style=\"text-align: right;\">\n",
       "      <th></th>\n",
       "      <th>y12</th>\n",
       "      <th>y_model</th>\n",
       "    </tr>\n",
       "  </thead>\n",
       "  <tbody>\n",
       "    <tr>\n",
       "      <td>0</td>\n",
       "      <td>10.0</td>\n",
       "      <td>15.0</td>\n",
       "    </tr>\n",
       "    <tr>\n",
       "      <td>1</td>\n",
       "      <td>1.0</td>\n",
       "      <td>0.0</td>\n",
       "    </tr>\n",
       "    <tr>\n",
       "      <td>2</td>\n",
       "      <td>5.0</td>\n",
       "      <td>11.0</td>\n",
       "    </tr>\n",
       "  </tbody>\n",
       "</table>\n",
       "</div>"
      ],
      "text/plain": [
       "    y12  y_model\n",
       "0  10.0     15.0\n",
       "1   1.0      0.0\n",
       "2   5.0     11.0"
      ]
     },
     "execution_count": 79,
     "metadata": {},
     "output_type": "execute_result"
    }
   ],
   "source": [
    "Super_NOWA = pd.merge(df_t,df11, how='inner', left_index=True, right_index=True)\n",
    "Super_NOWA.head(3)"
   ]
  },
  {
   "cell_type": "code",
   "execution_count": 80,
   "metadata": {},
   "outputs": [
    {
     "data": {
      "text/plain": [
       "Text(0.5, 1.0, 'COURSE OF THE PROJECTING PROCESS ON THE TEST SET')"
      ]
     },
     "execution_count": 80,
     "metadata": {},
     "output_type": "execute_result"
    },
    {
     "data": {
      "image/png": "[encoded data removed]",
      "text/plain": [
       "<Figure size 1152x144 with 1 Axes>"
      ]
     },
     "metadata": {
      "needs_background": "light"
     },
     "output_type": "display_data"
    }
   ],
   "source": [
    "import matplotlib.pyplot as plt\n",
    "\n",
    "fig, ax = plt.subplots( figsize=(16, 2))\n",
    "for ewa in ['y12', 'y_model']:\n",
    "    ax.plot(Super_NOWA, label=ewa)\n",
    "    \n",
    "ax.set_xlim(0, 70)\n",
    "#ax.legend()\n",
    "ax.set_ylabel('Parameter')\n",
    "ax.set_title('COURSE OF THE PROJECTING PROCESS ON THE TEST SET')"
   ]
  },
  {
   "cell_type": "code",
   "execution_count": 81,
   "metadata": {},
   "outputs": [
    {
     "data": {
      "text/plain": [
       "<seaborn.axisgrid.FacetGrid at 0x7f3728498e50>"
      ]
     },
     "execution_count": 81,
     "metadata": {},
     "output_type": "execute_result"
    },
    {
     "data": {
      "text/plain": [
       "<Figure size 432x288 with 0 Axes>"
      ]
     },
     "metadata": {},
     "output_type": "display_data"
    },
    {
     "data": {
      "image/png": "[encoded data removed]",
      "text/plain": [
       "<Figure size 1152x360 with 2 Axes>"
      ]
     },
     "metadata": {
      "needs_background": "light"
     },
     "output_type": "display_data"
    },
    {
     "data": {
      "image/png": "[encoded data removed]",
      "text/plain": [
       "<Figure size 360x360 with 1 Axes>"
      ]
     },
     "metadata": {
      "needs_background": "light"
     },
     "output_type": "display_data"
    }
   ],
   "source": [
    "## marginesy\n",
    "plt.subplots_adjust( left = None , bottom = None , right = None , top = None , wspace = None , hspace = None )\n",
    "plt.figure(figsize=(16,5))\n",
    "ax = plt.subplot(1, 2, 1)\n",
    "Super_NOWA.plot.kde(ax=ax, legend=True, title='Histogram: y12 vs. y_model')\n",
    "Super_NOWA.plot.hist(density=True,bins=40, ax=ax, alpha=0.3)\n",
    "ax.set_title(\"Dystributions\")\n",
    "\n",
    "ax = plt.subplot(1, 2, 2)\n",
    "sns.boxplot(data = Super_NOWA)\n",
    "plt.xticks(rotation=-90)\n",
    "ax.set_title(\"Boxes\")\n",
    "\n",
    "\n",
    "sns.lmplot(data=Super_NOWA, x='y12', y='y_model')"
   ]
  },
  {
   "cell_type": "code",
   "execution_count": 82,
   "metadata": {},
   "outputs": [
    {
     "name": "stdout",
     "output_type": "stream",
     "text": [
      "-----two methods--------------\n",
      "r2_score:           -0.517\n",
      "r2_score:           -0.517\n",
      "\n",
      "-------------------------------\n",
      "Mean absolute error     MAE:  4.27 \n",
      "Root mean squared error RMSE: 6.13 \n",
      "Mean absolute error     MAPE: inf \n",
      "-------------------------------\n",
      "t-test H0: the sum of the model residuals is zero\n",
      "OKAY! Model remains do not differ from zero - pvalue: 0.0108> 0.01 (we do NOT reject H0)\n",
      "--------------------------------------------------------------------------------------------\n",
      "Bad Shapiro-Wilk - y NO NORMAL DISTRIBUTION - pvalue: 0.0001 <0.01 (We reject H0)\n",
      "--------------------------------------------------------------------------------------------\n",
      "Bad Shapiro-Wilk y_pred NO NORMAL DISTRIBUTION - pvalue: 0.0000 <0.01 (We reject H0)\n"
     ]
    },
    {
     "data": {
      "image/png": "[encoded data removed]",
      "text/plain": [
       "<Figure size 432x288 with 1 Axes>"
      ]
     },
     "metadata": {
      "needs_background": "light"
     },
     "output_type": "display_data"
    },
    {
     "data": {
      "image/png": "[encoded data removed]",
      "text/plain": [
       "<Figure size 432x288 with 1 Axes>"
      ]
     },
     "metadata": {
      "needs_background": "light"
     },
     "output_type": "display_data"
    },
    {
     "name": "stdout",
     "output_type": "stream",
     "text": [
      "--------------------------------------------------------------------------------------------\n",
      "Shapiro-Vilk: Variables are not normally distributed! Cant do ANOV analysis\n",
      "Kruskal-Wallis NON-PARAMETRIC TEST: whether empirical forecast and observations. have equal means?\n",
      "OKAY! Kruskal-Wallis H0: forecast and observations empir. have equal means - pvalue: 0.2486> 0.01 (we do NOT reject H0)\n",
      "--------------------------------------------------------------------------------------------\n"
     ]
    }
   ],
   "source": [
    "y = Super_NOWA['y12']\n",
    "y_pred = Super_NOWA['y_model']\n",
    "\n",
    "Regression_Assessment(y, y_pred)"
   ]
  }
 ],
 "metadata": {
  "kernelspec": {
   "display_name": "Python 3",
   "language": "python",
   "name": "python3"
  },
  "language_info": {
   "codemirror_mode": {
    "name": "ipython",
    "version": 3
   },
   "file_extension": ".py",
   "mimetype": "text/x-python",
   "name": "python",
   "nbconvert_exporter": "python",
   "pygments_lexer": "ipython3",
   "version": "3.7.4"
  }
 },
 "nbformat": 4,
 "nbformat_minor": 2
}
